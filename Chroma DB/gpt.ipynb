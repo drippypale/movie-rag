{
  "cells": [
    {
      "cell_type": "code",
      "execution_count": 2,
      "metadata": {
        "id": "K99tK0T8qiAL"
      },
      "outputs": [],
      "source": [
        "%%capture\n",
        "!pip install chromadb\n",
        "!pip install openai"
      ]
    },
    {
      "cell_type": "code",
      "execution_count": 3,
      "metadata": {
        "id": "JmoQYINYsk2c"
      },
      "outputs": [],
      "source": [
        "from chromadb.utils.embedding_functions import OpenAIEmbeddingFunction\n",
        "import os\n",
        "import chromadb\n",
        "from google.colab import drive\n",
        "import pandas as pd\n",
        "import time\n",
        "from openai import OpenAI\n"
      ]
    },
    {
      "cell_type": "code",
      "execution_count": 4,
      "metadata": {
        "colab": {
          "base_uri": "https://localhost:8080/"
        },
        "id": "JccnI8_N16Ml",
        "outputId": "2e39f7ac-78cb-4d13-aa5e-e18e400c3052"
      },
      "outputs": [
        {
          "name": "stdout",
          "output_type": "stream",
          "text": [
            "Mounted at /content/drive\n"
          ]
        }
      ],
      "source": [
        "drive.mount('/content/drive')"
      ]
    },
    {
      "cell_type": "code",
      "execution_count": 5,
      "metadata": {
        "id": "VAWttvtMy7Of"
      },
      "outputs": [],
      "source": [
        "from drive.MyDrive.nlp.tools import extraction,prompt"
      ]
    },
    {
      "cell_type": "code",
      "execution_count": 6,
      "metadata": {
        "id": "XDc0jr-nxN8f"
      },
      "outputs": [],
      "source": [
        "df = pd.read_csv('./drive/MyDrive/nlp/final_dataset.csv')"
      ]
    },
    {
      "cell_type": "code",
      "execution_count": 7,
      "metadata": {
        "id": "1Byuke5TrM1b"
      },
      "outputs": [],
      "source": [
        "OPENAI_API_KEY = # put your key here\n",
        "os.environ['OPENAI_API_KEY'] = OPENAI_API_KEY"
      ]
    },
    {
      "cell_type": "code",
      "execution_count": 8,
      "metadata": {
        "id": "RpqQRqy1rmz-"
      },
      "outputs": [],
      "source": [
        "embeddings = OpenAIEmbeddingFunction(\n",
        "    api_key=OPENAI_API_KEY,\n",
        "    model_name=\"text-embedding-3-large\"\n",
        ")\n"
      ]
    },
    {
      "cell_type": "code",
      "execution_count": 9,
      "metadata": {
        "id": "hRxp8CIO8O-O"
      },
      "outputs": [],
      "source": [
        "chroma_client = chromadb.PersistentClient(path=\"/content/drive/MyDrive/nlp\")\n"
      ]
    },
    {
      "cell_type": "code",
      "execution_count": 10,
      "metadata": {
        "id": "eofDiZ4N9IXE"
      },
      "outputs": [],
      "source": [
        "collection = chroma_client.get_or_create_collection(name = \"open-ai\",embedding_function=embeddings)\n"
      ]
    },
    {
      "cell_type": "code",
      "execution_count": null,
      "metadata": {
        "colab": {
          "base_uri": "https://localhost:8080/"
        },
        "id": "O7l2GZNLQbsd",
        "outputId": "0716433e-a89f-4aec-b019-f1fa1115ac13"
      },
      "outputs": [
        {
          "name": "stdout",
          "output_type": "stream",
          "text": [
            "item : 0\n",
            "item : 300\n",
            "item : 600\n",
            "item : 900\n",
            "item : 1200\n",
            "item : 1500\n",
            "item : 1800\n",
            "item : 2100\n",
            "item : 2400\n",
            "item : 2700\n",
            "item : 3000\n",
            "item : 3300\n",
            "item : 3600\n",
            "item : 3900\n",
            "item : 4200\n",
            "item : 4500\n",
            "item : 4800\n",
            "item : 5100\n",
            "item : 5400\n",
            "item : 5700\n",
            "item : 6000\n",
            "item : 6300\n",
            "item : 6600\n",
            "item : 6900\n",
            "item : 7200\n",
            "item : 7500\n",
            "item : 7800\n",
            "item : 8100\n",
            "item : 8400\n",
            "item : 8700\n",
            "item : 9000\n",
            "item : 9300\n"
          ]
        }
      ],
      "source": [
        "totall = 0\n",
        "\n",
        "for index, row in df.iterrows():\n",
        "\n",
        "    if totall %300 == 0:\n",
        "      print('item :',totall)\n",
        "\n",
        "\n",
        "    ids = [extraction.extrac_id(row)]\n",
        "    text = [prompt.create_promt_embeding(row)]\n",
        "    metadatas = [extraction.meta_data(row)]\n",
        "    collection.add(\n",
        "    documents=text,\n",
        "    metadatas=metadatas,\n",
        "    ids=ids\n",
        "    )\n",
        "    totall += 1"
      ]
    }
  ],
  "metadata": {
    "colab": {
      "provenance": []
    },
    "kernelspec": {
      "display_name": "Python 3",
      "name": "python3"
    },
    "language_info": {
      "name": "python"
    }
  },
  "nbformat": 4,
  "nbformat_minor": 0
}

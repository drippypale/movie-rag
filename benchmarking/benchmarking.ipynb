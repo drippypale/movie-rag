{
  "cells": [
    {
      "cell_type": "markdown",
      "metadata": {
        "id": "CzyKTFpHfIlr"
      },
      "source": [
        "# Imports"
      ]
    },
    {
      "cell_type": "code",
      "execution_count": 2,
      "metadata": {
        "id": "YYu2W70pfJiG"
      },
      "outputs": [],
      "source": [
        "from google.colab import drive\n",
        "\n",
        "import os\n",
        "import time\n",
        "import ast\n",
        "import random\n",
        "\n",
        "import arabic_reshaper\n",
        "from bidi.algorithm import get_display\n",
        "\n",
        "import pandas as pd\n",
        "import numpy as np\n",
        "from tqdm import tqdm\n",
        "import matplotlib.pyplot as plt\n",
        "\n",
        "import chromadb\n",
        "from chromadb import Documents, EmbeddingFunction, Embeddings\n",
        "import chromadb.utils.embedding_functions as embedding_functions\n",
        "from chromadb.utils.embedding_functions import OpenAIEmbeddingFunction\n",
        "\n",
        "import fasttext\n",
        "\n",
        "from transformers import AutoConfig, AutoTokenizer, AutoModel\n",
        "\n",
        "import extraction\n",
        "import prompt"
      ]
    },
    {
      "cell_type": "code",
      "execution_count": 3,
      "metadata": {
        "colab": {
          "base_uri": "https://localhost:8080/"
        },
        "id": "iHxt7dKUTu5G",
        "outputId": "5fb651e2-3c68-435f-bbce-3bd00ad2d271"
      },
      "outputs": [
        {
          "name": "stdout",
          "output_type": "stream",
          "text": [
            "Mounted at /content/gdrive\n"
          ]
        }
      ],
      "source": [
        "drive.mount('/content/gdrive')"
      ]
    },
    {
      "cell_type": "code",
      "execution_count": 30,
      "metadata": {
        "id": "qQg9Ywn7Vi3i"
      },
      "outputs": [],
      "source": [
        "SEED = 42\n",
        "EVALUATION_SET_SIZE = 100\n",
        "OPENAI_API_KEY = '#############################' # Hidden\n",
        "COHERE_API_KEY = '#############################' # Hidden"
      ]
    },
    {
      "cell_type": "code",
      "execution_count": 27,
      "metadata": {
        "id": "PvrgnTYMRjIF"
      },
      "outputs": [],
      "source": [
        "os.environ['OPENAI_API_KEY'] = OPENAI_API_KEY"
      ]
    },
    {
      "cell_type": "markdown",
      "metadata": {
        "id": "scN84QLYI7kb"
      },
      "source": [
        "# Evaluation Set"
      ]
    },
    {
      "cell_type": "markdown",
      "metadata": {
        "id": "39ZdPs--JLrY"
      },
      "source": [
        "## IMDB Similars"
      ]
    },
    {
      "cell_type": "code",
      "execution_count": 6,
      "metadata": {
        "id": "teYQ49SbT0bB"
      },
      "outputs": [],
      "source": [
        "imdb_df = pd.read_csv('/content/gdrive/MyDrive/Colab Notebooks/NLP/Project/Dataset/validation_dataset.csv')"
      ]
    },
    {
      "cell_type": "code",
      "execution_count": 7,
      "metadata": {
        "id": "HmT0lQ8boUup"
      },
      "outputs": [],
      "source": [
        "imdb_df['idf'] = imdb_df['idf'].apply(lambda idf: int(idf[2:]))"
      ]
    },
    {
      "cell_type": "code",
      "execution_count": 8,
      "metadata": {
        "id": "DR5xfrmmqhmu"
      },
      "outputs": [],
      "source": [
        "imdb_df['similar_movies'] = imdb_df['similar_movies'].apply(lambda x: ast.literal_eval(x))"
      ]
    },
    {
      "cell_type": "code",
      "execution_count": 9,
      "metadata": {
        "id": "I48DwB9boQ4E"
      },
      "outputs": [],
      "source": [
        "imdb_df['similar_movies_idf'] = imdb_df['similar_movies'].apply(lambda similar_movies: [int(x[1][2:]) for x in similar_movies])"
      ]
    },
    {
      "cell_type": "code",
      "execution_count": 10,
      "metadata": {
        "id": "oRO2C2s1VJyJ"
      },
      "outputs": [],
      "source": [
        "imdb_evaluation_set = imdb_df.sample(n=EVALUATION_SET_SIZE,\n",
        "                                     random_state=SEED)"
      ]
    },
    {
      "cell_type": "code",
      "execution_count": 11,
      "metadata": {
        "colab": {
          "base_uri": "https://localhost:8080/",
          "height": 672
        },
        "id": "szrQuthuKCEU",
        "outputId": "8ff71af9-59af-47e5-f052-d4bf466f1461"
      },
      "outputs": [
        {
          "data": {
            "application/vnd.google.colaboratory.intrinsic+json": {
              "type": "dataframe",
              "variable_name": "imdb_evaluation_set"
            },
            "text/html": [
              "\n",
              "  <div id=\"df-3be2c861-9780-4b0b-867d-bafb79ffb864\" class=\"colab-df-container\">\n",
              "    <div>\n",
              "<style scoped>\n",
              "    .dataframe tbody tr th:only-of-type {\n",
              "        vertical-align: middle;\n",
              "    }\n",
              "\n",
              "    .dataframe tbody tr th {\n",
              "        vertical-align: top;\n",
              "    }\n",
              "\n",
              "    .dataframe thead th {\n",
              "        text-align: right;\n",
              "    }\n",
              "</style>\n",
              "<table border=\"1\" class=\"dataframe\">\n",
              "  <thead>\n",
              "    <tr style=\"text-align: right;\">\n",
              "      <th></th>\n",
              "      <th>name</th>\n",
              "      <th>idf</th>\n",
              "      <th>name_fa</th>\n",
              "      <th>imdb_score</th>\n",
              "      <th>genres</th>\n",
              "      <th>release</th>\n",
              "      <th>countries</th>\n",
              "      <th>languages</th>\n",
              "      <th>directors</th>\n",
              "      <th>authors</th>\n",
              "      <th>...</th>\n",
              "      <th>actors</th>\n",
              "      <th>summary_kio</th>\n",
              "      <th>summary_digi</th>\n",
              "      <th>summary_tiny</th>\n",
              "      <th>summary_uptv</th>\n",
              "      <th>story</th>\n",
              "      <th>languages_fa</th>\n",
              "      <th>total_summary</th>\n",
              "      <th>similar_movies</th>\n",
              "      <th>similar_movies_idf</th>\n",
              "    </tr>\n",
              "  </thead>\n",
              "  <tbody>\n",
              "    <tr>\n",
              "      <th>525</th>\n",
              "      <td>Lost in Translation</td>\n",
              "      <td>335266</td>\n",
              "      <td>گمشده در ترجمه</td>\n",
              "      <td>7.7</td>\n",
              "      <td>['درام', 'کمدی']</td>\n",
              "      <td>2003</td>\n",
              "      <td>['آمریکا', 'ژاپن']</td>\n",
              "      <td>['English', 'Japanese', 'German', 'French']</td>\n",
              "      <td>['Sofia Coppola']</td>\n",
              "      <td>['Sofia Coppola']</td>\n",
              "      <td>...</td>\n",
              "      <td>['Scarlett Johansson', 'Bill Murray', 'Akiko T...</td>\n",
              "      <td>یک ستاره سینمایی و یک نو عروس افسرده که با هم ...</td>\n",
              "      <td>NaN</td>\n",
              "      <td>NaN</td>\n",
              "      <td>NaN</td>\n",
              "      <td>NaN</td>\n",
              "      <td>['انگلیسی', 'ژاپنی', 'آلمانی', 'فرانسوی']</td>\n",
              "      <td>یک ستاره سینمایی و یک نو عروس افسرده که با هم ...</td>\n",
              "      <td>[(Her, tt1798709), (Little Miss Sunshine, tt04...</td>\n",
              "      <td>[1798709, 449059, 467406, 7653254, 159097, 256...</td>\n",
              "    </tr>\n",
              "    <tr>\n",
              "      <th>357</th>\n",
              "      <td>Enemy of the State</td>\n",
              "      <td>120660</td>\n",
              "      <td>دشمن ملت</td>\n",
              "      <td>7.3</td>\n",
              "      <td>['اکشن', 'هیجان انگیز']</td>\n",
              "      <td>1998</td>\n",
              "      <td>['آمریکا']</td>\n",
              "      <td>['English']</td>\n",
              "      <td>['Tony Scott']</td>\n",
              "      <td>['David Marconi']</td>\n",
              "      <td>...</td>\n",
              "      <td>['Will Smith', 'Gene Hackman', 'Jon Voight', '...</td>\n",
              "      <td>«رابرت کلیتن دین» (اسمیت)، پدری مهربان، همسری ...</td>\n",
              "      <td>«رابرت کلیتن دین» (اسمیت)، پدری مهربان، همسری ...</td>\n",
              "      <td>NaN</td>\n",
              "      <td>فیلم دشمن حکومت Enemy of the State محصول کشور ...</td>\n",
              "      <td>در فیلم دشمن حکومت : «رابرت کلیتن دین» ، وکیل ...</td>\n",
              "      <td>['انگلیسی']</td>\n",
              "      <td>«رابرت کلیتن دین» (اسمیت)، پدری مهربان، همسری ...</td>\n",
              "      <td>[(Crimson Tide, tt0112740), (The Rock, tt01175...</td>\n",
              "      <td>[112740, 117500, 453467, 118880, 187078, 11909...</td>\n",
              "    </tr>\n",
              "    <tr>\n",
              "      <th>444</th>\n",
              "      <td>Husbands and Wives</td>\n",
              "      <td>104466</td>\n",
              "      <td>همسران و همسران</td>\n",
              "      <td>7.5</td>\n",
              "      <td>['درام', 'عاشقانه', 'کمدی']</td>\n",
              "      <td>1992</td>\n",
              "      <td>['آمریکا']</td>\n",
              "      <td>['English']</td>\n",
              "      <td>['Woody Allen']</td>\n",
              "      <td>['Woody Allen']</td>\n",
              "      <td>...</td>\n",
              "      <td>['Nick Metropolis', 'Woody Allen', 'Mia Farrow...</td>\n",
              "      <td>وقتی \"جک\" و \"سالی\" اعلام می کنند قصد دارند از ...</td>\n",
              "      <td>NaN</td>\n",
              "      <td>NaN</td>\n",
              "      <td>NaN</td>\n",
              "      <td>NaN</td>\n",
              "      <td>['انگلیسی']</td>\n",
              "      <td>وقتی \"جک\" و \"سالی\" اعلام می کنند قصد دارند از ...</td>\n",
              "      <td>[(Crimes and Misdemeanors, tt0097123), (Manhat...</td>\n",
              "      <td>[97123, 107507, 87003, 118954, 91167, 86637, 8...</td>\n",
              "    </tr>\n",
              "    <tr>\n",
              "      <th>31</th>\n",
              "      <td>Coco</td>\n",
              "      <td>2380307</td>\n",
              "      <td>کوکو</td>\n",
              "      <td>8.4</td>\n",
              "      <td>['آهنگ', 'انیمیشن', 'خانوادگی', 'رازآلود', 'فا...</td>\n",
              "      <td>2017</td>\n",
              "      <td>['آمریکا']</td>\n",
              "      <td>['English', 'Spanish']</td>\n",
              "      <td>['Adrian Molina', 'Lee Unkrich']</td>\n",
              "      <td>['Lee Unkrich', 'Jason Katz', 'Matthew Aldrich']</td>\n",
              "      <td>...</td>\n",
              "      <td>['Anthony Gonzalez', 'Gael García Bernal', 'Be...</td>\n",
              "      <td>پسر بچه ۱۲ ساله ای به نام Miguel که خانواده اش...</td>\n",
              "      <td>کوکو ، یک فیلم انیمیشنی ساخته شده توسط کمپانی ...</td>\n",
              "      <td>NaN</td>\n",
              "      <td>NaN</td>\n",
              "      <td>NaN</td>\n",
              "      <td>['انگلیسی', 'اسپانیایی']</td>\n",
              "      <td>کوکو ، یک فیلم انیمیشنی ساخته شده توسط کمپانی ...</td>\n",
              "      <td>[(Inside Out, tt2096673), (Up, tt1049413), (WA...</td>\n",
              "      <td>[2096673, 1049413, 910970, 382932, 198781, 114...</td>\n",
              "    </tr>\n",
              "    <tr>\n",
              "      <th>618</th>\n",
              "      <td>Papillon</td>\n",
              "      <td>70511</td>\n",
              "      <td>پاپیون</td>\n",
              "      <td>8.0</td>\n",
              "      <td>['بیوگرافی', 'جنایی', 'درام']</td>\n",
              "      <td>1973</td>\n",
              "      <td>['آمریکا', 'فرانسه']</td>\n",
              "      <td>['English', 'Spanish']</td>\n",
              "      <td>['Franklin J. Schaffner']</td>\n",
              "      <td>['Dalton Trumbo', 'Lorenzo Semple Jr.', 'Henri...</td>\n",
              "      <td>...</td>\n",
              "      <td>['Steve McQueen', 'Dustin Hoffman', 'Victor Jo...</td>\n",
              "      <td>«پاپیون» (استیو مک کویین) کسی است که جرم خود ر...</td>\n",
              "      <td>«پاپیون» کسی است که جرم خود را قبول ندارد، به ...</td>\n",
              "      <td>NaN</td>\n",
              "      <td>فیلم Papillon محصول کشور فرانسه و در ژانر بیوگ...</td>\n",
              "      <td>در فیلم پاپیون هنری چاریر یا پاپیون (استیو مک ...</td>\n",
              "      <td>['انگلیسی', 'اسپانیایی']</td>\n",
              "      <td>«پاپیون» کسی است که جرم خود را قبول ندارد، به ...</td>\n",
              "      <td>[(Papillon, tt5093026), (Butch Cassidy and the...</td>\n",
              "      <td>[5093026, 64115, 61722, 66999, 62765, 74860, 7...</td>\n",
              "    </tr>\n",
              "  </tbody>\n",
              "</table>\n",
              "<p>5 rows × 21 columns</p>\n",
              "</div>\n",
              "    <div class=\"colab-df-buttons\">\n",
              "\n",
              "  <div class=\"colab-df-container\">\n",
              "    <button class=\"colab-df-convert\" onclick=\"convertToInteractive('df-3be2c861-9780-4b0b-867d-bafb79ffb864')\"\n",
              "            title=\"Convert this dataframe to an interactive table.\"\n",
              "            style=\"display:none;\">\n",
              "\n",
              "  <svg xmlns=\"http://www.w3.org/2000/svg\" height=\"24px\" viewBox=\"0 -960 960 960\">\n",
              "    <path d=\"M120-120v-720h720v720H120Zm60-500h600v-160H180v160Zm220 220h160v-160H400v160Zm0 220h160v-160H400v160ZM180-400h160v-160H180v160Zm440 0h160v-160H620v160ZM180-180h160v-160H180v160Zm440 0h160v-160H620v160Z\"/>\n",
              "  </svg>\n",
              "    </button>\n",
              "\n",
              "  <style>\n",
              "    .colab-df-container {\n",
              "      display:flex;\n",
              "      gap: 12px;\n",
              "    }\n",
              "\n",
              "    .colab-df-convert {\n",
              "      background-color: #E8F0FE;\n",
              "      border: none;\n",
              "      border-radius: 50%;\n",
              "      cursor: pointer;\n",
              "      display: none;\n",
              "      fill: #1967D2;\n",
              "      height: 32px;\n",
              "      padding: 0 0 0 0;\n",
              "      width: 32px;\n",
              "    }\n",
              "\n",
              "    .colab-df-convert:hover {\n",
              "      background-color: #E2EBFA;\n",
              "      box-shadow: 0px 1px 2px rgba(60, 64, 67, 0.3), 0px 1px 3px 1px rgba(60, 64, 67, 0.15);\n",
              "      fill: #174EA6;\n",
              "    }\n",
              "\n",
              "    .colab-df-buttons div {\n",
              "      margin-bottom: 4px;\n",
              "    }\n",
              "\n",
              "    [theme=dark] .colab-df-convert {\n",
              "      background-color: #3B4455;\n",
              "      fill: #D2E3FC;\n",
              "    }\n",
              "\n",
              "    [theme=dark] .colab-df-convert:hover {\n",
              "      background-color: #434B5C;\n",
              "      box-shadow: 0px 1px 3px 1px rgba(0, 0, 0, 0.15);\n",
              "      filter: drop-shadow(0px 1px 2px rgba(0, 0, 0, 0.3));\n",
              "      fill: #FFFFFF;\n",
              "    }\n",
              "  </style>\n",
              "\n",
              "    <script>\n",
              "      const buttonEl =\n",
              "        document.querySelector('#df-3be2c861-9780-4b0b-867d-bafb79ffb864 button.colab-df-convert');\n",
              "      buttonEl.style.display =\n",
              "        google.colab.kernel.accessAllowed ? 'block' : 'none';\n",
              "\n",
              "      async function convertToInteractive(key) {\n",
              "        const element = document.querySelector('#df-3be2c861-9780-4b0b-867d-bafb79ffb864');\n",
              "        const dataTable =\n",
              "          await google.colab.kernel.invokeFunction('convertToInteractive',\n",
              "                                                    [key], {});\n",
              "        if (!dataTable) return;\n",
              "\n",
              "        const docLinkHtml = 'Like what you see? Visit the ' +\n",
              "          '<a target=\"_blank\" href=https://colab.research.google.com/notebooks/data_table.ipynb>data table notebook</a>'\n",
              "          + ' to learn more about interactive tables.';\n",
              "        element.innerHTML = '';\n",
              "        dataTable['output_type'] = 'display_data';\n",
              "        await google.colab.output.renderOutput(dataTable, element);\n",
              "        const docLink = document.createElement('div');\n",
              "        docLink.innerHTML = docLinkHtml;\n",
              "        element.appendChild(docLink);\n",
              "      }\n",
              "    </script>\n",
              "  </div>\n",
              "\n",
              "\n",
              "<div id=\"df-fb102a29-2e28-4126-9db7-79248a35ce55\">\n",
              "  <button class=\"colab-df-quickchart\" onclick=\"quickchart('df-fb102a29-2e28-4126-9db7-79248a35ce55')\"\n",
              "            title=\"Suggest charts\"\n",
              "            style=\"display:none;\">\n",
              "\n",
              "<svg xmlns=\"http://www.w3.org/2000/svg\" height=\"24px\"viewBox=\"0 0 24 24\"\n",
              "     width=\"24px\">\n",
              "    <g>\n",
              "        <path d=\"M19 3H5c-1.1 0-2 .9-2 2v14c0 1.1.9 2 2 2h14c1.1 0 2-.9 2-2V5c0-1.1-.9-2-2-2zM9 17H7v-7h2v7zm4 0h-2V7h2v10zm4 0h-2v-4h2v4z\"/>\n",
              "    </g>\n",
              "</svg>\n",
              "  </button>\n",
              "\n",
              "<style>\n",
              "  .colab-df-quickchart {\n",
              "      --bg-color: #E8F0FE;\n",
              "      --fill-color: #1967D2;\n",
              "      --hover-bg-color: #E2EBFA;\n",
              "      --hover-fill-color: #174EA6;\n",
              "      --disabled-fill-color: #AAA;\n",
              "      --disabled-bg-color: #DDD;\n",
              "  }\n",
              "\n",
              "  [theme=dark] .colab-df-quickchart {\n",
              "      --bg-color: #3B4455;\n",
              "      --fill-color: #D2E3FC;\n",
              "      --hover-bg-color: #434B5C;\n",
              "      --hover-fill-color: #FFFFFF;\n",
              "      --disabled-bg-color: #3B4455;\n",
              "      --disabled-fill-color: #666;\n",
              "  }\n",
              "\n",
              "  .colab-df-quickchart {\n",
              "    background-color: var(--bg-color);\n",
              "    border: none;\n",
              "    border-radius: 50%;\n",
              "    cursor: pointer;\n",
              "    display: none;\n",
              "    fill: var(--fill-color);\n",
              "    height: 32px;\n",
              "    padding: 0;\n",
              "    width: 32px;\n",
              "  }\n",
              "\n",
              "  .colab-df-quickchart:hover {\n",
              "    background-color: var(--hover-bg-color);\n",
              "    box-shadow: 0 1px 2px rgba(60, 64, 67, 0.3), 0 1px 3px 1px rgba(60, 64, 67, 0.15);\n",
              "    fill: var(--button-hover-fill-color);\n",
              "  }\n",
              "\n",
              "  .colab-df-quickchart-complete:disabled,\n",
              "  .colab-df-quickchart-complete:disabled:hover {\n",
              "    background-color: var(--disabled-bg-color);\n",
              "    fill: var(--disabled-fill-color);\n",
              "    box-shadow: none;\n",
              "  }\n",
              "\n",
              "  .colab-df-spinner {\n",
              "    border: 2px solid var(--fill-color);\n",
              "    border-color: transparent;\n",
              "    border-bottom-color: var(--fill-color);\n",
              "    animation:\n",
              "      spin 1s steps(1) infinite;\n",
              "  }\n",
              "\n",
              "  @keyframes spin {\n",
              "    0% {\n",
              "      border-color: transparent;\n",
              "      border-bottom-color: var(--fill-color);\n",
              "      border-left-color: var(--fill-color);\n",
              "    }\n",
              "    20% {\n",
              "      border-color: transparent;\n",
              "      border-left-color: var(--fill-color);\n",
              "      border-top-color: var(--fill-color);\n",
              "    }\n",
              "    30% {\n",
              "      border-color: transparent;\n",
              "      border-left-color: var(--fill-color);\n",
              "      border-top-color: var(--fill-color);\n",
              "      border-right-color: var(--fill-color);\n",
              "    }\n",
              "    40% {\n",
              "      border-color: transparent;\n",
              "      border-right-color: var(--fill-color);\n",
              "      border-top-color: var(--fill-color);\n",
              "    }\n",
              "    60% {\n",
              "      border-color: transparent;\n",
              "      border-right-color: var(--fill-color);\n",
              "    }\n",
              "    80% {\n",
              "      border-color: transparent;\n",
              "      border-right-color: var(--fill-color);\n",
              "      border-bottom-color: var(--fill-color);\n",
              "    }\n",
              "    90% {\n",
              "      border-color: transparent;\n",
              "      border-bottom-color: var(--fill-color);\n",
              "    }\n",
              "  }\n",
              "</style>\n",
              "\n",
              "  <script>\n",
              "    async function quickchart(key) {\n",
              "      const quickchartButtonEl =\n",
              "        document.querySelector('#' + key + ' button');\n",
              "      quickchartButtonEl.disabled = true;  // To prevent multiple clicks.\n",
              "      quickchartButtonEl.classList.add('colab-df-spinner');\n",
              "      try {\n",
              "        const charts = await google.colab.kernel.invokeFunction(\n",
              "            'suggestCharts', [key], {});\n",
              "      } catch (error) {\n",
              "        console.error('Error during call to suggestCharts:', error);\n",
              "      }\n",
              "      quickchartButtonEl.classList.remove('colab-df-spinner');\n",
              "      quickchartButtonEl.classList.add('colab-df-quickchart-complete');\n",
              "    }\n",
              "    (() => {\n",
              "      let quickchartButtonEl =\n",
              "        document.querySelector('#df-fb102a29-2e28-4126-9db7-79248a35ce55 button');\n",
              "      quickchartButtonEl.style.display =\n",
              "        google.colab.kernel.accessAllowed ? 'block' : 'none';\n",
              "    })();\n",
              "  </script>\n",
              "</div>\n",
              "    </div>\n",
              "  </div>\n"
            ],
            "text/plain": [
              "                    name      idf          name_fa  imdb_score  \\\n",
              "525  Lost in Translation   335266   گمشده در ترجمه         7.7   \n",
              "357   Enemy of the State   120660         دشمن ملت         7.3   \n",
              "444   Husbands and Wives   104466  همسران و همسران         7.5   \n",
              "31                  Coco  2380307             کوکو         8.4   \n",
              "618             Papillon    70511           پاپیون         8.0   \n",
              "\n",
              "                                                genres  release  \\\n",
              "525                                   ['درام', 'کمدی']     2003   \n",
              "357                            ['اکشن', 'هیجان انگیز']     1998   \n",
              "444                        ['درام', 'عاشقانه', 'کمدی']     1992   \n",
              "31   ['آهنگ', 'انیمیشن', 'خانوادگی', 'رازآلود', 'فا...     2017   \n",
              "618                      ['بیوگرافی', 'جنایی', 'درام']     1973   \n",
              "\n",
              "                countries                                    languages  \\\n",
              "525    ['آمریکا', 'ژاپن']  ['English', 'Japanese', 'German', 'French']   \n",
              "357            ['آمریکا']                                  ['English']   \n",
              "444            ['آمریکا']                                  ['English']   \n",
              "31             ['آمریکا']                       ['English', 'Spanish']   \n",
              "618  ['آمریکا', 'فرانسه']                       ['English', 'Spanish']   \n",
              "\n",
              "                            directors  \\\n",
              "525                 ['Sofia Coppola']   \n",
              "357                    ['Tony Scott']   \n",
              "444                   ['Woody Allen']   \n",
              "31   ['Adrian Molina', 'Lee Unkrich']   \n",
              "618         ['Franklin J. Schaffner']   \n",
              "\n",
              "                                               authors  ...  \\\n",
              "525                                  ['Sofia Coppola']  ...   \n",
              "357                                  ['David Marconi']  ...   \n",
              "444                                    ['Woody Allen']  ...   \n",
              "31    ['Lee Unkrich', 'Jason Katz', 'Matthew Aldrich']  ...   \n",
              "618  ['Dalton Trumbo', 'Lorenzo Semple Jr.', 'Henri...  ...   \n",
              "\n",
              "                                                actors  \\\n",
              "525  ['Scarlett Johansson', 'Bill Murray', 'Akiko T...   \n",
              "357  ['Will Smith', 'Gene Hackman', 'Jon Voight', '...   \n",
              "444  ['Nick Metropolis', 'Woody Allen', 'Mia Farrow...   \n",
              "31   ['Anthony Gonzalez', 'Gael García Bernal', 'Be...   \n",
              "618  ['Steve McQueen', 'Dustin Hoffman', 'Victor Jo...   \n",
              "\n",
              "                                           summary_kio  \\\n",
              "525  یک ستاره سینمایی و یک نو عروس افسرده که با هم ...   \n",
              "357  «رابرت کلیتن دین» (اسمیت)، پدری مهربان، همسری ...   \n",
              "444  وقتی \"جک\" و \"سالی\" اعلام می کنند قصد دارند از ...   \n",
              "31   پسر بچه ۱۲ ساله ای به نام Miguel که خانواده اش...   \n",
              "618  «پاپیون» (استیو مک کویین) کسی است که جرم خود ر...   \n",
              "\n",
              "                                          summary_digi summary_tiny  \\\n",
              "525                                                NaN          NaN   \n",
              "357  «رابرت کلیتن دین» (اسمیت)، پدری مهربان، همسری ...          NaN   \n",
              "444                                                NaN          NaN   \n",
              "31   کوکو ، یک فیلم انیمیشنی ساخته شده توسط کمپانی ...          NaN   \n",
              "618  «پاپیون» کسی است که جرم خود را قبول ندارد، به ...          NaN   \n",
              "\n",
              "                                          summary_uptv  \\\n",
              "525                                                NaN   \n",
              "357  فیلم دشمن حکومت Enemy of the State محصول کشور ...   \n",
              "444                                                NaN   \n",
              "31                                                 NaN   \n",
              "618  فیلم Papillon محصول کشور فرانسه و در ژانر بیوگ...   \n",
              "\n",
              "                                                 story  \\\n",
              "525                                                NaN   \n",
              "357  در فیلم دشمن حکومت : «رابرت کلیتن دین» ، وکیل ...   \n",
              "444                                                NaN   \n",
              "31                                                 NaN   \n",
              "618  در فیلم پاپیون هنری چاریر یا پاپیون (استیو مک ...   \n",
              "\n",
              "                                  languages_fa  \\\n",
              "525  ['انگلیسی', 'ژاپنی', 'آلمانی', 'فرانسوی']   \n",
              "357                                ['انگلیسی']   \n",
              "444                                ['انگلیسی']   \n",
              "31                    ['انگلیسی', 'اسپانیایی']   \n",
              "618                   ['انگلیسی', 'اسپانیایی']   \n",
              "\n",
              "                                         total_summary  \\\n",
              "525  یک ستاره سینمایی و یک نو عروس افسرده که با هم ...   \n",
              "357  «رابرت کلیتن دین» (اسمیت)، پدری مهربان، همسری ...   \n",
              "444  وقتی \"جک\" و \"سالی\" اعلام می کنند قصد دارند از ...   \n",
              "31   کوکو ، یک فیلم انیمیشنی ساخته شده توسط کمپانی ...   \n",
              "618  «پاپیون» کسی است که جرم خود را قبول ندارد، به ...   \n",
              "\n",
              "                                        similar_movies  \\\n",
              "525  [(Her, tt1798709), (Little Miss Sunshine, tt04...   \n",
              "357  [(Crimson Tide, tt0112740), (The Rock, tt01175...   \n",
              "444  [(Crimes and Misdemeanors, tt0097123), (Manhat...   \n",
              "31   [(Inside Out, tt2096673), (Up, tt1049413), (WA...   \n",
              "618  [(Papillon, tt5093026), (Butch Cassidy and the...   \n",
              "\n",
              "                                    similar_movies_idf  \n",
              "525  [1798709, 449059, 467406, 7653254, 159097, 256...  \n",
              "357  [112740, 117500, 453467, 118880, 187078, 11909...  \n",
              "444  [97123, 107507, 87003, 118954, 91167, 86637, 8...  \n",
              "31   [2096673, 1049413, 910970, 382932, 198781, 114...  \n",
              "618  [5093026, 64115, 61722, 66999, 62765, 74860, 7...  \n",
              "\n",
              "[5 rows x 21 columns]"
            ]
          },
          "execution_count": 11,
          "metadata": {},
          "output_type": "execute_result"
        }
      ],
      "source": [
        "imdb_evaluation_set.head()"
      ]
    },
    {
      "cell_type": "markdown",
      "metadata": {
        "id": "tH8gPL-pJRFV"
      },
      "source": [
        "## Genre Set"
      ]
    },
    {
      "cell_type": "code",
      "execution_count": 12,
      "metadata": {
        "id": "IUP1-Z9wytul"
      },
      "outputs": [],
      "source": [
        "database_df = pd.read_csv('/content/gdrive/MyDrive/Colab Notebooks/NLP/Project/chromadb/cohere/nlp/final_dataset.csv')"
      ]
    },
    {
      "cell_type": "code",
      "execution_count": 13,
      "metadata": {
        "id": "cLiFcj3LzGAe"
      },
      "outputs": [],
      "source": [
        "database_df['genres'] = database_df['genres'].apply(lambda x: ast.literal_eval(x))"
      ]
    },
    {
      "cell_type": "code",
      "execution_count": 14,
      "metadata": {
        "id": "yOT-bOjzzMvs"
      },
      "outputs": [],
      "source": [
        "database_exploded_df = database_df.explode('genres')"
      ]
    },
    {
      "cell_type": "code",
      "execution_count": 15,
      "metadata": {
        "colab": {
          "base_uri": "https://localhost:8080/"
        },
        "id": "SCKCpjeo01WL",
        "outputId": "74eaaade-ceb0-4d7d-9a9b-00e4f551cfb0"
      },
      "outputs": [
        {
          "data": {
            "text/plain": [
              "array(['درام', 'عاشقانه', 'آهنگ', 'مستند', 'ترسناک', 'هیجان انگیز',\n",
              "       'اکشن', 'کمدی', 'جنایی', 'رازآلود', 'فانتزی', 'ماجراجویی',\n",
              "       'بیوگرافی', 'انیمیشن', 'کوتاه', 'خانوادگی', 'علمی تخیلی', 'جنگی',\n",
              "       'موزیکال', 'ورزشی', 'تاریخی', 'وسترن', 'فیلم نوآر',\n",
              "       'تلویزیون واقع\\u200cنما', 'دلهره آور', 'تاک شو', 'اخبار'],\n",
              "      dtype=object)"
            ]
          },
          "execution_count": 15,
          "metadata": {},
          "output_type": "execute_result"
        }
      ],
      "source": [
        "genres = database_exploded_df['genres'].dropna().unique()\n",
        "genres"
      ]
    },
    {
      "cell_type": "code",
      "execution_count": 16,
      "metadata": {
        "colab": {
          "base_uri": "https://localhost:8080/"
        },
        "id": "hDuGqjgs08TO",
        "outputId": "0488749a-548e-4d93-dc1f-837d9a49fa86"
      },
      "outputs": [
        {
          "data": {
            "text/plain": [
              "['ماجراجویی',\n",
              " 'آهنگ',\n",
              " 'انیمیشن',\n",
              " 'جنگی',\n",
              " 'کوتاه',\n",
              " 'موزیکال',\n",
              " 'فانتزی',\n",
              " 'جنایی',\n",
              " 'علمی تخیلی',\n",
              " 'بیوگرافی']"
            ]
          },
          "execution_count": 16,
          "metadata": {},
          "output_type": "execute_result"
        }
      ],
      "source": [
        "random.seed(SEED + 5)\n",
        "genres_sample = random.sample(list(genres), k=10)\n",
        "genres_sample"
      ]
    },
    {
      "cell_type": "markdown",
      "metadata": {
        "id": "a3h4apzTUfkR"
      },
      "source": [
        "# Based on IMDB similars"
      ]
    },
    {
      "cell_type": "markdown",
      "metadata": {
        "id": "YCffYpQdQZGJ"
      },
      "source": [
        "## Metrics"
      ]
    },
    {
      "cell_type": "markdown",
      "metadata": {
        "id": "pUmCHxRpQUbJ"
      },
      "source": [
        "### IoU:"
      ]
    },
    {
      "cell_type": "code",
      "execution_count": 34,
      "metadata": {
        "id": "CrSVsxk7vIZD"
      },
      "outputs": [],
      "source": [
        "def imdb_iou(movie_id, similar_movies_retrieved):\n",
        "    imdb_similar = imdb_evaluation_set[imdb_evaluation_set['idf'] == movie_id]['similar_movies_idf'].tolist()[0]\n",
        "    if len(imdb_similar) > 0:\n",
        "        intersection = len(set(similar_movies_retrieved).intersection(set(imdb_similar + [movie_id])))\n",
        "        union = len(set(similar_movies_retrieved).union(set(imdb_similar)))\n",
        "        iou = intersection / union\n",
        "        return iou * 100\n",
        "    return 0"
      ]
    },
    {
      "cell_type": "markdown",
      "metadata": {
        "id": "sCZQN1ANQYTX"
      },
      "source": [
        "### Overlap:"
      ]
    },
    {
      "cell_type": "code",
      "execution_count": 35,
      "metadata": {
        "id": "dsxXDCe_Xdjt"
      },
      "outputs": [],
      "source": [
        "def imdb_intersection(movie_id, similar_movies_retrieved):\n",
        "    imdb_similar = imdb_evaluation_set[imdb_evaluation_set['idf'] == movie_id]['similar_movies_idf'].tolist()[0]\n",
        "    if len(imdb_similar) > 0:\n",
        "        intersection = len(set(similar_movies_retrieved).intersection(set(imdb_similar)))\n",
        "        return intersection\n",
        "    return 0"
      ]
    },
    {
      "cell_type": "markdown",
      "metadata": {
        "id": "b6F-zh0Af3l_"
      },
      "source": [
        "## Cohere"
      ]
    },
    {
      "cell_type": "code",
      "execution_count": 17,
      "metadata": {
        "id": "JzjE1kief481"
      },
      "outputs": [],
      "source": [
        "cohere_chroma_client = chromadb.PersistentClient(path=\"/content/gdrive/MyDrive/Colab Notebooks/NLP/Project/chromadb/cohere/nlp\")"
      ]
    },
    {
      "cell_type": "code",
      "execution_count": 18,
      "metadata": {
        "id": "e3lawIl9gM2q"
      },
      "outputs": [],
      "source": [
        "def create_coolectoin(api_key, chroma_client):\n",
        "  cohere_ef  = embedding_functions.CohereEmbeddingFunction(api_key=api_key,  model_name=\"embed-multilingual-v3.0\")\n",
        "  collection = chroma_client.get_or_create_collection(name = \"coher\", embedding_function=cohere_ef)\n",
        "  return  collection\n"
      ]
    },
    {
      "cell_type": "code",
      "execution_count": 31,
      "metadata": {
        "id": "3pbRkK7hgIhJ"
      },
      "outputs": [],
      "source": [
        "cohere_collection = create_coolectoin(COHERE_API_KEY,\n",
        "                                      cohere_chroma_client)"
      ]
    },
    {
      "cell_type": "code",
      "execution_count": 32,
      "metadata": {
        "id": "Yh5ncR2VuL9n"
      },
      "outputs": [],
      "source": [
        "cohere_results = {}"
      ]
    },
    {
      "cell_type": "code",
      "execution_count": 33,
      "metadata": {
        "colab": {
          "base_uri": "https://localhost:8080/"
        },
        "id": "EO2jKJUfuPJS",
        "outputId": "f23e17bd-b54f-4bcf-d828-664ee0edb494"
      },
      "outputs": [
        {
          "name": "stderr",
          "output_type": "stream",
          "text": [
            "100%|██████████| 100/100 [00:22<00:00,  4.43it/s]\n"
          ]
        }
      ],
      "source": [
        "for _, row in tqdm(imdb_evaluation_set.iterrows(), total=imdb_evaluation_set.shape[0]):\n",
        "  cohere_results[row['idf']] = [int(x) for x in extraction.search_querY_chroma(collection=cohere_collection,\n",
        "                                                                                query_text=prompt.create_promt_embeding(row),\n",
        "                                                                                #  where_meta_data={},\n",
        "                                                                                n_results=13)]"
      ]
    },
    {
      "cell_type": "code",
      "execution_count": 36,
      "metadata": {
        "id": "cW60KeJIvhnR"
      },
      "outputs": [],
      "source": [
        "cohere_iou_list = {idf: imdb_iou(idf, similar_movies_retrieved) for idf, similar_movies_retrieved in cohere_results.items()}"
      ]
    },
    {
      "cell_type": "code",
      "execution_count": 37,
      "metadata": {
        "id": "Pkvl7xBBXoUv"
      },
      "outputs": [],
      "source": [
        "cohere_intersection_list = {idf: imdb_intersection(idf, similar_movies_retrieved) for idf, similar_movies_retrieved in cohere_results.items()}"
      ]
    },
    {
      "cell_type": "code",
      "execution_count": 38,
      "metadata": {
        "id": "37sU7F_8wYOh"
      },
      "outputs": [],
      "source": [
        "cohere_iou_idf = pd.DataFrame({'idf': cohere_iou_list.keys(),\n",
        "                               'iou': cohere_iou_list.values(),\n",
        "                               'intersection': cohere_intersection_list.values()})"
      ]
    },
    {
      "cell_type": "markdown",
      "metadata": {
        "id": "M9rIm6sDR3Ae"
      },
      "source": [
        "## GPT"
      ]
    },
    {
      "cell_type": "code",
      "execution_count": 39,
      "metadata": {
        "id": "hvp_uSPuR6qE"
      },
      "outputs": [],
      "source": [
        "gpt_embeddings = OpenAIEmbeddingFunction(\n",
        "    api_key=OPENAI_API_KEY,\n",
        "    model_name=\"text-embedding-3-large\"\n",
        ")"
      ]
    },
    {
      "cell_type": "code",
      "execution_count": 40,
      "metadata": {
        "id": "hdwoK8kMR-qR"
      },
      "outputs": [],
      "source": [
        "gpt_chroma_client = chromadb.PersistentClient(path=\"/content/gdrive/MyDrive/Colab Notebooks/NLP/Project/chromadb/gpt/nlp\")"
      ]
    },
    {
      "cell_type": "code",
      "execution_count": 41,
      "metadata": {
        "id": "qbsB1EwiSP8T"
      },
      "outputs": [],
      "source": [
        "gpt_collection = gpt_chroma_client.get_or_create_collection(name=\"open-ai\", embedding_function=gpt_embeddings)"
      ]
    },
    {
      "cell_type": "code",
      "execution_count": 42,
      "metadata": {
        "id": "sjAN-mqUSgI-"
      },
      "outputs": [],
      "source": [
        "gpt_results = {}"
      ]
    },
    {
      "cell_type": "code",
      "execution_count": 43,
      "metadata": {
        "colab": {
          "base_uri": "https://localhost:8080/"
        },
        "id": "cqFEAXKnSetf",
        "outputId": "81d77cd5-3b2a-40cc-ac73-cdb24429cb39"
      },
      "outputs": [
        {
          "name": "stderr",
          "output_type": "stream",
          "text": [
            "100%|██████████| 100/100 [00:51<00:00,  1.93it/s]\n"
          ]
        }
      ],
      "source": [
        "for _, row in tqdm(imdb_evaluation_set.iterrows(), total=imdb_evaluation_set.shape[0]):\n",
        "  gpt_results[row['idf']] = [int(x) for x in extraction.search_querY_chroma(collection=gpt_collection,\n",
        "                                                                            query_text=prompt.create_promt_embeding(row),\n",
        "                                                                            #  where_meta_data={},\n",
        "                                                                            n_results=13)]\n",
        "  if row['idf'] in gpt_results[row['idf']]:\n",
        "    gpt_results[row['idf']].remove(row['idf'])"
      ]
    },
    {
      "cell_type": "code",
      "execution_count": 44,
      "metadata": {
        "id": "8vS0DGwcSwSC"
      },
      "outputs": [],
      "source": [
        "gpt_iou_list = {idf: imdb_iou(idf, similar_movies_retrieved) for idf, similar_movies_retrieved in gpt_results.items()}"
      ]
    },
    {
      "cell_type": "code",
      "execution_count": 45,
      "metadata": {
        "id": "meFYhVxhXzsk"
      },
      "outputs": [],
      "source": [
        "gpt_intersection_list = {idf: imdb_intersection(idf, similar_movies_retrieved) for idf, similar_movies_retrieved in gpt_results.items()}"
      ]
    },
    {
      "cell_type": "code",
      "execution_count": 46,
      "metadata": {
        "id": "KR57d8WwS3RP"
      },
      "outputs": [],
      "source": [
        "gpt_iou_idf = pd.DataFrame({'idf': gpt_iou_list.keys(),\n",
        "                            'iou': gpt_iou_list.values(),\n",
        "                            'intersection': gpt_intersection_list.values()})"
      ]
    },
    {
      "cell_type": "markdown",
      "metadata": {
        "id": "RRiRpXFibu_e"
      },
      "source": [
        "## FastText"
      ]
    },
    {
      "cell_type": "code",
      "execution_count": 47,
      "metadata": {
        "colab": {
          "base_uri": "https://localhost:8080/"
        },
        "id": "NUlhNy_dcJ40",
        "outputId": "d2509426-0f7c-4ea7-ca94-532905d3a182"
      },
      "outputs": [
        {
          "name": "stdout",
          "output_type": "stream",
          "text": [
            "--2024-03-03 12:19:34--  https://dl.fbaipublicfiles.com/fasttext/vectors-crawl/cc.fa.300.bin.gz\n",
            "Resolving dl.fbaipublicfiles.com (dl.fbaipublicfiles.com)... 18.173.166.31, 18.173.166.48, 18.173.166.51, ...\n",
            "Connecting to dl.fbaipublicfiles.com (dl.fbaipublicfiles.com)|18.173.166.31|:443... connected.\n",
            "HTTP request sent, awaiting response... 200 OK\n",
            "Length: 4502524724 (4.2G) [application/octet-stream]\n",
            "Saving to: ‘cc.fa.300.bin.gz’\n",
            "\n",
            "cc.fa.300.bin.gz    100%[===================>]   4.19G  41.7MB/s    in 49s     \n",
            "\n",
            "2024-03-03 12:20:22 (88.3 MB/s) - ‘cc.fa.300.bin.gz’ saved [4502524724/4502524724]\n",
            "\n"
          ]
        }
      ],
      "source": [
        "!wget https://dl.fbaipublicfiles.com/fasttext/vectors-crawl/cc.fa.300.bin.gz\n",
        "!gunzip /content/cc.fa.300.bin.gz"
      ]
    },
    {
      "cell_type": "code",
      "execution_count": 48,
      "metadata": {
        "colab": {
          "base_uri": "https://localhost:8080/"
        },
        "id": "N-7kE73JbxJB",
        "outputId": "bf2926a2-4a72-4ab8-f393-f62a570b48c6"
      },
      "outputs": [
        {
          "name": "stderr",
          "output_type": "stream",
          "text": [
            "Warning : `load_model` does not return WordVectorModel or SupervisedModel any more, but a `FastText` object which is very similar.\n"
          ]
        }
      ],
      "source": [
        "ft_vanilla = fasttext.load_model('cc.fa.300.bin')"
      ]
    },
    {
      "cell_type": "code",
      "execution_count": 49,
      "metadata": {
        "colab": {
          "base_uri": "https://localhost:8080/"
        },
        "id": "mpsKq6etcfxL",
        "outputId": "2b6b72f3-4540-4371-d72e-2778414433bd"
      },
      "outputs": [
        {
          "name": "stderr",
          "output_type": "stream",
          "text": [
            "Warning : `load_model` does not return WordVectorModel or SupervisedModel any more, but a `FastText` object which is very similar.\n"
          ]
        }
      ],
      "source": [
        "ft_finetuned = fasttext.load_model('/content/gdrive/MyDrive/Colab Notebooks/NLP/Project/ft.cc.fa.300.finetuned.bin')"
      ]
    },
    {
      "cell_type": "code",
      "execution_count": 50,
      "metadata": {
        "id": "ZJpP2Ybmcszq"
      },
      "outputs": [],
      "source": [
        "class FasttexEmbeddingtModel(EmbeddingFunction):\n",
        "    def __init__(self, model):\n",
        "      self.model = model\n",
        "    def __call__(self, input: Documents) -> Embeddings:\n",
        "      result =  [self.model.get_sentence_vector(doc.replace(\"\\n\", \"\") ).tolist() for doc in input]\n",
        "      return result"
      ]
    },
    {
      "cell_type": "code",
      "execution_count": 51,
      "metadata": {
        "id": "PZ2oY4aVcu8K"
      },
      "outputs": [],
      "source": [
        "fasttext_embedding_function = FasttexEmbeddingtModel(ft_vanilla)"
      ]
    },
    {
      "cell_type": "code",
      "execution_count": 52,
      "metadata": {
        "id": "YVEnfVkscv_X"
      },
      "outputs": [],
      "source": [
        "fasttext_chroma_client = chromadb.PersistentClient(path=\"/content/gdrive/MyDrive/Colab Notebooks/NLP/Project/chromadb/fasttext/nlp\")"
      ]
    },
    {
      "cell_type": "code",
      "execution_count": 53,
      "metadata": {
        "id": "lWabP27_c6lN"
      },
      "outputs": [],
      "source": [
        "fasttext_collection = fasttext_chroma_client.get_or_create_collection(name=\"fasttext\", embedding_function=fasttext_embedding_function)"
      ]
    },
    {
      "cell_type": "code",
      "execution_count": 54,
      "metadata": {
        "id": "RyIoqZfzdErn"
      },
      "outputs": [],
      "source": [
        "fasttext_results = {}"
      ]
    },
    {
      "cell_type": "code",
      "execution_count": 55,
      "metadata": {
        "colab": {
          "base_uri": "https://localhost:8080/"
        },
        "id": "dr9luOSfdG7i",
        "outputId": "2d9c3a3f-385a-413c-f053-dab156d86a23"
      },
      "outputs": [
        {
          "name": "stderr",
          "output_type": "stream",
          "text": [
            "100%|██████████| 100/100 [00:04<00:00, 20.55it/s]\n"
          ]
        }
      ],
      "source": [
        "for _, row in tqdm(imdb_evaluation_set.iterrows(), total=imdb_evaluation_set.shape[0]):\n",
        "  fasttext_results[row['idf']] = [int(x) for x in extraction.search_querY_chroma(collection=fasttext_collection,\n",
        "                                                                                  query_text=prompt.create_promt_embeding(row),\n",
        "                                                                                  #  where_meta_data={},\n",
        "                                                                                  n_results=13)]"
      ]
    },
    {
      "cell_type": "code",
      "execution_count": 56,
      "metadata": {
        "id": "B7MXJOBWdK0Q"
      },
      "outputs": [],
      "source": [
        "fasttext_iou_list = {idf: imdb_iou(idf, similar_movies_retrieved) for idf, similar_movies_retrieved in fasttext_results.items()}"
      ]
    },
    {
      "cell_type": "code",
      "execution_count": 57,
      "metadata": {
        "id": "tDd18oa1dMC4"
      },
      "outputs": [],
      "source": [
        "fasttext_intersection_list = {idf: imdb_intersection(idf, similar_movies_retrieved) for idf, similar_movies_retrieved in fasttext_results.items()}"
      ]
    },
    {
      "cell_type": "code",
      "execution_count": 58,
      "metadata": {
        "id": "otlL5SW-dNzo"
      },
      "outputs": [],
      "source": [
        "fasttext_iou_idf = pd.DataFrame({'idf': fasttext_iou_list.keys(),\n",
        "                                'iou': fasttext_iou_list.values(),\n",
        "                                'intersection': fasttext_intersection_list.values()})"
      ]
    },
    {
      "cell_type": "markdown",
      "metadata": {
        "id": "y4i0EhyF5BpD"
      },
      "source": [
        "## ParsBERT"
      ]
    },
    {
      "cell_type": "code",
      "execution_count": 59,
      "metadata": {
        "colab": {
          "base_uri": "https://localhost:8080/",
          "height": 400,
          "referenced_widgets": [
            "aef929407fe6489c8af305f69e4a17c8",
            "8a7016c33dc14e9ca47632fd359f606e",
            "e014685fee5746b4b2c436e443492819",
            "7d2cea317da54994ba904ee75f186c96",
            "0094840bfa284b189d39e484bb4d44ff",
            "5467058b454f4990a1011856c05c527b",
            "80f76c02018b44d684c4769448a4ca47",
            "8908ed0d37554856b3aba292fc5dd803",
            "3969d33dbf6e4c83b706cff2211f472e",
            "daf751c001a44c79998cf3b4477279a3",
            "b6b9124dc57b40eca11fe601a57da866",
            "fd3611cc7e3743eb89486cbb4c271fcf",
            "928d8e05a13e46059fb0315c79b53414",
            "df54a704cab44ae790e3add96bbbcbdf",
            "a7ced3e3468d44adad07a2b1c11c34ca",
            "fdf2971ceda142609fd5d41c11db46a5",
            "a62aa49453604d5eb2f435d84b604c08",
            "152142d223b047e39e1dca684c03553f",
            "30003494e9c843c5b6d5e22135fb0964",
            "c80114945b794dfda4e37f5415f118bb",
            "2d7548d017ae4b14b17ab28b9b02c314",
            "418c70502cd44134916f175e256b8d0e",
            "d8096369834542f4a665def279321066",
            "35c474b7a583467a8ceb72e67f431d7a",
            "e3d3bf5497ad47949c969586bf4593e2",
            "ffc802a074f74a12a9d54904838e4da2",
            "a47ae7e75eb24e0c8734c31243943772",
            "8bcb95cefbca4d9f9279d51fb68c1576",
            "4e54229853004886835ec83d2bb730a0",
            "67bfd9a5f5804a5f87ba8767bc129a39",
            "906f5ffc28d142c0a9604c241eb36212",
            "e6a08853acf14b66949a4bfd336b3c7f",
            "40ca88ba2de6482facb243685dabe64e",
            "1d9ec8490b8f4f25a8a6df3798ae82c4",
            "7795dc2ad3844a5ab3d42d240d02526e",
            "4b7f76988e1642798fae609d9eea5451",
            "972e78f2485f43fd851d2a3e1cc0c0bc",
            "c8e65dff9d47402ba22e9015699c431e",
            "562080f554c24a81821c9e6e8b3e6ab1",
            "04bd66f177c34ac3bcd63860652fd88a",
            "c3bdaacbdc13422099316a21840f6d94",
            "5a884347079848ada5aa34f508b5928b",
            "b7ffac90c20342ceb68ee3a33835d8b3",
            "56523a58c2f94082a64ceccce90f561c",
            "87420f1c85b04854869510b19d2ae723",
            "cfb75dfb11e44e02ab64cb04b6dc12ec",
            "352c9bb236fd482384e4bff4900d8a2c",
            "e890e46256ec4aa9b704a290f7b4ee31",
            "705d0039200e48c390906a9ef0487d50",
            "76834d10a5f84b4a831a193ec89ca0d4",
            "84fd6425b3cf4f7199f99fd2dd3aa451",
            "0e0ca79cde4b4bf3a58e30222ae7b43d",
            "309bb7d01922425ab1f9274298bea6d2",
            "802ce74ca9424713b747565546fc2b44",
            "6fc8e90334d4415590fdfa58f152259a",
            "4d2de2bca5f148e39634fd665db8fcdd",
            "d653e8d3fd2244348981b9143d152012",
            "99131b9ba0384e338c0e93bd5f94fbae",
            "185eb1ebd7924ebc8172d394ef64082f",
            "aca2ef1d9b934f249a829fb67e1fa1f7",
            "480bb96ea579432e8d6105441691af0c",
            "bb2884f67d8c43588b672777f0837b91",
            "f8b832725b644d0a9bd9043e5d7982bc",
            "49cef8831e8e4d51bdc14260fd013e27",
            "8009e2302fde46d4a210e075f78fec94",
            "ed52ab9852cb4db78cf35b12beb3c24f",
            "24ef816408c146f5acbe71e8d563da9c",
            "962812803fc74872adfa80c3f91b44e4",
            "7cdadfe434d24daf87fccc532ed991c2",
            "158b36800d3a447e8aa5fcebd7d981b2",
            "5d6aa7b83ff14f89952c75e82694f3a9",
            "72ca6855823e4d339473ff8e11e89050",
            "9703a79f8add4e6bb4503bdd6fdbf631",
            "bd84e35ddd4e4525a3659b0836a162f3",
            "9f60bf78f0e44cab88b3f39c7ab63d54",
            "d439b012eb1a43eb824c7d08bfb1756b",
            "664097fbc3dd494f833898a2f31f3a15"
          ]
        },
        "id": "dZevrAxd5OWj",
        "outputId": "57c76dc9-ed6c-40fd-f3ef-82f20a5bf517"
      },
      "outputs": [
        {
          "name": "stderr",
          "output_type": "stream",
          "text": [
            "/usr/local/lib/python3.10/dist-packages/huggingface_hub/utils/_token.py:88: UserWarning: \n",
            "The secret `HF_TOKEN` does not exist in your Colab secrets.\n",
            "To authenticate with the Hugging Face Hub, create a token in your settings tab (https://huggingface.co/settings/tokens), set it as secret in your Google Colab and restart your session.\n",
            "You will be able to reuse this secret in all of your notebooks.\n",
            "Please note that authentication is recommended but still optional to access public models or datasets.\n",
            "  warnings.warn(\n"
          ]
        },
        {
          "data": {
            "application/vnd.jupyter.widget-view+json": {
              "model_id": "aef929407fe6489c8af305f69e4a17c8",
              "version_major": 2,
              "version_minor": 0
            },
            "text/plain": [
              "config.json:   0%|          | 0.00/434 [00:00<?, ?B/s]"
            ]
          },
          "metadata": {},
          "output_type": "display_data"
        },
        {
          "data": {
            "application/vnd.jupyter.widget-view+json": {
              "model_id": "fd3611cc7e3743eb89486cbb4c271fcf",
              "version_major": 2,
              "version_minor": 0
            },
            "text/plain": [
              "tokenizer_config.json:   0%|          | 0.00/1.26k [00:00<?, ?B/s]"
            ]
          },
          "metadata": {},
          "output_type": "display_data"
        },
        {
          "data": {
            "application/vnd.jupyter.widget-view+json": {
              "model_id": "d8096369834542f4a665def279321066",
              "version_major": 2,
              "version_minor": 0
            },
            "text/plain": [
              "vocab.txt:   0%|          | 0.00/1.22M [00:00<?, ?B/s]"
            ]
          },
          "metadata": {},
          "output_type": "display_data"
        },
        {
          "data": {
            "application/vnd.jupyter.widget-view+json": {
              "model_id": "1d9ec8490b8f4f25a8a6df3798ae82c4",
              "version_major": 2,
              "version_minor": 0
            },
            "text/plain": [
              "tokenizer.json:   0%|          | 0.00/2.81M [00:00<?, ?B/s]"
            ]
          },
          "metadata": {},
          "output_type": "display_data"
        },
        {
          "data": {
            "application/vnd.jupyter.widget-view+json": {
              "model_id": "87420f1c85b04854869510b19d2ae723",
              "version_major": 2,
              "version_minor": 0
            },
            "text/plain": [
              "special_tokens_map.json:   0%|          | 0.00/125 [00:00<?, ?B/s]"
            ]
          },
          "metadata": {},
          "output_type": "display_data"
        },
        {
          "data": {
            "application/vnd.jupyter.widget-view+json": {
              "model_id": "4d2de2bca5f148e39634fd665db8fcdd",
              "version_major": 2,
              "version_minor": 0
            },
            "text/plain": [
              "config.json:   0%|          | 0.00/652 [00:00<?, ?B/s]"
            ]
          },
          "metadata": {},
          "output_type": "display_data"
        },
        {
          "data": {
            "application/vnd.jupyter.widget-view+json": {
              "model_id": "24ef816408c146f5acbe71e8d563da9c",
              "version_major": 2,
              "version_minor": 0
            },
            "text/plain": [
              "model.safetensors:   0%|          | 0.00/652M [00:00<?, ?B/s]"
            ]
          },
          "metadata": {},
          "output_type": "display_data"
        },
        {
          "name": "stderr",
          "output_type": "stream",
          "text": [
            "Some weights of BertModel were not initialized from the model checkpoint at drippypale/parsbert-movie-finetuned and are newly initialized: ['bert.pooler.dense.bias', 'bert.pooler.dense.weight']\n",
            "You should probably TRAIN this model on a down-stream task to be able to use it for predictions and inference.\n"
          ]
        }
      ],
      "source": [
        "config = AutoConfig.from_pretrained(\"HooshvareLab/bert-base-parsbert-uncased\")\n",
        "tokenizer = AutoTokenizer.from_pretrained(\"drippypale/parsbert-movie-finetuned\")\n",
        "model = AutoModel.from_pretrained(\"drippypale/parsbert-movie-finetuned\")"
      ]
    },
    {
      "cell_type": "code",
      "execution_count": 60,
      "metadata": {
        "id": "734W1CgM5DKW"
      },
      "outputs": [],
      "source": [
        "class MyEmbeddingParsBert(EmbeddingFunction):\n",
        "    def __init__(self, model,tokenizer):\n",
        "      self.model = model\n",
        "      self.tokenizer =  tokenizer\n",
        "    def get_embedding(self,text):\n",
        "      inputs = self.tokenizer(text, return_tensors='pt', padding=True, truncation=True, max_length = 512)\n",
        "      outputs = self.model(**inputs, output_hidden_states=True)\n",
        "      embedding = outputs.hidden_states[-1][0,0,:]\n",
        "      return embedding.tolist()\n",
        "\n",
        "    def __call__(self, input: Documents) -> Embeddings:\n",
        "        embeddings = [self.get_embedding(doc) for doc in input]\n",
        "        return embeddings"
      ]
    },
    {
      "cell_type": "code",
      "execution_count": 61,
      "metadata": {
        "id": "lIKIosmb5fES"
      },
      "outputs": [],
      "source": [
        "parsbert_embedding_function = MyEmbeddingParsBert(model, tokenizer)"
      ]
    },
    {
      "cell_type": "code",
      "execution_count": 62,
      "metadata": {
        "id": "fHmebxeL5IIb"
      },
      "outputs": [],
      "source": [
        "parsbert_chroma_client = chromadb.PersistentClient(path=\"/content/gdrive/MyDrive/Colab Notebooks/NLP/Project/chromadb/parsbert/nlp\")"
      ]
    },
    {
      "cell_type": "code",
      "execution_count": 63,
      "metadata": {
        "id": "FuJvYxgc5wra"
      },
      "outputs": [],
      "source": [
        "parsbert_collection = parsbert_chroma_client.get_or_create_collection(name=\"bertpersion\", embedding_function=parsbert_embedding_function)"
      ]
    },
    {
      "cell_type": "code",
      "execution_count": 64,
      "metadata": {
        "id": "SokXC4gm5jf9"
      },
      "outputs": [],
      "source": [
        "parsbert_results = {}"
      ]
    },
    {
      "cell_type": "code",
      "execution_count": 65,
      "metadata": {
        "colab": {
          "base_uri": "https://localhost:8080/"
        },
        "id": "b4oo8CvS5ay8",
        "outputId": "5fbe8792-0abd-4594-89f7-9076a3836e60"
      },
      "outputs": [
        {
          "name": "stderr",
          "output_type": "stream",
          "text": [
            "100%|██████████| 100/100 [02:26<00:00,  1.46s/it]\n"
          ]
        }
      ],
      "source": [
        "for _, row in tqdm(imdb_evaluation_set.iterrows(), total=imdb_evaluation_set.shape[0]):\n",
        "  parsbert_results[row['idf']] = [int(x) for x in extraction.search_querY_chroma(collection=parsbert_collection,\n",
        "                                                                                  query_text=prompt.create_promt_embeding(row),\n",
        "                                                                                  #  where_meta_data={},\n",
        "                                                                                  n_results=13)]"
      ]
    },
    {
      "cell_type": "code",
      "execution_count": 66,
      "metadata": {
        "id": "TXvx837c6AcR"
      },
      "outputs": [],
      "source": [
        "parsbert_iou_list = {idf: imdb_iou(idf, similar_movies_retrieved) for idf, similar_movies_retrieved in parsbert_results.items()}"
      ]
    },
    {
      "cell_type": "code",
      "execution_count": 67,
      "metadata": {
        "id": "xblyMFoy6AcS"
      },
      "outputs": [],
      "source": [
        "parsbert_intersection_list = {idf: imdb_intersection(idf, similar_movies_retrieved) for idf, similar_movies_retrieved in parsbert_results.items()}"
      ]
    },
    {
      "cell_type": "code",
      "execution_count": 68,
      "metadata": {
        "id": "SLsAgGB66AcS"
      },
      "outputs": [],
      "source": [
        "parsbert_iou_idf = pd.DataFrame({'idf': parsbert_iou_list.keys(),\n",
        "                                'iou': parsbert_iou_list.values(),\n",
        "                                'intersection': parsbert_intersection_list.values()})"
      ]
    },
    {
      "cell_type": "markdown",
      "metadata": {
        "id": "mhCQhbAGV5Xv"
      },
      "source": [
        "## Plotting"
      ]
    },
    {
      "cell_type": "code",
      "execution_count": 69,
      "metadata": {
        "colab": {
          "base_uri": "https://localhost:8080/",
          "height": 394
        },
        "id": "2oYVSeWbS7Fj",
        "outputId": "badb09df-d362-4a50-9879-bb318ddbcecd"
      },
      "outputs": [
        {
          "data": {
            "image/png": "[encoded data removed]",
            "text/plain": [
              "<Figure size 1600x600 with 2 Axes>"
            ]
          },
          "metadata": {},
          "output_type": "display_data"
        }
      ],
      "source": [
        "fig, axs = plt.subplots(1, 2, figsize=(16, 6))\n",
        "\n",
        "axs[0].plot(cohere_iou_idf['iou'], color='blue', label='Cohere IoU')\n",
        "axs[0].plot(gpt_iou_idf['iou'], color='red', label='GPT IoU')\n",
        "axs[0].plot(fasttext_iou_idf['iou'], color='green', label='FASTTEXT IoU')\n",
        "axs[0].plot(parsbert_iou_idf['iou'], color='orange', label='ParsBERT IoU')\n",
        "\n",
        "axs[0].axhline(cohere_iou_idf['iou'].mean(), color='blue', linestyle='--', label=f\"Cohere Average IoU: {cohere_iou_idf['iou'].mean():.2f}\")\n",
        "axs[0].axhline(gpt_iou_idf['iou'].mean(), color='red', linestyle='--', label=f\"GPT Average IoU: {gpt_iou_idf['iou'].mean():.2f}\")\n",
        "axs[0].axhline(fasttext_iou_idf['iou'].mean(), color='green', linestyle='--', label=f\"FASTTEXT Average IoU: {fasttext_iou_idf['iou'].mean():.2f}\")\n",
        "axs[0].axhline(parsbert_iou_idf['iou'].mean(), color='orange', linestyle='--', label=f\"ParsBERT Average IoU: {parsbert_iou_idf['iou'].mean():.2f}\")\n",
        "\n",
        "axs[0].set_title('IoU and Average IoU')\n",
        "axs[0].set_xlabel('Data Point Index')\n",
        "axs[0].set_ylabel('IoU')\n",
        "axs[0].legend()\n",
        "\n",
        "\n",
        "axs[1].plot(cohere_iou_idf['intersection'], color='blue', label='Cohere Overlap')\n",
        "axs[1].plot(gpt_iou_idf['intersection'], color='red', label='GPT Overlap')\n",
        "axs[1].plot(fasttext_iou_idf['intersection'], color='green', label='FASTTEXT Overlap')\n",
        "axs[1].plot(parsbert_iou_idf['intersection'], color='orange', label='ParsBERT Overlap')\n",
        "\n",
        "axs[1].axhline(cohere_iou_idf['intersection'].mean(), color='blue', linestyle='--', label=f\"Cohere Average Overlap: {cohere_iou_idf['intersection'].mean():.2f}\")\n",
        "axs[1].axhline(gpt_iou_idf['intersection'].mean(), color='red', linestyle='--', label=f\"GPT Average Overlap: {gpt_iou_idf['intersection'].mean():.2f}\")\n",
        "axs[1].axhline(fasttext_iou_idf['intersection'].mean(), color='green', linestyle='--', label=f\"FASTTEXT Average Overlap: {fasttext_iou_idf['intersection'].mean():.2f}\")\n",
        "axs[1].axhline(parsbert_iou_idf['intersection'].mean(), color='orange', linestyle='--', label=f\"ParsBERT Average Overlap: {parsbert_iou_idf['intersection'].mean():.2f}\")\n",
        "\n",
        "axs[1].set_title('Overlap and Average Overlap')\n",
        "axs[1].set_xlabel('Data Point Index')\n",
        "axs[1].set_ylabel('Overlap')\n",
        "axs[1].legend()\n",
        "\n",
        "\n",
        "plt.tight_layout()\n",
        "plt.show()"
      ]
    },
    {
      "cell_type": "markdown",
      "metadata": {
        "id": "aOML85kdyCVx"
      },
      "source": [
        "# Based on genres"
      ]
    },
    {
      "cell_type": "code",
      "execution_count": 70,
      "metadata": {
        "id": "9eHv80RcyQeb"
      },
      "outputs": [],
      "source": [
        "def genre_get_prompt(genre):\n",
        "  prompt = f\"\"\"فیلمی را پیدا کنید که این ویژگی ها را برآورده کند :\n",
        "  ژانر فیلم {genre} است.\n",
        "      \"\"\"\n",
        "\n",
        "  return prompt"
      ]
    },
    {
      "cell_type": "markdown",
      "metadata": {
        "id": "ADMW1D5WyJu7"
      },
      "source": [
        "## Cohere"
      ]
    },
    {
      "cell_type": "code",
      "execution_count": 71,
      "metadata": {
        "id": "hRbDpS273Y5R"
      },
      "outputs": [],
      "source": [
        "cohere_results_genre = {}"
      ]
    },
    {
      "cell_type": "code",
      "execution_count": 72,
      "metadata": {
        "id": "i2WLMjFq3Aef"
      },
      "outputs": [],
      "source": [
        "for genre in genres_sample:\n",
        "  genre_results = extraction.search_querY_chroma(collection=cohere_collection,\n",
        "                                              query_text=genre_get_prompt(genre),\n",
        "                                              #  where_meta_data={},\n",
        "                                              n_results=10)\n",
        "  genre_results = [int(x) for x in genre_results]\n",
        "  cohere_results_genre[genre] = database_exploded_df.query(f'idf in @genre_results & genres == \"{genre}\"').drop_duplicates('idf')"
      ]
    },
    {
      "cell_type": "code",
      "execution_count": 73,
      "metadata": {
        "id": "coC8w_r232vl"
      },
      "outputs": [],
      "source": [
        "rr = {k: (v.shape[0]/10) * 100 for k, v in cohere_results_genre.items()}"
      ]
    },
    {
      "cell_type": "code",
      "execution_count": 74,
      "metadata": {
        "id": "_0CpufMPzd0T"
      },
      "outputs": [],
      "source": [
        "cohere_genre_df = pd.DataFrame({'Genre': rr.keys(), 'Accuracy': rr.values()})"
      ]
    },
    {
      "cell_type": "markdown",
      "metadata": {
        "id": "1GWlhUlGmxTX"
      },
      "source": [
        "## GPT"
      ]
    },
    {
      "cell_type": "code",
      "execution_count": 75,
      "metadata": {
        "id": "GUUdPo_Fmz-o"
      },
      "outputs": [],
      "source": [
        "gpt_results_genre = {}"
      ]
    },
    {
      "cell_type": "code",
      "execution_count": 76,
      "metadata": {
        "id": "21rYwJb_mz-z"
      },
      "outputs": [],
      "source": [
        "for genre in genres_sample:\n",
        "  genre_results = extraction.search_querY_chroma(collection=gpt_collection,\n",
        "                                                query_text=genre_get_prompt(genre),\n",
        "                                                #  where_meta_data={},\n",
        "                                                n_results=10)\n",
        "  genre_results = [int(x) for x in genre_results]\n",
        "  gpt_results_genre[genre] = database_exploded_df.query(f'idf in @genre_results & genres == \"{genre}\"').drop_duplicates('idf')"
      ]
    },
    {
      "cell_type": "code",
      "execution_count": 77,
      "metadata": {
        "id": "x7PYv9i0mz-z"
      },
      "outputs": [],
      "source": [
        "rr = {k: (v.shape[0]/10) * 100 for k, v in gpt_results_genre.items()}"
      ]
    },
    {
      "cell_type": "code",
      "execution_count": 78,
      "metadata": {
        "id": "wP8HfA7dmz-z"
      },
      "outputs": [],
      "source": [
        "gpt_genre_df = pd.DataFrame({'Genre': rr.keys(), 'Accuracy': rr.values()})"
      ]
    },
    {
      "cell_type": "markdown",
      "metadata": {
        "id": "I0_h1TDVnEV9"
      },
      "source": [
        "## FASTTEXT"
      ]
    },
    {
      "cell_type": "code",
      "execution_count": 79,
      "metadata": {
        "id": "2idWzBDnnF_9"
      },
      "outputs": [],
      "source": [
        "fasttext_results_genre = {}"
      ]
    },
    {
      "cell_type": "code",
      "execution_count": 80,
      "metadata": {
        "id": "ejlf3af0nF_9"
      },
      "outputs": [],
      "source": [
        "for genre in genres_sample:\n",
        "  genre_results = extraction.search_querY_chroma(collection=fasttext_collection,\n",
        "                                                query_text=genre_get_prompt(genre),\n",
        "                                                #  where_meta_data={},\n",
        "                                                n_results=10)\n",
        "  genre_results = [int(x) for x in genre_results]\n",
        "  fasttext_results_genre[genre] = database_exploded_df.query(f'idf in @genre_results & genres == \"{genre}\"').drop_duplicates('idf')"
      ]
    },
    {
      "cell_type": "code",
      "execution_count": 81,
      "metadata": {
        "id": "j_9jddDbnF_9"
      },
      "outputs": [],
      "source": [
        "rr = {k: (v.shape[0]/10) * 100 for k, v in fasttext_results_genre.items()}"
      ]
    },
    {
      "cell_type": "code",
      "execution_count": 82,
      "metadata": {
        "id": "rF1Bg45AnF_9"
      },
      "outputs": [],
      "source": [
        "fasttext_genre_df = pd.DataFrame({'Genre': rr.keys(), 'Accuracy': rr.values()})"
      ]
    },
    {
      "cell_type": "markdown",
      "metadata": {
        "id": "d1I8LCDJ6tm5"
      },
      "source": [
        "## ParsBERT"
      ]
    },
    {
      "cell_type": "code",
      "execution_count": 83,
      "metadata": {
        "id": "3AfrcxwU6tm6"
      },
      "outputs": [],
      "source": [
        "parsbert_results_genre = {}"
      ]
    },
    {
      "cell_type": "code",
      "execution_count": 84,
      "metadata": {
        "id": "NVWCE1M16tm6"
      },
      "outputs": [],
      "source": [
        "for genre in genres_sample:\n",
        "  genre_results = extraction.search_querY_chroma(collection=parsbert_collection,\n",
        "                                                query_text=genre_get_prompt(genre),\n",
        "                                                #  where_meta_data={},\n",
        "                                                n_results=10)\n",
        "  genre_results = [int(x) for x in genre_results]\n",
        "  parsbert_results_genre[genre] = database_exploded_df.query(f'idf in @genre_results & genres == \"{genre}\"').drop_duplicates('idf')"
      ]
    },
    {
      "cell_type": "code",
      "execution_count": 85,
      "metadata": {
        "id": "4fj55WSX6tm7"
      },
      "outputs": [],
      "source": [
        "rr = {k: (v.shape[0]/10) * 100 for k, v in parsbert_results_genre.items()}"
      ]
    },
    {
      "cell_type": "code",
      "execution_count": 86,
      "metadata": {
        "id": "YKpVUGTo6tm7"
      },
      "outputs": [],
      "source": [
        "parsbert_genre_df = pd.DataFrame({'Genre': rr.keys(), 'Accuracy': rr.values()})"
      ]
    },
    {
      "cell_type": "markdown",
      "metadata": {
        "id": "6rrXrlFNoJ9S"
      },
      "source": [
        "## Plots"
      ]
    },
    {
      "cell_type": "code",
      "execution_count": 87,
      "metadata": {
        "colab": {
          "base_uri": "https://localhost:8080/",
          "height": 691
        },
        "id": "IM9FPWY9oJle",
        "outputId": "01d0b222-5f57-4617-bf7b-4648f7aeac18"
      },
      "outputs": [
        {
          "data": {
            "image/png": "[encoded data removed]",
            "text/plain": [
              "<Figure size 1200x800 with 1 Axes>"
            ]
          },
          "metadata": {},
          "output_type": "display_data"
        }
      ],
      "source": [
        "genres = [get_display(arabic_reshaper.reshape(x)) for x in cohere_genre_df['Genre'].unique()]  # Assuming all models have the same genres\n",
        "x = np.arange(len(genres))  # the label locations\n",
        "width = 0.2  # the width of the bars\n",
        "\n",
        "fig, ax = plt.subplots(figsize=(12, 8))\n",
        "rects1 = ax.bar(x - width, cohere_genre_df['Accuracy'], width, label='Cohere', color='red')\n",
        "rects2 = ax.bar(x, gpt_genre_df['Accuracy'], width, label='GPT', color='blue')\n",
        "rects3 = ax.bar(x + width, fasttext_genre_df['Accuracy'], width, label='FASTTEXT', color='green')\n",
        "rects4 = ax.bar(x + width + width, parsbert_genre_df['Accuracy'], width, label='ParsBERT', color='orange')\n",
        "\n",
        "ax.axhline(cohere_genre_df['Accuracy'].mean(), color='blue', linestyle='--', label=f\"Cohere Accuracy: {cohere_genre_df['Accuracy'].mean():.2f}\")\n",
        "ax.axhline(gpt_genre_df['Accuracy'].mean(), color='red', linestyle='--', label=f\"GPT Accuracy: {gpt_genre_df['Accuracy'].mean():.2f}\")\n",
        "ax.axhline(fasttext_genre_df['Accuracy'].mean(), color='green', linestyle='--', label=f\"FASTTEXT Accuracy: {fasttext_genre_df['Accuracy'].mean():.2f}\")\n",
        "ax.axhline(parsbert_genre_df['Accuracy'].mean(), color='orange', linestyle='--', label=f\"ParsBERT Accuracy: {parsbert_genre_df['Accuracy'].mean():.2f}\")\n",
        "\n",
        "# Add some text for labels, title and custom x-axis tick labels, etc.\n",
        "ax.set_ylabel('Accuracy')\n",
        "ax.set_title('Accuracy by Genre and Model')\n",
        "ax.set_xticks(x)\n",
        "ax.set_xticklabels(genres)\n",
        "ax.legend()\n",
        "\n",
        "# Function to automatically add labels on top of the bars\n",
        "def autolabel(rects):\n",
        "    \"\"\"Attach a text label above each bar in *rects*, displaying its height.\"\"\"\n",
        "    for rect in rects:\n",
        "        height = rect.get_height()\n",
        "        ax.annotate('{}'.format(round(height, 2)),\n",
        "                    xy=(rect.get_x() + rect.get_width() / 2, height),\n",
        "                    xytext=(0, 3),  # 3 points vertical offset\n",
        "                    textcoords=\"offset points\",\n",
        "                    ha='center', va='bottom')\n",
        "\n",
        "autolabel(rects1)\n",
        "autolabel(rects2)\n",
        "autolabel(rects3)\n",
        "autolabel(rects4)\n",
        "\n",
        "fig.tight_layout()\n",
        "\n",
        "plt.show()"
      ]
    }
  ],
  "metadata": {
    "colab": {
      "provenance": []
    },
    "kernelspec": {
      "display_name": "Python 3",
      "name": "python3"
    },
    "language_info": {
      "name": "python"
    },
    "widgets": {
      "application/vnd.jupyter.widget-state+json": {
        "0094840bfa284b189d39e484bb4d44ff": {
          "model_module": "@jupyter-widgets/base",
          "model_module_version": "1.2.0",
          "model_name": "LayoutModel",
          "state": {
            "_model_module": "@jupyter-widgets/base",
            "_model_module_version": "1.2.0",
            "_model_name": "LayoutModel",
            "_view_count": null,
            "_view_module": "@jupyter-widgets/base",
            "_view_module_version": "1.2.0",
            "_view_name": "LayoutView",
            "align_content": null,
            "align_items": null,
            "align_self": null,
            "border": null,
            "bottom": null,
            "display": null,
            "flex": null,
            "flex_flow": null,
            "grid_area": null,
            "grid_auto_columns": null,
            "grid_auto_flow": null,
            "grid_auto_rows": null,
            "grid_column": null,
            "grid_gap": null,
            "grid_row": null,
            "grid_template_areas": null,
            "grid_template_columns": null,
            "grid_template_rows": null,
            "height": null,
            "justify_content": null,
            "justify_items": null,
            "left": null,
            "margin": null,
            "max_height": null,
            "max_width": null,
            "min_height": null,
            "min_width": null,
            "object_fit": null,
            "object_position": null,
            "order": null,
            "overflow": null,
            "overflow_x": null,
            "overflow_y": null,
            "padding": null,
            "right": null,
            "top": null,
            "visibility": null,
            "width": null
          }
        },
        "04bd66f177c34ac3bcd63860652fd88a": {
          "model_module": "@jupyter-widgets/controls",
          "model_module_version": "1.5.0",
          "model_name": "DescriptionStyleModel",
          "state": {
            "_model_module": "@jupyter-widgets/controls",
            "_model_module_version": "1.5.0",
            "_model_name": "DescriptionStyleModel",
            "_view_count": null,
            "_view_module": "@jupyter-widgets/base",
            "_view_module_version": "1.2.0",
            "_view_name": "StyleView",
            "description_width": ""
          }
        },
        "0e0ca79cde4b4bf3a58e30222ae7b43d": {
          "model_module": "@jupyter-widgets/base",
          "model_module_version": "1.2.0",
          "model_name": "LayoutModel",
          "state": {
            "_model_module": "@jupyter-widgets/base",
            "_model_module_version": "1.2.0",
            "_model_name": "LayoutModel",
            "_view_count": null,
            "_view_module": "@jupyter-widgets/base",
            "_view_module_version": "1.2.0",
            "_view_name": "LayoutView",
            "align_content": null,
            "align_items": null,
            "align_self": null,
            "border": null,
            "bottom": null,
            "display": null,
            "flex": null,
            "flex_flow": null,
            "grid_area": null,
            "grid_auto_columns": null,
            "grid_auto_flow": null,
            "grid_auto_rows": null,
            "grid_column": null,
            "grid_gap": null,
            "grid_row": null,
            "grid_template_areas": null,
            "grid_template_columns": null,
            "grid_template_rows": null,
            "height": null,
            "justify_content": null,
            "justify_items": null,
            "left": null,
            "margin": null,
            "max_height": null,
            "max_width": null,
            "min_height": null,
            "min_width": null,
            "object_fit": null,
            "object_position": null,
            "order": null,
            "overflow": null,
            "overflow_x": null,
            "overflow_y": null,
            "padding": null,
            "right": null,
            "top": null,
            "visibility": null,
            "width": null
          }
        },
        "152142d223b047e39e1dca684c03553f": {
          "model_module": "@jupyter-widgets/controls",
          "model_module_version": "1.5.0",
          "model_name": "DescriptionStyleModel",
          "state": {
            "_model_module": "@jupyter-widgets/controls",
            "_model_module_version": "1.5.0",
            "_model_name": "DescriptionStyleModel",
            "_view_count": null,
            "_view_module": "@jupyter-widgets/base",
            "_view_module_version": "1.2.0",
            "_view_name": "StyleView",
            "description_width": ""
          }
        },
        "158b36800d3a447e8aa5fcebd7d981b2": {
          "model_module": "@jupyter-widgets/controls",
          "model_module_version": "1.5.0",
          "model_name": "HTMLModel",
          "state": {
            "_dom_classes": [],
            "_model_module": "@jupyter-widgets/controls",
            "_model_module_version": "1.5.0",
            "_model_name": "HTMLModel",
            "_view_count": null,
            "_view_module": "@jupyter-widgets/controls",
            "_view_module_version": "1.5.0",
            "_view_name": "HTMLView",
            "description": "",
            "description_tooltip": null,
            "layout": "IPY_MODEL_d439b012eb1a43eb824c7d08bfb1756b",
            "placeholder": "​",
            "style": "IPY_MODEL_664097fbc3dd494f833898a2f31f3a15",
            "value": " 652M/652M [00:15&lt;00:00, 17.5MB/s]"
          }
        },
        "185eb1ebd7924ebc8172d394ef64082f": {
          "model_module": "@jupyter-widgets/controls",
          "model_module_version": "1.5.0",
          "model_name": "HTMLModel",
          "state": {
            "_dom_classes": [],
            "_model_module": "@jupyter-widgets/controls",
            "_model_module_version": "1.5.0",
            "_model_name": "HTMLModel",
            "_view_count": null,
            "_view_module": "@jupyter-widgets/controls",
            "_view_module_version": "1.5.0",
            "_view_name": "HTMLView",
            "description": "",
            "description_tooltip": null,
            "layout": "IPY_MODEL_8009e2302fde46d4a210e075f78fec94",
            "placeholder": "​",
            "style": "IPY_MODEL_ed52ab9852cb4db78cf35b12beb3c24f",
            "value": " 652/652 [00:00&lt;00:00, 23.0kB/s]"
          }
        },
        "1d9ec8490b8f4f25a8a6df3798ae82c4": {
          "model_module": "@jupyter-widgets/controls",
          "model_module_version": "1.5.0",
          "model_name": "HBoxModel",
          "state": {
            "_dom_classes": [],
            "_model_module": "@jupyter-widgets/controls",
            "_model_module_version": "1.5.0",
            "_model_name": "HBoxModel",
            "_view_count": null,
            "_view_module": "@jupyter-widgets/controls",
            "_view_module_version": "1.5.0",
            "_view_name": "HBoxView",
            "box_style": "",
            "children": [
              "IPY_MODEL_7795dc2ad3844a5ab3d42d240d02526e",
              "IPY_MODEL_4b7f76988e1642798fae609d9eea5451",
              "IPY_MODEL_972e78f2485f43fd851d2a3e1cc0c0bc"
            ],
            "layout": "IPY_MODEL_c8e65dff9d47402ba22e9015699c431e"
          }
        },
        "24ef816408c146f5acbe71e8d563da9c": {
          "model_module": "@jupyter-widgets/controls",
          "model_module_version": "1.5.0",
          "model_name": "HBoxModel",
          "state": {
            "_dom_classes": [],
            "_model_module": "@jupyter-widgets/controls",
            "_model_module_version": "1.5.0",
            "_model_name": "HBoxModel",
            "_view_count": null,
            "_view_module": "@jupyter-widgets/controls",
            "_view_module_version": "1.5.0",
            "_view_name": "HBoxView",
            "box_style": "",
            "children": [
              "IPY_MODEL_962812803fc74872adfa80c3f91b44e4",
              "IPY_MODEL_7cdadfe434d24daf87fccc532ed991c2",
              "IPY_MODEL_158b36800d3a447e8aa5fcebd7d981b2"
            ],
            "layout": "IPY_MODEL_5d6aa7b83ff14f89952c75e82694f3a9"
          }
        },
        "2d7548d017ae4b14b17ab28b9b02c314": {
          "model_module": "@jupyter-widgets/base",
          "model_module_version": "1.2.0",
          "model_name": "LayoutModel",
          "state": {
            "_model_module": "@jupyter-widgets/base",
            "_model_module_version": "1.2.0",
            "_model_name": "LayoutModel",
            "_view_count": null,
            "_view_module": "@jupyter-widgets/base",
            "_view_module_version": "1.2.0",
            "_view_name": "LayoutView",
            "align_content": null,
            "align_items": null,
            "align_self": null,
            "border": null,
            "bottom": null,
            "display": null,
            "flex": null,
            "flex_flow": null,
            "grid_area": null,
            "grid_auto_columns": null,
            "grid_auto_flow": null,
            "grid_auto_rows": null,
            "grid_column": null,
            "grid_gap": null,
            "grid_row": null,
            "grid_template_areas": null,
            "grid_template_columns": null,
            "grid_template_rows": null,
            "height": null,
            "justify_content": null,
            "justify_items": null,
            "left": null,
            "margin": null,
            "max_height": null,
            "max_width": null,
            "min_height": null,
            "min_width": null,
            "object_fit": null,
            "object_position": null,
            "order": null,
            "overflow": null,
            "overflow_x": null,
            "overflow_y": null,
            "padding": null,
            "right": null,
            "top": null,
            "visibility": null,
            "width": null
          }
        },
        "30003494e9c843c5b6d5e22135fb0964": {
          "model_module": "@jupyter-widgets/base",
          "model_module_version": "1.2.0",
          "model_name": "LayoutModel",
          "state": {
            "_model_module": "@jupyter-widgets/base",
            "_model_module_version": "1.2.0",
            "_model_name": "LayoutModel",
            "_view_count": null,
            "_view_module": "@jupyter-widgets/base",
            "_view_module_version": "1.2.0",
            "_view_name": "LayoutView",
            "align_content": null,
            "align_items": null,
            "align_self": null,
            "border": null,
            "bottom": null,
            "display": null,
            "flex": null,
            "flex_flow": null,
            "grid_area": null,
            "grid_auto_columns": null,
            "grid_auto_flow": null,
            "grid_auto_rows": null,
            "grid_column": null,
            "grid_gap": null,
            "grid_row": null,
            "grid_template_areas": null,
            "grid_template_columns": null,
            "grid_template_rows": null,
            "height": null,
            "justify_content": null,
            "justify_items": null,
            "left": null,
            "margin": null,
            "max_height": null,
            "max_width": null,
            "min_height": null,
            "min_width": null,
            "object_fit": null,
            "object_position": null,
            "order": null,
            "overflow": null,
            "overflow_x": null,
            "overflow_y": null,
            "padding": null,
            "right": null,
            "top": null,
            "visibility": null,
            "width": null
          }
        },
        "309bb7d01922425ab1f9274298bea6d2": {
          "model_module": "@jupyter-widgets/controls",
          "model_module_version": "1.5.0",
          "model_name": "ProgressStyleModel",
          "state": {
            "_model_module": "@jupyter-widgets/controls",
            "_model_module_version": "1.5.0",
            "_model_name": "ProgressStyleModel",
            "_view_count": null,
            "_view_module": "@jupyter-widgets/base",
            "_view_module_version": "1.2.0",
            "_view_name": "StyleView",
            "bar_color": null,
            "description_width": ""
          }
        },
        "352c9bb236fd482384e4bff4900d8a2c": {
          "model_module": "@jupyter-widgets/controls",
          "model_module_version": "1.5.0",
          "model_name": "FloatProgressModel",
          "state": {
            "_dom_classes": [],
            "_model_module": "@jupyter-widgets/controls",
            "_model_module_version": "1.5.0",
            "_model_name": "FloatProgressModel",
            "_view_count": null,
            "_view_module": "@jupyter-widgets/controls",
            "_view_module_version": "1.5.0",
            "_view_name": "ProgressView",
            "bar_style": "success",
            "description": "",
            "description_tooltip": null,
            "layout": "IPY_MODEL_0e0ca79cde4b4bf3a58e30222ae7b43d",
            "max": 125,
            "min": 0,
            "orientation": "horizontal",
            "style": "IPY_MODEL_309bb7d01922425ab1f9274298bea6d2",
            "value": 125
          }
        },
        "35c474b7a583467a8ceb72e67f431d7a": {
          "model_module": "@jupyter-widgets/controls",
          "model_module_version": "1.5.0",
          "model_name": "HTMLModel",
          "state": {
            "_dom_classes": [],
            "_model_module": "@jupyter-widgets/controls",
            "_model_module_version": "1.5.0",
            "_model_name": "HTMLModel",
            "_view_count": null,
            "_view_module": "@jupyter-widgets/controls",
            "_view_module_version": "1.5.0",
            "_view_name": "HTMLView",
            "description": "",
            "description_tooltip": null,
            "layout": "IPY_MODEL_8bcb95cefbca4d9f9279d51fb68c1576",
            "placeholder": "​",
            "style": "IPY_MODEL_4e54229853004886835ec83d2bb730a0",
            "value": "vocab.txt: 100%"
          }
        },
        "3969d33dbf6e4c83b706cff2211f472e": {
          "model_module": "@jupyter-widgets/controls",
          "model_module_version": "1.5.0",
          "model_name": "ProgressStyleModel",
          "state": {
            "_model_module": "@jupyter-widgets/controls",
            "_model_module_version": "1.5.0",
            "_model_name": "ProgressStyleModel",
            "_view_count": null,
            "_view_module": "@jupyter-widgets/base",
            "_view_module_version": "1.2.0",
            "_view_name": "StyleView",
            "bar_color": null,
            "description_width": ""
          }
        },
        "40ca88ba2de6482facb243685dabe64e": {
          "model_module": "@jupyter-widgets/controls",
          "model_module_version": "1.5.0",
          "model_name": "DescriptionStyleModel",
          "state": {
            "_model_module": "@jupyter-widgets/controls",
            "_model_module_version": "1.5.0",
            "_model_name": "DescriptionStyleModel",
            "_view_count": null,
            "_view_module": "@jupyter-widgets/base",
            "_view_module_version": "1.2.0",
            "_view_name": "StyleView",
            "description_width": ""
          }
        },
        "418c70502cd44134916f175e256b8d0e": {
          "model_module": "@jupyter-widgets/controls",
          "model_module_version": "1.5.0",
          "model_name": "DescriptionStyleModel",
          "state": {
            "_model_module": "@jupyter-widgets/controls",
            "_model_module_version": "1.5.0",
            "_model_name": "DescriptionStyleModel",
            "_view_count": null,
            "_view_module": "@jupyter-widgets/base",
            "_view_module_version": "1.2.0",
            "_view_name": "StyleView",
            "description_width": ""
          }
        },
        "480bb96ea579432e8d6105441691af0c": {
          "model_module": "@jupyter-widgets/base",
          "model_module_version": "1.2.0",
          "model_name": "LayoutModel",
          "state": {
            "_model_module": "@jupyter-widgets/base",
            "_model_module_version": "1.2.0",
            "_model_name": "LayoutModel",
            "_view_count": null,
            "_view_module": "@jupyter-widgets/base",
            "_view_module_version": "1.2.0",
            "_view_name": "LayoutView",
            "align_content": null,
            "align_items": null,
            "align_self": null,
            "border": null,
            "bottom": null,
            "display": null,
            "flex": null,
            "flex_flow": null,
            "grid_area": null,
            "grid_auto_columns": null,
            "grid_auto_flow": null,
            "grid_auto_rows": null,
            "grid_column": null,
            "grid_gap": null,
            "grid_row": null,
            "grid_template_areas": null,
            "grid_template_columns": null,
            "grid_template_rows": null,
            "height": null,
            "justify_content": null,
            "justify_items": null,
            "left": null,
            "margin": null,
            "max_height": null,
            "max_width": null,
            "min_height": null,
            "min_width": null,
            "object_fit": null,
            "object_position": null,
            "order": null,
            "overflow": null,
            "overflow_x": null,
            "overflow_y": null,
            "padding": null,
            "right": null,
            "top": null,
            "visibility": null,
            "width": null
          }
        },
        "49cef8831e8e4d51bdc14260fd013e27": {
          "model_module": "@jupyter-widgets/controls",
          "model_module_version": "1.5.0",
          "model_name": "ProgressStyleModel",
          "state": {
            "_model_module": "@jupyter-widgets/controls",
            "_model_module_version": "1.5.0",
            "_model_name": "ProgressStyleModel",
            "_view_count": null,
            "_view_module": "@jupyter-widgets/base",
            "_view_module_version": "1.2.0",
            "_view_name": "StyleView",
            "bar_color": null,
            "description_width": ""
          }
        },
        "4b7f76988e1642798fae609d9eea5451": {
          "model_module": "@jupyter-widgets/controls",
          "model_module_version": "1.5.0",
          "model_name": "FloatProgressModel",
          "state": {
            "_dom_classes": [],
            "_model_module": "@jupyter-widgets/controls",
            "_model_module_version": "1.5.0",
            "_model_name": "FloatProgressModel",
            "_view_count": null,
            "_view_module": "@jupyter-widgets/controls",
            "_view_module_version": "1.5.0",
            "_view_name": "ProgressView",
            "bar_style": "success",
            "description": "",
            "description_tooltip": null,
            "layout": "IPY_MODEL_c3bdaacbdc13422099316a21840f6d94",
            "max": 2807296,
            "min": 0,
            "orientation": "horizontal",
            "style": "IPY_MODEL_5a884347079848ada5aa34f508b5928b",
            "value": 2807296
          }
        },
        "4d2de2bca5f148e39634fd665db8fcdd": {
          "model_module": "@jupyter-widgets/controls",
          "model_module_version": "1.5.0",
          "model_name": "HBoxModel",
          "state": {
            "_dom_classes": [],
            "_model_module": "@jupyter-widgets/controls",
            "_model_module_version": "1.5.0",
            "_model_name": "HBoxModel",
            "_view_count": null,
            "_view_module": "@jupyter-widgets/controls",
            "_view_module_version": "1.5.0",
            "_view_name": "HBoxView",
            "box_style": "",
            "children": [
              "IPY_MODEL_d653e8d3fd2244348981b9143d152012",
              "IPY_MODEL_99131b9ba0384e338c0e93bd5f94fbae",
              "IPY_MODEL_185eb1ebd7924ebc8172d394ef64082f"
            ],
            "layout": "IPY_MODEL_aca2ef1d9b934f249a829fb67e1fa1f7"
          }
        },
        "4e54229853004886835ec83d2bb730a0": {
          "model_module": "@jupyter-widgets/controls",
          "model_module_version": "1.5.0",
          "model_name": "DescriptionStyleModel",
          "state": {
            "_model_module": "@jupyter-widgets/controls",
            "_model_module_version": "1.5.0",
            "_model_name": "DescriptionStyleModel",
            "_view_count": null,
            "_view_module": "@jupyter-widgets/base",
            "_view_module_version": "1.2.0",
            "_view_name": "StyleView",
            "description_width": ""
          }
        },
        "5467058b454f4990a1011856c05c527b": {
          "model_module": "@jupyter-widgets/base",
          "model_module_version": "1.2.0",
          "model_name": "LayoutModel",
          "state": {
            "_model_module": "@jupyter-widgets/base",
            "_model_module_version": "1.2.0",
            "_model_name": "LayoutModel",
            "_view_count": null,
            "_view_module": "@jupyter-widgets/base",
            "_view_module_version": "1.2.0",
            "_view_name": "LayoutView",
            "align_content": null,
            "align_items": null,
            "align_self": null,
            "border": null,
            "bottom": null,
            "display": null,
            "flex": null,
            "flex_flow": null,
            "grid_area": null,
            "grid_auto_columns": null,
            "grid_auto_flow": null,
            "grid_auto_rows": null,
            "grid_column": null,
            "grid_gap": null,
            "grid_row": null,
            "grid_template_areas": null,
            "grid_template_columns": null,
            "grid_template_rows": null,
            "height": null,
            "justify_content": null,
            "justify_items": null,
            "left": null,
            "margin": null,
            "max_height": null,
            "max_width": null,
            "min_height": null,
            "min_width": null,
            "object_fit": null,
            "object_position": null,
            "order": null,
            "overflow": null,
            "overflow_x": null,
            "overflow_y": null,
            "padding": null,
            "right": null,
            "top": null,
            "visibility": null,
            "width": null
          }
        },
        "562080f554c24a81821c9e6e8b3e6ab1": {
          "model_module": "@jupyter-widgets/base",
          "model_module_version": "1.2.0",
          "model_name": "LayoutModel",
          "state": {
            "_model_module": "@jupyter-widgets/base",
            "_model_module_version": "1.2.0",
            "_model_name": "LayoutModel",
            "_view_count": null,
            "_view_module": "@jupyter-widgets/base",
            "_view_module_version": "1.2.0",
            "_view_name": "LayoutView",
            "align_content": null,
            "align_items": null,
            "align_self": null,
            "border": null,
            "bottom": null,
            "display": null,
            "flex": null,
            "flex_flow": null,
            "grid_area": null,
            "grid_auto_columns": null,
            "grid_auto_flow": null,
            "grid_auto_rows": null,
            "grid_column": null,
            "grid_gap": null,
            "grid_row": null,
            "grid_template_areas": null,
            "grid_template_columns": null,
            "grid_template_rows": null,
            "height": null,
            "justify_content": null,
            "justify_items": null,
            "left": null,
            "margin": null,
            "max_height": null,
            "max_width": null,
            "min_height": null,
            "min_width": null,
            "object_fit": null,
            "object_position": null,
            "order": null,
            "overflow": null,
            "overflow_x": null,
            "overflow_y": null,
            "padding": null,
            "right": null,
            "top": null,
            "visibility": null,
            "width": null
          }
        },
        "56523a58c2f94082a64ceccce90f561c": {
          "model_module": "@jupyter-widgets/controls",
          "model_module_version": "1.5.0",
          "model_name": "DescriptionStyleModel",
          "state": {
            "_model_module": "@jupyter-widgets/controls",
            "_model_module_version": "1.5.0",
            "_model_name": "DescriptionStyleModel",
            "_view_count": null,
            "_view_module": "@jupyter-widgets/base",
            "_view_module_version": "1.2.0",
            "_view_name": "StyleView",
            "description_width": ""
          }
        },
        "5a884347079848ada5aa34f508b5928b": {
          "model_module": "@jupyter-widgets/controls",
          "model_module_version": "1.5.0",
          "model_name": "ProgressStyleModel",
          "state": {
            "_model_module": "@jupyter-widgets/controls",
            "_model_module_version": "1.5.0",
            "_model_name": "ProgressStyleModel",
            "_view_count": null,
            "_view_module": "@jupyter-widgets/base",
            "_view_module_version": "1.2.0",
            "_view_name": "StyleView",
            "bar_color": null,
            "description_width": ""
          }
        },
        "5d6aa7b83ff14f89952c75e82694f3a9": {
          "model_module": "@jupyter-widgets/base",
          "model_module_version": "1.2.0",
          "model_name": "LayoutModel",
          "state": {
            "_model_module": "@jupyter-widgets/base",
            "_model_module_version": "1.2.0",
            "_model_name": "LayoutModel",
            "_view_count": null,
            "_view_module": "@jupyter-widgets/base",
            "_view_module_version": "1.2.0",
            "_view_name": "LayoutView",
            "align_content": null,
            "align_items": null,
            "align_self": null,
            "border": null,
            "bottom": null,
            "display": null,
            "flex": null,
            "flex_flow": null,
            "grid_area": null,
            "grid_auto_columns": null,
            "grid_auto_flow": null,
            "grid_auto_rows": null,
            "grid_column": null,
            "grid_gap": null,
            "grid_row": null,
            "grid_template_areas": null,
            "grid_template_columns": null,
            "grid_template_rows": null,
            "height": null,
            "justify_content": null,
            "justify_items": null,
            "left": null,
            "margin": null,
            "max_height": null,
            "max_width": null,
            "min_height": null,
            "min_width": null,
            "object_fit": null,
            "object_position": null,
            "order": null,
            "overflow": null,
            "overflow_x": null,
            "overflow_y": null,
            "padding": null,
            "right": null,
            "top": null,
            "visibility": null,
            "width": null
          }
        },
        "664097fbc3dd494f833898a2f31f3a15": {
          "model_module": "@jupyter-widgets/controls",
          "model_module_version": "1.5.0",
          "model_name": "DescriptionStyleModel",
          "state": {
            "_model_module": "@jupyter-widgets/controls",
            "_model_module_version": "1.5.0",
            "_model_name": "DescriptionStyleModel",
            "_view_count": null,
            "_view_module": "@jupyter-widgets/base",
            "_view_module_version": "1.2.0",
            "_view_name": "StyleView",
            "description_width": ""
          }
        },
        "67bfd9a5f5804a5f87ba8767bc129a39": {
          "model_module": "@jupyter-widgets/base",
          "model_module_version": "1.2.0",
          "model_name": "LayoutModel",
          "state": {
            "_model_module": "@jupyter-widgets/base",
            "_model_module_version": "1.2.0",
            "_model_name": "LayoutModel",
            "_view_count": null,
            "_view_module": "@jupyter-widgets/base",
            "_view_module_version": "1.2.0",
            "_view_name": "LayoutView",
            "align_content": null,
            "align_items": null,
            "align_self": null,
            "border": null,
            "bottom": null,
            "display": null,
            "flex": null,
            "flex_flow": null,
            "grid_area": null,
            "grid_auto_columns": null,
            "grid_auto_flow": null,
            "grid_auto_rows": null,
            "grid_column": null,
            "grid_gap": null,
            "grid_row": null,
            "grid_template_areas": null,
            "grid_template_columns": null,
            "grid_template_rows": null,
            "height": null,
            "justify_content": null,
            "justify_items": null,
            "left": null,
            "margin": null,
            "max_height": null,
            "max_width": null,
            "min_height": null,
            "min_width": null,
            "object_fit": null,
            "object_position": null,
            "order": null,
            "overflow": null,
            "overflow_x": null,
            "overflow_y": null,
            "padding": null,
            "right": null,
            "top": null,
            "visibility": null,
            "width": null
          }
        },
        "6fc8e90334d4415590fdfa58f152259a": {
          "model_module": "@jupyter-widgets/controls",
          "model_module_version": "1.5.0",
          "model_name": "DescriptionStyleModel",
          "state": {
            "_model_module": "@jupyter-widgets/controls",
            "_model_module_version": "1.5.0",
            "_model_name": "DescriptionStyleModel",
            "_view_count": null,
            "_view_module": "@jupyter-widgets/base",
            "_view_module_version": "1.2.0",
            "_view_name": "StyleView",
            "description_width": ""
          }
        },
        "705d0039200e48c390906a9ef0487d50": {
          "model_module": "@jupyter-widgets/base",
          "model_module_version": "1.2.0",
          "model_name": "LayoutModel",
          "state": {
            "_model_module": "@jupyter-widgets/base",
            "_model_module_version": "1.2.0",
            "_model_name": "LayoutModel",
            "_view_count": null,
            "_view_module": "@jupyter-widgets/base",
            "_view_module_version": "1.2.0",
            "_view_name": "LayoutView",
            "align_content": null,
            "align_items": null,
            "align_self": null,
            "border": null,
            "bottom": null,
            "display": null,
            "flex": null,
            "flex_flow": null,
            "grid_area": null,
            "grid_auto_columns": null,
            "grid_auto_flow": null,
            "grid_auto_rows": null,
            "grid_column": null,
            "grid_gap": null,
            "grid_row": null,
            "grid_template_areas": null,
            "grid_template_columns": null,
            "grid_template_rows": null,
            "height": null,
            "justify_content": null,
            "justify_items": null,
            "left": null,
            "margin": null,
            "max_height": null,
            "max_width": null,
            "min_height": null,
            "min_width": null,
            "object_fit": null,
            "object_position": null,
            "order": null,
            "overflow": null,
            "overflow_x": null,
            "overflow_y": null,
            "padding": null,
            "right": null,
            "top": null,
            "visibility": null,
            "width": null
          }
        },
        "72ca6855823e4d339473ff8e11e89050": {
          "model_module": "@jupyter-widgets/base",
          "model_module_version": "1.2.0",
          "model_name": "LayoutModel",
          "state": {
            "_model_module": "@jupyter-widgets/base",
            "_model_module_version": "1.2.0",
            "_model_name": "LayoutModel",
            "_view_count": null,
            "_view_module": "@jupyter-widgets/base",
            "_view_module_version": "1.2.0",
            "_view_name": "LayoutView",
            "align_content": null,
            "align_items": null,
            "align_self": null,
            "border": null,
            "bottom": null,
            "display": null,
            "flex": null,
            "flex_flow": null,
            "grid_area": null,
            "grid_auto_columns": null,
            "grid_auto_flow": null,
            "grid_auto_rows": null,
            "grid_column": null,
            "grid_gap": null,
            "grid_row": null,
            "grid_template_areas": null,
            "grid_template_columns": null,
            "grid_template_rows": null,
            "height": null,
            "justify_content": null,
            "justify_items": null,
            "left": null,
            "margin": null,
            "max_height": null,
            "max_width": null,
            "min_height": null,
            "min_width": null,
            "object_fit": null,
            "object_position": null,
            "order": null,
            "overflow": null,
            "overflow_x": null,
            "overflow_y": null,
            "padding": null,
            "right": null,
            "top": null,
            "visibility": null,
            "width": null
          }
        },
        "76834d10a5f84b4a831a193ec89ca0d4": {
          "model_module": "@jupyter-widgets/base",
          "model_module_version": "1.2.0",
          "model_name": "LayoutModel",
          "state": {
            "_model_module": "@jupyter-widgets/base",
            "_model_module_version": "1.2.0",
            "_model_name": "LayoutModel",
            "_view_count": null,
            "_view_module": "@jupyter-widgets/base",
            "_view_module_version": "1.2.0",
            "_view_name": "LayoutView",
            "align_content": null,
            "align_items": null,
            "align_self": null,
            "border": null,
            "bottom": null,
            "display": null,
            "flex": null,
            "flex_flow": null,
            "grid_area": null,
            "grid_auto_columns": null,
            "grid_auto_flow": null,
            "grid_auto_rows": null,
            "grid_column": null,
            "grid_gap": null,
            "grid_row": null,
            "grid_template_areas": null,
            "grid_template_columns": null,
            "grid_template_rows": null,
            "height": null,
            "justify_content": null,
            "justify_items": null,
            "left": null,
            "margin": null,
            "max_height": null,
            "max_width": null,
            "min_height": null,
            "min_width": null,
            "object_fit": null,
            "object_position": null,
            "order": null,
            "overflow": null,
            "overflow_x": null,
            "overflow_y": null,
            "padding": null,
            "right": null,
            "top": null,
            "visibility": null,
            "width": null
          }
        },
        "7795dc2ad3844a5ab3d42d240d02526e": {
          "model_module": "@jupyter-widgets/controls",
          "model_module_version": "1.5.0",
          "model_name": "HTMLModel",
          "state": {
            "_dom_classes": [],
            "_model_module": "@jupyter-widgets/controls",
            "_model_module_version": "1.5.0",
            "_model_name": "HTMLModel",
            "_view_count": null,
            "_view_module": "@jupyter-widgets/controls",
            "_view_module_version": "1.5.0",
            "_view_name": "HTMLView",
            "description": "",
            "description_tooltip": null,
            "layout": "IPY_MODEL_562080f554c24a81821c9e6e8b3e6ab1",
            "placeholder": "​",
            "style": "IPY_MODEL_04bd66f177c34ac3bcd63860652fd88a",
            "value": "tokenizer.json: 100%"
          }
        },
        "7cdadfe434d24daf87fccc532ed991c2": {
          "model_module": "@jupyter-widgets/controls",
          "model_module_version": "1.5.0",
          "model_name": "FloatProgressModel",
          "state": {
            "_dom_classes": [],
            "_model_module": "@jupyter-widgets/controls",
            "_model_module_version": "1.5.0",
            "_model_name": "FloatProgressModel",
            "_view_count": null,
            "_view_module": "@jupyter-widgets/controls",
            "_view_module_version": "1.5.0",
            "_view_name": "ProgressView",
            "bar_style": "success",
            "description": "",
            "description_tooltip": null,
            "layout": "IPY_MODEL_bd84e35ddd4e4525a3659b0836a162f3",
            "max": 651795240,
            "min": 0,
            "orientation": "horizontal",
            "style": "IPY_MODEL_9f60bf78f0e44cab88b3f39c7ab63d54",
            "value": 651795240
          }
        },
        "7d2cea317da54994ba904ee75f186c96": {
          "model_module": "@jupyter-widgets/controls",
          "model_module_version": "1.5.0",
          "model_name": "HTMLModel",
          "state": {
            "_dom_classes": [],
            "_model_module": "@jupyter-widgets/controls",
            "_model_module_version": "1.5.0",
            "_model_name": "HTMLModel",
            "_view_count": null,
            "_view_module": "@jupyter-widgets/controls",
            "_view_module_version": "1.5.0",
            "_view_name": "HTMLView",
            "description": "",
            "description_tooltip": null,
            "layout": "IPY_MODEL_daf751c001a44c79998cf3b4477279a3",
            "placeholder": "​",
            "style": "IPY_MODEL_b6b9124dc57b40eca11fe601a57da866",
            "value": " 434/434 [00:00&lt;00:00, 22.1kB/s]"
          }
        },
        "8009e2302fde46d4a210e075f78fec94": {
          "model_module": "@jupyter-widgets/base",
          "model_module_version": "1.2.0",
          "model_name": "LayoutModel",
          "state": {
            "_model_module": "@jupyter-widgets/base",
            "_model_module_version": "1.2.0",
            "_model_name": "LayoutModel",
            "_view_count": null,
            "_view_module": "@jupyter-widgets/base",
            "_view_module_version": "1.2.0",
            "_view_name": "LayoutView",
            "align_content": null,
            "align_items": null,
            "align_self": null,
            "border": null,
            "bottom": null,
            "display": null,
            "flex": null,
            "flex_flow": null,
            "grid_area": null,
            "grid_auto_columns": null,
            "grid_auto_flow": null,
            "grid_auto_rows": null,
            "grid_column": null,
            "grid_gap": null,
            "grid_row": null,
            "grid_template_areas": null,
            "grid_template_columns": null,
            "grid_template_rows": null,
            "height": null,
            "justify_content": null,
            "justify_items": null,
            "left": null,
            "margin": null,
            "max_height": null,
            "max_width": null,
            "min_height": null,
            "min_width": null,
            "object_fit": null,
            "object_position": null,
            "order": null,
            "overflow": null,
            "overflow_x": null,
            "overflow_y": null,
            "padding": null,
            "right": null,
            "top": null,
            "visibility": null,
            "width": null
          }
        },
        "802ce74ca9424713b747565546fc2b44": {
          "model_module": "@jupyter-widgets/base",
          "model_module_version": "1.2.0",
          "model_name": "LayoutModel",
          "state": {
            "_model_module": "@jupyter-widgets/base",
            "_model_module_version": "1.2.0",
            "_model_name": "LayoutModel",
            "_view_count": null,
            "_view_module": "@jupyter-widgets/base",
            "_view_module_version": "1.2.0",
            "_view_name": "LayoutView",
            "align_content": null,
            "align_items": null,
            "align_self": null,
            "border": null,
            "bottom": null,
            "display": null,
            "flex": null,
            "flex_flow": null,
            "grid_area": null,
            "grid_auto_columns": null,
            "grid_auto_flow": null,
            "grid_auto_rows": null,
            "grid_column": null,
            "grid_gap": null,
            "grid_row": null,
            "grid_template_areas": null,
            "grid_template_columns": null,
            "grid_template_rows": null,
            "height": null,
            "justify_content": null,
            "justify_items": null,
            "left": null,
            "margin": null,
            "max_height": null,
            "max_width": null,
            "min_height": null,
            "min_width": null,
            "object_fit": null,
            "object_position": null,
            "order": null,
            "overflow": null,
            "overflow_x": null,
            "overflow_y": null,
            "padding": null,
            "right": null,
            "top": null,
            "visibility": null,
            "width": null
          }
        },
        "80f76c02018b44d684c4769448a4ca47": {
          "model_module": "@jupyter-widgets/controls",
          "model_module_version": "1.5.0",
          "model_name": "DescriptionStyleModel",
          "state": {
            "_model_module": "@jupyter-widgets/controls",
            "_model_module_version": "1.5.0",
            "_model_name": "DescriptionStyleModel",
            "_view_count": null,
            "_view_module": "@jupyter-widgets/base",
            "_view_module_version": "1.2.0",
            "_view_name": "StyleView",
            "description_width": ""
          }
        },
        "84fd6425b3cf4f7199f99fd2dd3aa451": {
          "model_module": "@jupyter-widgets/controls",
          "model_module_version": "1.5.0",
          "model_name": "DescriptionStyleModel",
          "state": {
            "_model_module": "@jupyter-widgets/controls",
            "_model_module_version": "1.5.0",
            "_model_name": "DescriptionStyleModel",
            "_view_count": null,
            "_view_module": "@jupyter-widgets/base",
            "_view_module_version": "1.2.0",
            "_view_name": "StyleView",
            "description_width": ""
          }
        },
        "87420f1c85b04854869510b19d2ae723": {
          "model_module": "@jupyter-widgets/controls",
          "model_module_version": "1.5.0",
          "model_name": "HBoxModel",
          "state": {
            "_dom_classes": [],
            "_model_module": "@jupyter-widgets/controls",
            "_model_module_version": "1.5.0",
            "_model_name": "HBoxModel",
            "_view_count": null,
            "_view_module": "@jupyter-widgets/controls",
            "_view_module_version": "1.5.0",
            "_view_name": "HBoxView",
            "box_style": "",
            "children": [
              "IPY_MODEL_cfb75dfb11e44e02ab64cb04b6dc12ec",
              "IPY_MODEL_352c9bb236fd482384e4bff4900d8a2c",
              "IPY_MODEL_e890e46256ec4aa9b704a290f7b4ee31"
            ],
            "layout": "IPY_MODEL_705d0039200e48c390906a9ef0487d50"
          }
        },
        "8908ed0d37554856b3aba292fc5dd803": {
          "model_module": "@jupyter-widgets/base",
          "model_module_version": "1.2.0",
          "model_name": "LayoutModel",
          "state": {
            "_model_module": "@jupyter-widgets/base",
            "_model_module_version": "1.2.0",
            "_model_name": "LayoutModel",
            "_view_count": null,
            "_view_module": "@jupyter-widgets/base",
            "_view_module_version": "1.2.0",
            "_view_name": "LayoutView",
            "align_content": null,
            "align_items": null,
            "align_self": null,
            "border": null,
            "bottom": null,
            "display": null,
            "flex": null,
            "flex_flow": null,
            "grid_area": null,
            "grid_auto_columns": null,
            "grid_auto_flow": null,
            "grid_auto_rows": null,
            "grid_column": null,
            "grid_gap": null,
            "grid_row": null,
            "grid_template_areas": null,
            "grid_template_columns": null,
            "grid_template_rows": null,
            "height": null,
            "justify_content": null,
            "justify_items": null,
            "left": null,
            "margin": null,
            "max_height": null,
            "max_width": null,
            "min_height": null,
            "min_width": null,
            "object_fit": null,
            "object_position": null,
            "order": null,
            "overflow": null,
            "overflow_x": null,
            "overflow_y": null,
            "padding": null,
            "right": null,
            "top": null,
            "visibility": null,
            "width": null
          }
        },
        "8a7016c33dc14e9ca47632fd359f606e": {
          "model_module": "@jupyter-widgets/controls",
          "model_module_version": "1.5.0",
          "model_name": "HTMLModel",
          "state": {
            "_dom_classes": [],
            "_model_module": "@jupyter-widgets/controls",
            "_model_module_version": "1.5.0",
            "_model_name": "HTMLModel",
            "_view_count": null,
            "_view_module": "@jupyter-widgets/controls",
            "_view_module_version": "1.5.0",
            "_view_name": "HTMLView",
            "description": "",
            "description_tooltip": null,
            "layout": "IPY_MODEL_5467058b454f4990a1011856c05c527b",
            "placeholder": "​",
            "style": "IPY_MODEL_80f76c02018b44d684c4769448a4ca47",
            "value": "config.json: 100%"
          }
        },
        "8bcb95cefbca4d9f9279d51fb68c1576": {
          "model_module": "@jupyter-widgets/base",
          "model_module_version": "1.2.0",
          "model_name": "LayoutModel",
          "state": {
            "_model_module": "@jupyter-widgets/base",
            "_model_module_version": "1.2.0",
            "_model_name": "LayoutModel",
            "_view_count": null,
            "_view_module": "@jupyter-widgets/base",
            "_view_module_version": "1.2.0",
            "_view_name": "LayoutView",
            "align_content": null,
            "align_items": null,
            "align_self": null,
            "border": null,
            "bottom": null,
            "display": null,
            "flex": null,
            "flex_flow": null,
            "grid_area": null,
            "grid_auto_columns": null,
            "grid_auto_flow": null,
            "grid_auto_rows": null,
            "grid_column": null,
            "grid_gap": null,
            "grid_row": null,
            "grid_template_areas": null,
            "grid_template_columns": null,
            "grid_template_rows": null,
            "height": null,
            "justify_content": null,
            "justify_items": null,
            "left": null,
            "margin": null,
            "max_height": null,
            "max_width": null,
            "min_height": null,
            "min_width": null,
            "object_fit": null,
            "object_position": null,
            "order": null,
            "overflow": null,
            "overflow_x": null,
            "overflow_y": null,
            "padding": null,
            "right": null,
            "top": null,
            "visibility": null,
            "width": null
          }
        },
        "906f5ffc28d142c0a9604c241eb36212": {
          "model_module": "@jupyter-widgets/controls",
          "model_module_version": "1.5.0",
          "model_name": "ProgressStyleModel",
          "state": {
            "_model_module": "@jupyter-widgets/controls",
            "_model_module_version": "1.5.0",
            "_model_name": "ProgressStyleModel",
            "_view_count": null,
            "_view_module": "@jupyter-widgets/base",
            "_view_module_version": "1.2.0",
            "_view_name": "StyleView",
            "bar_color": null,
            "description_width": ""
          }
        },
        "928d8e05a13e46059fb0315c79b53414": {
          "model_module": "@jupyter-widgets/controls",
          "model_module_version": "1.5.0",
          "model_name": "HTMLModel",
          "state": {
            "_dom_classes": [],
            "_model_module": "@jupyter-widgets/controls",
            "_model_module_version": "1.5.0",
            "_model_name": "HTMLModel",
            "_view_count": null,
            "_view_module": "@jupyter-widgets/controls",
            "_view_module_version": "1.5.0",
            "_view_name": "HTMLView",
            "description": "",
            "description_tooltip": null,
            "layout": "IPY_MODEL_a62aa49453604d5eb2f435d84b604c08",
            "placeholder": "​",
            "style": "IPY_MODEL_152142d223b047e39e1dca684c03553f",
            "value": "tokenizer_config.json: 100%"
          }
        },
        "962812803fc74872adfa80c3f91b44e4": {
          "model_module": "@jupyter-widgets/controls",
          "model_module_version": "1.5.0",
          "model_name": "HTMLModel",
          "state": {
            "_dom_classes": [],
            "_model_module": "@jupyter-widgets/controls",
            "_model_module_version": "1.5.0",
            "_model_name": "HTMLModel",
            "_view_count": null,
            "_view_module": "@jupyter-widgets/controls",
            "_view_module_version": "1.5.0",
            "_view_name": "HTMLView",
            "description": "",
            "description_tooltip": null,
            "layout": "IPY_MODEL_72ca6855823e4d339473ff8e11e89050",
            "placeholder": "​",
            "style": "IPY_MODEL_9703a79f8add4e6bb4503bdd6fdbf631",
            "value": "model.safetensors: 100%"
          }
        },
        "9703a79f8add4e6bb4503bdd6fdbf631": {
          "model_module": "@jupyter-widgets/controls",
          "model_module_version": "1.5.0",
          "model_name": "DescriptionStyleModel",
          "state": {
            "_model_module": "@jupyter-widgets/controls",
            "_model_module_version": "1.5.0",
            "_model_name": "DescriptionStyleModel",
            "_view_count": null,
            "_view_module": "@jupyter-widgets/base",
            "_view_module_version": "1.2.0",
            "_view_name": "StyleView",
            "description_width": ""
          }
        },
        "972e78f2485f43fd851d2a3e1cc0c0bc": {
          "model_module": "@jupyter-widgets/controls",
          "model_module_version": "1.5.0",
          "model_name": "HTMLModel",
          "state": {
            "_dom_classes": [],
            "_model_module": "@jupyter-widgets/controls",
            "_model_module_version": "1.5.0",
            "_model_name": "HTMLModel",
            "_view_count": null,
            "_view_module": "@jupyter-widgets/controls",
            "_view_module_version": "1.5.0",
            "_view_name": "HTMLView",
            "description": "",
            "description_tooltip": null,
            "layout": "IPY_MODEL_b7ffac90c20342ceb68ee3a33835d8b3",
            "placeholder": "​",
            "style": "IPY_MODEL_56523a58c2f94082a64ceccce90f561c",
            "value": " 2.81M/2.81M [00:00&lt;00:00, 22.7MB/s]"
          }
        },
        "99131b9ba0384e338c0e93bd5f94fbae": {
          "model_module": "@jupyter-widgets/controls",
          "model_module_version": "1.5.0",
          "model_name": "FloatProgressModel",
          "state": {
            "_dom_classes": [],
            "_model_module": "@jupyter-widgets/controls",
            "_model_module_version": "1.5.0",
            "_model_name": "FloatProgressModel",
            "_view_count": null,
            "_view_module": "@jupyter-widgets/controls",
            "_view_module_version": "1.5.0",
            "_view_name": "ProgressView",
            "bar_style": "success",
            "description": "",
            "description_tooltip": null,
            "layout": "IPY_MODEL_f8b832725b644d0a9bd9043e5d7982bc",
            "max": 652,
            "min": 0,
            "orientation": "horizontal",
            "style": "IPY_MODEL_49cef8831e8e4d51bdc14260fd013e27",
            "value": 652
          }
        },
        "9f60bf78f0e44cab88b3f39c7ab63d54": {
          "model_module": "@jupyter-widgets/controls",
          "model_module_version": "1.5.0",
          "model_name": "ProgressStyleModel",
          "state": {
            "_model_module": "@jupyter-widgets/controls",
            "_model_module_version": "1.5.0",
            "_model_name": "ProgressStyleModel",
            "_view_count": null,
            "_view_module": "@jupyter-widgets/base",
            "_view_module_version": "1.2.0",
            "_view_name": "StyleView",
            "bar_color": null,
            "description_width": ""
          }
        },
        "a47ae7e75eb24e0c8734c31243943772": {
          "model_module": "@jupyter-widgets/base",
          "model_module_version": "1.2.0",
          "model_name": "LayoutModel",
          "state": {
            "_model_module": "@jupyter-widgets/base",
            "_model_module_version": "1.2.0",
            "_model_name": "LayoutModel",
            "_view_count": null,
            "_view_module": "@jupyter-widgets/base",
            "_view_module_version": "1.2.0",
            "_view_name": "LayoutView",
            "align_content": null,
            "align_items": null,
            "align_self": null,
            "border": null,
            "bottom": null,
            "display": null,
            "flex": null,
            "flex_flow": null,
            "grid_area": null,
            "grid_auto_columns": null,
            "grid_auto_flow": null,
            "grid_auto_rows": null,
            "grid_column": null,
            "grid_gap": null,
            "grid_row": null,
            "grid_template_areas": null,
            "grid_template_columns": null,
            "grid_template_rows": null,
            "height": null,
            "justify_content": null,
            "justify_items": null,
            "left": null,
            "margin": null,
            "max_height": null,
            "max_width": null,
            "min_height": null,
            "min_width": null,
            "object_fit": null,
            "object_position": null,
            "order": null,
            "overflow": null,
            "overflow_x": null,
            "overflow_y": null,
            "padding": null,
            "right": null,
            "top": null,
            "visibility": null,
            "width": null
          }
        },
        "a62aa49453604d5eb2f435d84b604c08": {
          "model_module": "@jupyter-widgets/base",
          "model_module_version": "1.2.0",
          "model_name": "LayoutModel",
          "state": {
            "_model_module": "@jupyter-widgets/base",
            "_model_module_version": "1.2.0",
            "_model_name": "LayoutModel",
            "_view_count": null,
            "_view_module": "@jupyter-widgets/base",
            "_view_module_version": "1.2.0",
            "_view_name": "LayoutView",
            "align_content": null,
            "align_items": null,
            "align_self": null,
            "border": null,
            "bottom": null,
            "display": null,
            "flex": null,
            "flex_flow": null,
            "grid_area": null,
            "grid_auto_columns": null,
            "grid_auto_flow": null,
            "grid_auto_rows": null,
            "grid_column": null,
            "grid_gap": null,
            "grid_row": null,
            "grid_template_areas": null,
            "grid_template_columns": null,
            "grid_template_rows": null,
            "height": null,
            "justify_content": null,
            "justify_items": null,
            "left": null,
            "margin": null,
            "max_height": null,
            "max_width": null,
            "min_height": null,
            "min_width": null,
            "object_fit": null,
            "object_position": null,
            "order": null,
            "overflow": null,
            "overflow_x": null,
            "overflow_y": null,
            "padding": null,
            "right": null,
            "top": null,
            "visibility": null,
            "width": null
          }
        },
        "a7ced3e3468d44adad07a2b1c11c34ca": {
          "model_module": "@jupyter-widgets/controls",
          "model_module_version": "1.5.0",
          "model_name": "HTMLModel",
          "state": {
            "_dom_classes": [],
            "_model_module": "@jupyter-widgets/controls",
            "_model_module_version": "1.5.0",
            "_model_name": "HTMLModel",
            "_view_count": null,
            "_view_module": "@jupyter-widgets/controls",
            "_view_module_version": "1.5.0",
            "_view_name": "HTMLView",
            "description": "",
            "description_tooltip": null,
            "layout": "IPY_MODEL_2d7548d017ae4b14b17ab28b9b02c314",
            "placeholder": "​",
            "style": "IPY_MODEL_418c70502cd44134916f175e256b8d0e",
            "value": " 1.26k/1.26k [00:00&lt;00:00, 40.5kB/s]"
          }
        },
        "aca2ef1d9b934f249a829fb67e1fa1f7": {
          "model_module": "@jupyter-widgets/base",
          "model_module_version": "1.2.0",
          "model_name": "LayoutModel",
          "state": {
            "_model_module": "@jupyter-widgets/base",
            "_model_module_version": "1.2.0",
            "_model_name": "LayoutModel",
            "_view_count": null,
            "_view_module": "@jupyter-widgets/base",
            "_view_module_version": "1.2.0",
            "_view_name": "LayoutView",
            "align_content": null,
            "align_items": null,
            "align_self": null,
            "border": null,
            "bottom": null,
            "display": null,
            "flex": null,
            "flex_flow": null,
            "grid_area": null,
            "grid_auto_columns": null,
            "grid_auto_flow": null,
            "grid_auto_rows": null,
            "grid_column": null,
            "grid_gap": null,
            "grid_row": null,
            "grid_template_areas": null,
            "grid_template_columns": null,
            "grid_template_rows": null,
            "height": null,
            "justify_content": null,
            "justify_items": null,
            "left": null,
            "margin": null,
            "max_height": null,
            "max_width": null,
            "min_height": null,
            "min_width": null,
            "object_fit": null,
            "object_position": null,
            "order": null,
            "overflow": null,
            "overflow_x": null,
            "overflow_y": null,
            "padding": null,
            "right": null,
            "top": null,
            "visibility": null,
            "width": null
          }
        },
        "aef929407fe6489c8af305f69e4a17c8": {
          "model_module": "@jupyter-widgets/controls",
          "model_module_version": "1.5.0",
          "model_name": "HBoxModel",
          "state": {
            "_dom_classes": [],
            "_model_module": "@jupyter-widgets/controls",
            "_model_module_version": "1.5.0",
            "_model_name": "HBoxModel",
            "_view_count": null,
            "_view_module": "@jupyter-widgets/controls",
            "_view_module_version": "1.5.0",
            "_view_name": "HBoxView",
            "box_style": "",
            "children": [
              "IPY_MODEL_8a7016c33dc14e9ca47632fd359f606e",
              "IPY_MODEL_e014685fee5746b4b2c436e443492819",
              "IPY_MODEL_7d2cea317da54994ba904ee75f186c96"
            ],
            "layout": "IPY_MODEL_0094840bfa284b189d39e484bb4d44ff"
          }
        },
        "b6b9124dc57b40eca11fe601a57da866": {
          "model_module": "@jupyter-widgets/controls",
          "model_module_version": "1.5.0",
          "model_name": "DescriptionStyleModel",
          "state": {
            "_model_module": "@jupyter-widgets/controls",
            "_model_module_version": "1.5.0",
            "_model_name": "DescriptionStyleModel",
            "_view_count": null,
            "_view_module": "@jupyter-widgets/base",
            "_view_module_version": "1.2.0",
            "_view_name": "StyleView",
            "description_width": ""
          }
        },
        "b7ffac90c20342ceb68ee3a33835d8b3": {
          "model_module": "@jupyter-widgets/base",
          "model_module_version": "1.2.0",
          "model_name": "LayoutModel",
          "state": {
            "_model_module": "@jupyter-widgets/base",
            "_model_module_version": "1.2.0",
            "_model_name": "LayoutModel",
            "_view_count": null,
            "_view_module": "@jupyter-widgets/base",
            "_view_module_version": "1.2.0",
            "_view_name": "LayoutView",
            "align_content": null,
            "align_items": null,
            "align_self": null,
            "border": null,
            "bottom": null,
            "display": null,
            "flex": null,
            "flex_flow": null,
            "grid_area": null,
            "grid_auto_columns": null,
            "grid_auto_flow": null,
            "grid_auto_rows": null,
            "grid_column": null,
            "grid_gap": null,
            "grid_row": null,
            "grid_template_areas": null,
            "grid_template_columns": null,
            "grid_template_rows": null,
            "height": null,
            "justify_content": null,
            "justify_items": null,
            "left": null,
            "margin": null,
            "max_height": null,
            "max_width": null,
            "min_height": null,
            "min_width": null,
            "object_fit": null,
            "object_position": null,
            "order": null,
            "overflow": null,
            "overflow_x": null,
            "overflow_y": null,
            "padding": null,
            "right": null,
            "top": null,
            "visibility": null,
            "width": null
          }
        },
        "bb2884f67d8c43588b672777f0837b91": {
          "model_module": "@jupyter-widgets/controls",
          "model_module_version": "1.5.0",
          "model_name": "DescriptionStyleModel",
          "state": {
            "_model_module": "@jupyter-widgets/controls",
            "_model_module_version": "1.5.0",
            "_model_name": "DescriptionStyleModel",
            "_view_count": null,
            "_view_module": "@jupyter-widgets/base",
            "_view_module_version": "1.2.0",
            "_view_name": "StyleView",
            "description_width": ""
          }
        },
        "bd84e35ddd4e4525a3659b0836a162f3": {
          "model_module": "@jupyter-widgets/base",
          "model_module_version": "1.2.0",
          "model_name": "LayoutModel",
          "state": {
            "_model_module": "@jupyter-widgets/base",
            "_model_module_version": "1.2.0",
            "_model_name": "LayoutModel",
            "_view_count": null,
            "_view_module": "@jupyter-widgets/base",
            "_view_module_version": "1.2.0",
            "_view_name": "LayoutView",
            "align_content": null,
            "align_items": null,
            "align_self": null,
            "border": null,
            "bottom": null,
            "display": null,
            "flex": null,
            "flex_flow": null,
            "grid_area": null,
            "grid_auto_columns": null,
            "grid_auto_flow": null,
            "grid_auto_rows": null,
            "grid_column": null,
            "grid_gap": null,
            "grid_row": null,
            "grid_template_areas": null,
            "grid_template_columns": null,
            "grid_template_rows": null,
            "height": null,
            "justify_content": null,
            "justify_items": null,
            "left": null,
            "margin": null,
            "max_height": null,
            "max_width": null,
            "min_height": null,
            "min_width": null,
            "object_fit": null,
            "object_position": null,
            "order": null,
            "overflow": null,
            "overflow_x": null,
            "overflow_y": null,
            "padding": null,
            "right": null,
            "top": null,
            "visibility": null,
            "width": null
          }
        },
        "c3bdaacbdc13422099316a21840f6d94": {
          "model_module": "@jupyter-widgets/base",
          "model_module_version": "1.2.0",
          "model_name": "LayoutModel",
          "state": {
            "_model_module": "@jupyter-widgets/base",
            "_model_module_version": "1.2.0",
            "_model_name": "LayoutModel",
            "_view_count": null,
            "_view_module": "@jupyter-widgets/base",
            "_view_module_version": "1.2.0",
            "_view_name": "LayoutView",
            "align_content": null,
            "align_items": null,
            "align_self": null,
            "border": null,
            "bottom": null,
            "display": null,
            "flex": null,
            "flex_flow": null,
            "grid_area": null,
            "grid_auto_columns": null,
            "grid_auto_flow": null,
            "grid_auto_rows": null,
            "grid_column": null,
            "grid_gap": null,
            "grid_row": null,
            "grid_template_areas": null,
            "grid_template_columns": null,
            "grid_template_rows": null,
            "height": null,
            "justify_content": null,
            "justify_items": null,
            "left": null,
            "margin": null,
            "max_height": null,
            "max_width": null,
            "min_height": null,
            "min_width": null,
            "object_fit": null,
            "object_position": null,
            "order": null,
            "overflow": null,
            "overflow_x": null,
            "overflow_y": null,
            "padding": null,
            "right": null,
            "top": null,
            "visibility": null,
            "width": null
          }
        },
        "c80114945b794dfda4e37f5415f118bb": {
          "model_module": "@jupyter-widgets/controls",
          "model_module_version": "1.5.0",
          "model_name": "ProgressStyleModel",
          "state": {
            "_model_module": "@jupyter-widgets/controls",
            "_model_module_version": "1.5.0",
            "_model_name": "ProgressStyleModel",
            "_view_count": null,
            "_view_module": "@jupyter-widgets/base",
            "_view_module_version": "1.2.0",
            "_view_name": "StyleView",
            "bar_color": null,
            "description_width": ""
          }
        },
        "c8e65dff9d47402ba22e9015699c431e": {
          "model_module": "@jupyter-widgets/base",
          "model_module_version": "1.2.0",
          "model_name": "LayoutModel",
          "state": {
            "_model_module": "@jupyter-widgets/base",
            "_model_module_version": "1.2.0",
            "_model_name": "LayoutModel",
            "_view_count": null,
            "_view_module": "@jupyter-widgets/base",
            "_view_module_version": "1.2.0",
            "_view_name": "LayoutView",
            "align_content": null,
            "align_items": null,
            "align_self": null,
            "border": null,
            "bottom": null,
            "display": null,
            "flex": null,
            "flex_flow": null,
            "grid_area": null,
            "grid_auto_columns": null,
            "grid_auto_flow": null,
            "grid_auto_rows": null,
            "grid_column": null,
            "grid_gap": null,
            "grid_row": null,
            "grid_template_areas": null,
            "grid_template_columns": null,
            "grid_template_rows": null,
            "height": null,
            "justify_content": null,
            "justify_items": null,
            "left": null,
            "margin": null,
            "max_height": null,
            "max_width": null,
            "min_height": null,
            "min_width": null,
            "object_fit": null,
            "object_position": null,
            "order": null,
            "overflow": null,
            "overflow_x": null,
            "overflow_y": null,
            "padding": null,
            "right": null,
            "top": null,
            "visibility": null,
            "width": null
          }
        },
        "cfb75dfb11e44e02ab64cb04b6dc12ec": {
          "model_module": "@jupyter-widgets/controls",
          "model_module_version": "1.5.0",
          "model_name": "HTMLModel",
          "state": {
            "_dom_classes": [],
            "_model_module": "@jupyter-widgets/controls",
            "_model_module_version": "1.5.0",
            "_model_name": "HTMLModel",
            "_view_count": null,
            "_view_module": "@jupyter-widgets/controls",
            "_view_module_version": "1.5.0",
            "_view_name": "HTMLView",
            "description": "",
            "description_tooltip": null,
            "layout": "IPY_MODEL_76834d10a5f84b4a831a193ec89ca0d4",
            "placeholder": "​",
            "style": "IPY_MODEL_84fd6425b3cf4f7199f99fd2dd3aa451",
            "value": "special_tokens_map.json: 100%"
          }
        },
        "d439b012eb1a43eb824c7d08bfb1756b": {
          "model_module": "@jupyter-widgets/base",
          "model_module_version": "1.2.0",
          "model_name": "LayoutModel",
          "state": {
            "_model_module": "@jupyter-widgets/base",
            "_model_module_version": "1.2.0",
            "_model_name": "LayoutModel",
            "_view_count": null,
            "_view_module": "@jupyter-widgets/base",
            "_view_module_version": "1.2.0",
            "_view_name": "LayoutView",
            "align_content": null,
            "align_items": null,
            "align_self": null,
            "border": null,
            "bottom": null,
            "display": null,
            "flex": null,
            "flex_flow": null,
            "grid_area": null,
            "grid_auto_columns": null,
            "grid_auto_flow": null,
            "grid_auto_rows": null,
            "grid_column": null,
            "grid_gap": null,
            "grid_row": null,
            "grid_template_areas": null,
            "grid_template_columns": null,
            "grid_template_rows": null,
            "height": null,
            "justify_content": null,
            "justify_items": null,
            "left": null,
            "margin": null,
            "max_height": null,
            "max_width": null,
            "min_height": null,
            "min_width": null,
            "object_fit": null,
            "object_position": null,
            "order": null,
            "overflow": null,
            "overflow_x": null,
            "overflow_y": null,
            "padding": null,
            "right": null,
            "top": null,
            "visibility": null,
            "width": null
          }
        },
        "d653e8d3fd2244348981b9143d152012": {
          "model_module": "@jupyter-widgets/controls",
          "model_module_version": "1.5.0",
          "model_name": "HTMLModel",
          "state": {
            "_dom_classes": [],
            "_model_module": "@jupyter-widgets/controls",
            "_model_module_version": "1.5.0",
            "_model_name": "HTMLModel",
            "_view_count": null,
            "_view_module": "@jupyter-widgets/controls",
            "_view_module_version": "1.5.0",
            "_view_name": "HTMLView",
            "description": "",
            "description_tooltip": null,
            "layout": "IPY_MODEL_480bb96ea579432e8d6105441691af0c",
            "placeholder": "​",
            "style": "IPY_MODEL_bb2884f67d8c43588b672777f0837b91",
            "value": "config.json: 100%"
          }
        },
        "d8096369834542f4a665def279321066": {
          "model_module": "@jupyter-widgets/controls",
          "model_module_version": "1.5.0",
          "model_name": "HBoxModel",
          "state": {
            "_dom_classes": [],
            "_model_module": "@jupyter-widgets/controls",
            "_model_module_version": "1.5.0",
            "_model_name": "HBoxModel",
            "_view_count": null,
            "_view_module": "@jupyter-widgets/controls",
            "_view_module_version": "1.5.0",
            "_view_name": "HBoxView",
            "box_style": "",
            "children": [
              "IPY_MODEL_35c474b7a583467a8ceb72e67f431d7a",
              "IPY_MODEL_e3d3bf5497ad47949c969586bf4593e2",
              "IPY_MODEL_ffc802a074f74a12a9d54904838e4da2"
            ],
            "layout": "IPY_MODEL_a47ae7e75eb24e0c8734c31243943772"
          }
        },
        "daf751c001a44c79998cf3b4477279a3": {
          "model_module": "@jupyter-widgets/base",
          "model_module_version": "1.2.0",
          "model_name": "LayoutModel",
          "state": {
            "_model_module": "@jupyter-widgets/base",
            "_model_module_version": "1.2.0",
            "_model_name": "LayoutModel",
            "_view_count": null,
            "_view_module": "@jupyter-widgets/base",
            "_view_module_version": "1.2.0",
            "_view_name": "LayoutView",
            "align_content": null,
            "align_items": null,
            "align_self": null,
            "border": null,
            "bottom": null,
            "display": null,
            "flex": null,
            "flex_flow": null,
            "grid_area": null,
            "grid_auto_columns": null,
            "grid_auto_flow": null,
            "grid_auto_rows": null,
            "grid_column": null,
            "grid_gap": null,
            "grid_row": null,
            "grid_template_areas": null,
            "grid_template_columns": null,
            "grid_template_rows": null,
            "height": null,
            "justify_content": null,
            "justify_items": null,
            "left": null,
            "margin": null,
            "max_height": null,
            "max_width": null,
            "min_height": null,
            "min_width": null,
            "object_fit": null,
            "object_position": null,
            "order": null,
            "overflow": null,
            "overflow_x": null,
            "overflow_y": null,
            "padding": null,
            "right": null,
            "top": null,
            "visibility": null,
            "width": null
          }
        },
        "df54a704cab44ae790e3add96bbbcbdf": {
          "model_module": "@jupyter-widgets/controls",
          "model_module_version": "1.5.0",
          "model_name": "FloatProgressModel",
          "state": {
            "_dom_classes": [],
            "_model_module": "@jupyter-widgets/controls",
            "_model_module_version": "1.5.0",
            "_model_name": "FloatProgressModel",
            "_view_count": null,
            "_view_module": "@jupyter-widgets/controls",
            "_view_module_version": "1.5.0",
            "_view_name": "ProgressView",
            "bar_style": "success",
            "description": "",
            "description_tooltip": null,
            "layout": "IPY_MODEL_30003494e9c843c5b6d5e22135fb0964",
            "max": 1262,
            "min": 0,
            "orientation": "horizontal",
            "style": "IPY_MODEL_c80114945b794dfda4e37f5415f118bb",
            "value": 1262
          }
        },
        "e014685fee5746b4b2c436e443492819": {
          "model_module": "@jupyter-widgets/controls",
          "model_module_version": "1.5.0",
          "model_name": "FloatProgressModel",
          "state": {
            "_dom_classes": [],
            "_model_module": "@jupyter-widgets/controls",
            "_model_module_version": "1.5.0",
            "_model_name": "FloatProgressModel",
            "_view_count": null,
            "_view_module": "@jupyter-widgets/controls",
            "_view_module_version": "1.5.0",
            "_view_name": "ProgressView",
            "bar_style": "success",
            "description": "",
            "description_tooltip": null,
            "layout": "IPY_MODEL_8908ed0d37554856b3aba292fc5dd803",
            "max": 434,
            "min": 0,
            "orientation": "horizontal",
            "style": "IPY_MODEL_3969d33dbf6e4c83b706cff2211f472e",
            "value": 434
          }
        },
        "e3d3bf5497ad47949c969586bf4593e2": {
          "model_module": "@jupyter-widgets/controls",
          "model_module_version": "1.5.0",
          "model_name": "FloatProgressModel",
          "state": {
            "_dom_classes": [],
            "_model_module": "@jupyter-widgets/controls",
            "_model_module_version": "1.5.0",
            "_model_name": "FloatProgressModel",
            "_view_count": null,
            "_view_module": "@jupyter-widgets/controls",
            "_view_module_version": "1.5.0",
            "_view_name": "ProgressView",
            "bar_style": "success",
            "description": "",
            "description_tooltip": null,
            "layout": "IPY_MODEL_67bfd9a5f5804a5f87ba8767bc129a39",
            "max": 1215509,
            "min": 0,
            "orientation": "horizontal",
            "style": "IPY_MODEL_906f5ffc28d142c0a9604c241eb36212",
            "value": 1215509
          }
        },
        "e6a08853acf14b66949a4bfd336b3c7f": {
          "model_module": "@jupyter-widgets/base",
          "model_module_version": "1.2.0",
          "model_name": "LayoutModel",
          "state": {
            "_model_module": "@jupyter-widgets/base",
            "_model_module_version": "1.2.0",
            "_model_name": "LayoutModel",
            "_view_count": null,
            "_view_module": "@jupyter-widgets/base",
            "_view_module_version": "1.2.0",
            "_view_name": "LayoutView",
            "align_content": null,
            "align_items": null,
            "align_self": null,
            "border": null,
            "bottom": null,
            "display": null,
            "flex": null,
            "flex_flow": null,
            "grid_area": null,
            "grid_auto_columns": null,
            "grid_auto_flow": null,
            "grid_auto_rows": null,
            "grid_column": null,
            "grid_gap": null,
            "grid_row": null,
            "grid_template_areas": null,
            "grid_template_columns": null,
            "grid_template_rows": null,
            "height": null,
            "justify_content": null,
            "justify_items": null,
            "left": null,
            "margin": null,
            "max_height": null,
            "max_width": null,
            "min_height": null,
            "min_width": null,
            "object_fit": null,
            "object_position": null,
            "order": null,
            "overflow": null,
            "overflow_x": null,
            "overflow_y": null,
            "padding": null,
            "right": null,
            "top": null,
            "visibility": null,
            "width": null
          }
        },
        "e890e46256ec4aa9b704a290f7b4ee31": {
          "model_module": "@jupyter-widgets/controls",
          "model_module_version": "1.5.0",
          "model_name": "HTMLModel",
          "state": {
            "_dom_classes": [],
            "_model_module": "@jupyter-widgets/controls",
            "_model_module_version": "1.5.0",
            "_model_name": "HTMLModel",
            "_view_count": null,
            "_view_module": "@jupyter-widgets/controls",
            "_view_module_version": "1.5.0",
            "_view_name": "HTMLView",
            "description": "",
            "description_tooltip": null,
            "layout": "IPY_MODEL_802ce74ca9424713b747565546fc2b44",
            "placeholder": "​",
            "style": "IPY_MODEL_6fc8e90334d4415590fdfa58f152259a",
            "value": " 125/125 [00:00&lt;00:00, 5.03kB/s]"
          }
        },
        "ed52ab9852cb4db78cf35b12beb3c24f": {
          "model_module": "@jupyter-widgets/controls",
          "model_module_version": "1.5.0",
          "model_name": "DescriptionStyleModel",
          "state": {
            "_model_module": "@jupyter-widgets/controls",
            "_model_module_version": "1.5.0",
            "_model_name": "DescriptionStyleModel",
            "_view_count": null,
            "_view_module": "@jupyter-widgets/base",
            "_view_module_version": "1.2.0",
            "_view_name": "StyleView",
            "description_width": ""
          }
        },
        "f8b832725b644d0a9bd9043e5d7982bc": {
          "model_module": "@jupyter-widgets/base",
          "model_module_version": "1.2.0",
          "model_name": "LayoutModel",
          "state": {
            "_model_module": "@jupyter-widgets/base",
            "_model_module_version": "1.2.0",
            "_model_name": "LayoutModel",
            "_view_count": null,
            "_view_module": "@jupyter-widgets/base",
            "_view_module_version": "1.2.0",
            "_view_name": "LayoutView",
            "align_content": null,
            "align_items": null,
            "align_self": null,
            "border": null,
            "bottom": null,
            "display": null,
            "flex": null,
            "flex_flow": null,
            "grid_area": null,
            "grid_auto_columns": null,
            "grid_auto_flow": null,
            "grid_auto_rows": null,
            "grid_column": null,
            "grid_gap": null,
            "grid_row": null,
            "grid_template_areas": null,
            "grid_template_columns": null,
            "grid_template_rows": null,
            "height": null,
            "justify_content": null,
            "justify_items": null,
            "left": null,
            "margin": null,
            "max_height": null,
            "max_width": null,
            "min_height": null,
            "min_width": null,
            "object_fit": null,
            "object_position": null,
            "order": null,
            "overflow": null,
            "overflow_x": null,
            "overflow_y": null,
            "padding": null,
            "right": null,
            "top": null,
            "visibility": null,
            "width": null
          }
        },
        "fd3611cc7e3743eb89486cbb4c271fcf": {
          "model_module": "@jupyter-widgets/controls",
          "model_module_version": "1.5.0",
          "model_name": "HBoxModel",
          "state": {
            "_dom_classes": [],
            "_model_module": "@jupyter-widgets/controls",
            "_model_module_version": "1.5.0",
            "_model_name": "HBoxModel",
            "_view_count": null,
            "_view_module": "@jupyter-widgets/controls",
            "_view_module_version": "1.5.0",
            "_view_name": "HBoxView",
            "box_style": "",
            "children": [
              "IPY_MODEL_928d8e05a13e46059fb0315c79b53414",
              "IPY_MODEL_df54a704cab44ae790e3add96bbbcbdf",
              "IPY_MODEL_a7ced3e3468d44adad07a2b1c11c34ca"
            ],
            "layout": "IPY_MODEL_fdf2971ceda142609fd5d41c11db46a5"
          }
        },
        "fdf2971ceda142609fd5d41c11db46a5": {
          "model_module": "@jupyter-widgets/base",
          "model_module_version": "1.2.0",
          "model_name": "LayoutModel",
          "state": {
            "_model_module": "@jupyter-widgets/base",
            "_model_module_version": "1.2.0",
            "_model_name": "LayoutModel",
            "_view_count": null,
            "_view_module": "@jupyter-widgets/base",
            "_view_module_version": "1.2.0",
            "_view_name": "LayoutView",
            "align_content": null,
            "align_items": null,
            "align_self": null,
            "border": null,
            "bottom": null,
            "display": null,
            "flex": null,
            "flex_flow": null,
            "grid_area": null,
            "grid_auto_columns": null,
            "grid_auto_flow": null,
            "grid_auto_rows": null,
            "grid_column": null,
            "grid_gap": null,
            "grid_row": null,
            "grid_template_areas": null,
            "grid_template_columns": null,
            "grid_template_rows": null,
            "height": null,
            "justify_content": null,
            "justify_items": null,
            "left": null,
            "margin": null,
            "max_height": null,
            "max_width": null,
            "min_height": null,
            "min_width": null,
            "object_fit": null,
            "object_position": null,
            "order": null,
            "overflow": null,
            "overflow_x": null,
            "overflow_y": null,
            "padding": null,
            "right": null,
            "top": null,
            "visibility": null,
            "width": null
          }
        },
        "ffc802a074f74a12a9d54904838e4da2": {
          "model_module": "@jupyter-widgets/controls",
          "model_module_version": "1.5.0",
          "model_name": "HTMLModel",
          "state": {
            "_dom_classes": [],
            "_model_module": "@jupyter-widgets/controls",
            "_model_module_version": "1.5.0",
            "_model_name": "HTMLModel",
            "_view_count": null,
            "_view_module": "@jupyter-widgets/controls",
            "_view_module_version": "1.5.0",
            "_view_name": "HTMLView",
            "description": "",
            "description_tooltip": null,
            "layout": "IPY_MODEL_e6a08853acf14b66949a4bfd336b3c7f",
            "placeholder": "​",
            "style": "IPY_MODEL_40ca88ba2de6482facb243685dabe64e",
            "value": " 1.22M/1.22M [00:00&lt;00:00, 9.64MB/s]"
          }
        }
      }
    }
  },
  "nbformat": 4,
  "nbformat_minor": 0
}

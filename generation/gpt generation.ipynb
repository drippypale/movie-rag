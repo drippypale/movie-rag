{
  "cells": [
    {
      "cell_type": "code",
      "execution_count": 2,
      "metadata": {
        "id": "K99tK0T8qiAL"
      },
      "outputs": [],
      "source": [
        "%%capture\n",
        "!pip install chromadb\n",
        "!pip install openai"
      ]
    },
    {
      "cell_type": "code",
      "execution_count": 3,
      "metadata": {
        "id": "JmoQYINYsk2c"
      },
      "outputs": [],
      "source": [
        "from chromadb.utils.embedding_functions import OpenAIEmbeddingFunction\n",
        "import os\n",
        "import chromadb\n",
        "from google.colab import drive\n",
        "import pandas as pd\n",
        "import time\n",
        "from openai import OpenAI\n"
      ]
    },
    {
      "cell_type": "code",
      "execution_count": 4,
      "metadata": {
        "colab": {
          "base_uri": "https://localhost:8080/"
        },
        "id": "JccnI8_N16Ml",
        "outputId": "2e39f7ac-78cb-4d13-aa5e-e18e400c3052"
      },
      "outputs": [
        {
          "name": "stdout",
          "output_type": "stream",
          "text": [
            "Mounted at /content/drive\n"
          ]
        }
      ],
      "source": [
        "drive.mount('/content/drive')"
      ]
    },
    {
      "cell_type": "code",
      "execution_count": 5,
      "metadata": {
        "id": "VAWttvtMy7Of"
      },
      "outputs": [],
      "source": [
        "from drive.MyDrive.nlp.tools import extraction,prompt"
      ]
    },
    {
      "cell_type": "code",
      "execution_count": 6,
      "metadata": {
        "id": "XDc0jr-nxN8f"
      },
      "outputs": [],
      "source": [
        "df = pd.read_csv('./drive/MyDrive/nlp/final_dataset.csv')"
      ]
    },
    {
      "cell_type": "code",
      "execution_count": 7,
      "metadata": {
        "id": "1Byuke5TrM1b"
      },
      "outputs": [],
      "source": [
        "OPENAI_API_KEY = # put your key here\n",
        "os.environ['OPENAI_API_KEY'] = OPENAI_API_KEY"
      ]
    },
    {
      "cell_type": "code",
      "execution_count": 8,
      "metadata": {
        "id": "RpqQRqy1rmz-"
      },
      "outputs": [],
      "source": [
        "embeddings = OpenAIEmbeddingFunction(\n",
        "    api_key=OPENAI_API_KEY,\n",
        "    model_name=\"text-embedding-3-large\"\n",
        ")\n"
      ]
    },
    {
      "cell_type": "code",
      "execution_count": 9,
      "metadata": {
        "id": "hRxp8CIO8O-O"
      },
      "outputs": [],
      "source": [
        "chroma_client = chromadb.PersistentClient(path=\"/content/drive/MyDrive/nlp\")\n"
      ]
    },
    {
      "cell_type": "code",
      "execution_count": 10,
      "metadata": {
        "id": "eofDiZ4N9IXE"
      },
      "outputs": [],
      "source": [
        "collection = chroma_client.get_or_create_collection(name = \"open-ai\",embedding_function=embeddings)\n"
      ]
    },
    {
      "cell_type": "code",
      "execution_count": 12,
      "metadata": {
        "id": "wbTy0bGCOXL0"
      },
      "outputs": [],
      "source": [
        "OpenAI.api_key = OPENAI_API_KEY"
      ]
    },
    {
      "cell_type": "code",
      "execution_count": 13,
      "metadata": {
        "id": "R2_tOpzSQbjB"
      },
      "outputs": [],
      "source": [
        "client = OpenAI()\n",
        "\n"
      ]
    },
    {
      "cell_type": "code",
      "execution_count": null,
      "metadata": {
        "id": "HpB2m8tcM1s3"
      },
      "outputs": [],
      "source": [
        "query_text = \"داستان یک ماهی گم شده و بقیه ماهی ها به دنبالش هستند\""
      ]
    },
    {
      "cell_type": "code",
      "execution_count": null,
      "metadata": {
        "id": "HoLgJSGLM1lF"
      },
      "outputs": [],
      "source": [
        "ids = extraction.search_querY_chroma(collection,query_text,n_results=5)"
      ]
    },
    {
      "cell_type": "code",
      "execution_count": null,
      "metadata": {
        "id": "WgIFAOdoM1Ns"
      },
      "outputs": [],
      "source": [
        "generative_prompt = prompt.createe_promt_geneartive(ids,df,query_text)"
      ]
    },
    {
      "cell_type": "code",
      "execution_count": null,
      "metadata": {
        "colab": {
          "base_uri": "https://localhost:8080/"
        },
        "id": "q860FEj2PNPy",
        "outputId": "4dd92b32-247a-4839-f06f-f54bd47c53b6"
      },
      "outputs": [
        {
          "name": "stdout",
          "output_type": "stream",
          "text": [
            " \n",
            "کاربر به دنبال فیلم با مشخصات زیر است:\n",
            "داستان یک ماهی گم شده و بقیه ماهی ها به دنبالش هستند\n",
            "--------\n",
            "نتایج زیر بیش ترین شباهت را با درخواست کاربر داشته است:\n",
            "جستوجو: 1 نتیجه : فیلم : در جستجوی دوری (Finding Dory)\n",
            "\n",
            "بازیگران : Ellen DeGeneres , Albert Brooks , Ed O'Neill , Kaitlin Olson , Hayden Rolence , Ty Burrell , Diane Keaton , Eugene Levy , Sloane Murray , Idris Elba , Dominic West , Bob Peterson , Kate McKinnon , Bill Hader , Sigourney Weaver , Alexander Gould\n",
            "\n",
            "ژانرهای فیلم : انیمیشن , خانوادگی , کمدی , ماجراجویی\n",
            "\n",
            "سال ساخت : 2016\n",
            "\n",
            "کشور های سازنده : آمریکا , چين\n",
            "\n",
            "کارگردان : Andrew Stanton , Angus MacLane\n",
            "\n",
            "نویسنده : Andrew Stanton , Victoria Strouse\n",
            "\n",
            "7.2 : imdb امتیاز\n",
            "\n",
            "خلاصه اول فیلم : “دوری” و “نمو” که یک ماهی آبی فراموشکار است، برای دیدن سفره ماهی ها به اقیانوس میروند اما خستگی این سفر موجب اوج گرفتن فراموشی “دوری” میشود به طوری که خودش را هم نمی شناسد! حال “نمو” و پدر “دوری” سعی میکنند بتوانند “دوری” را تا قبل از طولانی نشدن فراموشی اش پیدا کنند اما…\n",
            "خلاصه دوم فیلم : داستان یک ماهی تنگ دوست داشتنی اما فراموش کار که مجددا با عزیزانش متحد می شود و همه در طول مسیر چند چیز در مورد معنای واقعی خانواده یاد می گیرند.\n",
            "جستوجو: 2 نتیجه : فیلم : در جستجوی نمو (Finding Nemo)\n",
            "\n",
            "بازیگران : Albert Brooks , Ellen DeGeneres , Alexander Gould , Willem Dafoe , Brad Garrett , Allison Janney , Austin Pendleton , Stephen Root , Vicki Lewis , Joe Ranft , Geoffrey Rush , Andrew Stanton , Elizabeth Perkins , Nicholas Bird , Bob Peterson , Barry Humphries\n",
            "\n",
            "ژانرهای فیلم : انیمیشن , خانوادگی , کمدی , ماجراجویی\n",
            "\n",
            "سال ساخت : 2003\n",
            "\n",
            "کشور های سازنده : آمریکا , استرالیا , ژاپن\n",
            "\n",
            "کارگردان : Andrew Stanton , Lee Unkrich\n",
            "\n",
            "نویسنده : Andrew Stanton , Bob Peterson , David Reynolds\n",
            "\n",
            "8.2 : imdb امتیاز\n",
            "\n",
            "خلاصه اول فیلم : ماجرای ماهی کوچکی که در اثر یک حادثه از محل زندگی خود دور شده و پدرش بدنبال او میگردد ، در جریان پیدا کردن نمو ، خود و پدرش با ماهی ها و حوادث گوناگونی برخورد میکنند که بسیار دیدنی است و…\n",
            "خلاصه دوم فیلم : «مارلین» پس از اتفاق تلخی که برای همسر و بچه‌هایش می‌افتد، از تنها فرزند خود یعنی «نیمو» به شدت مواظبت کرده و به او اجازه‌ی کوچکترین ریسک را نمی‌دهد و همین مساله باعث به‌وجود آمدن اختلاف بین آن دو می‌شود. روزی که «نیمو» برای اولین بار به مدرسه رفته بود، توسط غواصی شکار شده و «مارلین» سفر درازی را برای پیدا کردن او آغاز می‌کند.\n",
            "جستوجو: 3 نتیجه : فیلم : ماهی کوچک (Little Fish)\n",
            "\n",
            "بازیگران : Olivia Cooke , Jack O'Connell , Soko , Raúl Castillo , David Lennon , Mackenzie Cardwell , Ross Wirtanen , Heather Decksheimer , Natalie Farrow , Ronald Robinson , Wyatt Cameron , Morgana Wyllie , Monique Phillips , Paul Almeida , Toby Hargrave , Albert Nicholas\n",
            "\n",
            "ژانرهای فیلم : درام , عاشقانه , علمی تخیلی\n",
            "\n",
            "سال ساخت : 2020\n",
            "\n",
            "کشور های سازنده : آمریکا , کانادا\n",
            "\n",
            "کارگردان : Chad Hartigan\n",
            "\n",
            "نویسنده : Mattson Tomlin , Aja Gabel\n",
            "\n",
            "6.9 : imdb امتیاز\n",
            "\n",
            "خلاصه اول فیلم : زن و شوهر با ویروس از دست دادن حافظه و تهدید به پاک کردن تاریخ عشق و خواستگاری خود، برای حفظ روابط خود درگیر می شوند...\n",
            "خلاصه دوم فیلم : زن و شوهری برای تحکیم رابطه شان مجبور به پاک کردن خاطرات تلخ شیرین خود از جمله تاریخ خواستگاری و... می شوند.\n",
            "جستوجو: 4 نتیجه : فیلم : ماهی مهاجم (Rumble Fish)\n",
            "\n",
            "بازیگران : Matt Dillon , Mickey Rourke , Diane Lane , Dennis Hopper , Diana Scarwid , Vincent Spano , Nicolas Cage , Chris Penn , Laurence Fishburne , William Smith , Michael Higgins , Glenn Withrow , Tom Waits , Herb Rice , Maybelle Wallace , Nona Manning\n",
            "\n",
            "ژانرهای فیلم : جنایی , درام , عاشقانه\n",
            "\n",
            "سال ساخت : 1983\n",
            "\n",
            "کشور های سازنده : آمریکا\n",
            "\n",
            "کارگردان : Francis Ford Coppola\n",
            "\n",
            "نویسنده : S.E. Hinton , Francis Ford Coppola\n",
            "\n",
            "7.1 : imdb امتیاز\n",
            "\n",
            "خلاصه فیلم : تولسای نیوانگلند. «راستی - جیمز» (دیلن) با پدر الکلی (هاپر) و برادر بزرگش، «عشق موتور» (رورک) زندگی می کند. «عشق موتور» شیفته ی یک نوع ماهی تایلندی به نام «ماهی مهاجم» است - ماهی ای که باید از همنوعانش جدا نگه داشته شود، چون با هیچ ماهی دیگری (و حتی خودش) سر سازگاری ندارد...\n",
            "جستوجو: 5 نتیجه : فیلم : اره ماهی (Swordfish)\n",
            "\n",
            "بازیگران : John Travolta , Hugh Jackman , Halle Berry , Don Cheadle , Sam Shepard , Vinnie Jones , Drea de Matteo , Rudolf Martin , Zach Grenier , Camryn Grimes , Angelo Pagán , Chic Daniel , Kirk B.R. Woller , Carmen Argenziano , Tim DeKay , Laura Lane\n",
            "\n",
            "ژانرهای فیلم : اکشن , جنایی , هیجان انگیز\n",
            "\n",
            "سال ساخت : 2001\n",
            "\n",
            "کشور های سازنده : آمریکا\n",
            "\n",
            "کارگردان : Dominic Sena\n",
            "\n",
            "نویسنده : Skip Woods\n",
            "\n",
            "6.5 : imdb امتیاز\n",
            "\n",
            "خلاصه اول فیلم : یک سوپر جاسوس خطرناک به اسم «گابریل» ( تراولتا ) مامور می شود تا یک بودجه مخفی دولتی ۶ میلیارد دلاری را که برای مبارزره با قاچاق مواد مخدر هزینه شده ا ز حسابهای کامپیوتری دولت امریکا برداشته و در اختیار یک سناتور قرار دهد...\n",
            "خلاصه دوم فیلم : یک سوپر جاسوس خطرناک به اسم «گابریل» ( تراولتا ) مامور می شود تا یک بودجه مخفی دولتی ۶ میلیارد دلاری را که برای مبارزره با قاچاق مواد مخدر هزینه شده از حسابهای کامپیوتری دولت امریکا برداشته و در اختیار یک سناتور قرار دهد. گابریل عملیات خود را با همکاری دوست دخترش «جنیفر» ( بری ) آغاز کرده و برای انجام این سرقت بسراغ یک هکر ماهر کامپیوتری به اسم «استنلی» ( جکمن ) می رود. استنلی پس از سپری کردن دو سال حبس، تازه از زندان آزاد شده و تا آخر عمر اجازه استفاده از کامپیوتر را ندارد. اکنون او باید در طی فقط ۶۰ ثانیه به این حسابها دست یابد .\n",
            "----------\n",
            "به عنوان یک دستیار کاربر ، متن مناسب از نتایج حاصل جست جو با توجه به مشخصات فیلم درخواستی کاربر بنویسید.\n",
            "    \n"
          ]
        }
      ],
      "source": [
        "print(generative_prompt)"
      ]
    },
    {
      "cell_type": "code",
      "execution_count": null,
      "metadata": {
        "id": "ZRhCDSLtwX8_"
      },
      "outputs": [],
      "source": [
        "response = client.chat.completions.create(\n",
        "  model=\"gpt-4\",\n",
        "  messages=[\n",
        "    {\"role\": \"system\", \"content\": generative_prompt},\n",
        "    {\"role\":\"system\",\"content\":\"با توجه به نتایج بدست امده ، پاسخ های به ترتیب  با استافده با تمام نتایج ایجاد کنید.هیچ یک از نتایج دور ریخته نشود.\"}\n",
        "  ]\n",
        ")"
      ]
    },
    {
      "cell_type": "code",
      "execution_count": null,
      "metadata": {
        "colab": {
          "base_uri": "https://localhost:8080/"
        },
        "id": "jm5XhobWO6qY",
        "outputId": "2dde4de7-57c4-4751-ad4b-3f333eb05fe6"
      },
      "outputs": [
        {
          "name": "stdout",
          "output_type": "stream",
          "text": [
            "با توجه به جستجوی انجام شده، فیلم‌هایی که بیشترین تطابق را با درخواست شما دارند عبارتند از:\n",
            "\n",
            "1- فیلم «در جستجوی دوری» در سال 2016 ساخته‌شده است و یکی از بازیگران اصلی آن Ellen DeGeneres است.  داستان فیلم حول محور «دوری»، یک ماهی فراموشکار است که توسط دوستانش در اقیانوس یافت می‌شود.\n",
            "\n",
            "2- فیلم «در جستجوی نمو» در سال 2003 ساخته شده و داستان آن درباره‌ی یک ماهی کوچک است که در اثر یک حادثه از خانه‌ی خود جدا شده و پدرش بدنبال او می‌گردد.\n",
            "\n",
            "3- فیلم «ماهی کوچک»، اما این فیلم تا حدی با درخواست شما متفاوت است. این فیلم سال 2020 ساخته شده و داستان آن پیرامون یک زوج است که باید حافظه‌ی خود را به خاطر یک ویروس از دست بدهند.\n",
            "\n",
            "4- فیلم «ماهی مهاجم» و «اره ماهی» نیز در فهرست جستجو قرار گرفتند ولی داستان آن‌ها مستقیماً درباره‌ی یک ماهی گم شده نیست.\n",
            "\n",
            "با توجه به توضیحات داده شده، فیلم‌های «در جستجوی دوری» و «در جستجوی نمو» بیشترین تطابق را با درخواست شما دارند.\n"
          ]
        }
      ],
      "source": [
        "print(response.choices[0].message.content)"
      ]
    },
    {
      "cell_type": "code",
      "execution_count": 43,
      "metadata": {
        "id": "LoRcHmhyPBX9"
      },
      "outputs": [],
      "source": [
        "query_text = \"کارگاه که می ره در جزیره ای که در آن تیمارستان هست،سبک رازآلود\""
      ]
    },
    {
      "cell_type": "code",
      "execution_count": 44,
      "metadata": {
        "id": "inXWy2rzpEOZ"
      },
      "outputs": [],
      "source": [
        "ids = extraction.search_querY_chroma(collection,query_text,n_results=5)"
      ]
    },
    {
      "cell_type": "code",
      "execution_count": 45,
      "metadata": {
        "id": "645MLvoEpcay"
      },
      "outputs": [],
      "source": [
        "generative_prompt = prompt.createe_promt_geneartive(ids,df,query_text)"
      ]
    },
    {
      "cell_type": "code",
      "execution_count": 46,
      "metadata": {
        "id": "RNGpV9aKpfLT"
      },
      "outputs": [],
      "source": [
        "response = client.chat.completions.create(\n",
        "  model=\"gpt-4\",\n",
        "  messages=[\n",
        "    {\"role\": \"system\", \"content\": generative_prompt},\n",
        "    {\"role\":\"system\",\"content\":\"با توجه به نتایج بدست امده ، پاسخ های به ترتیب  با استافده با تمام نتایج ایجاد کنید.هیچ یک از نتایج دور ریخته نشود.\"}\n",
        "  ]\n",
        ")"
      ]
    },
    {
      "cell_type": "code",
      "execution_count": 47,
      "metadata": {
        "colab": {
          "base_uri": "https://localhost:8080/"
        },
        "id": "gV8Q238Opfqi",
        "outputId": "3df8a712-08af-4ccb-e86b-5af5d351709c"
      },
      "outputs": [
        {
          "name": "stdout",
          "output_type": "stream",
          "text": [
            "با توجه به درخواست شما که دنبال فیلمی با سبک رازآلود و داستانی در مورد یک کاراگاه در جزیره ای که تیمارستانی در آن قرار دارد هستید، چندین آثار سینمایی پیدا شد که می توانند نیاز شما را برطرف کنند:\n",
            "\n",
            "1. فیلم \"جزیره فانتزی (Fantasy Island)\" با بازیگرانی مانند Michael Peña و Lucy Hale و سبک ترسناک، رازآلود و فانتزی، دربارەی یک تفریحگاه در جزیره ای جادویی می باشد که اتفاقات مرموزی در آن رخ می دهد.\n",
            "\n",
            "2. فیلم \"جلسه ۹ (Session 9)\" با بازیگرانی چون David Caruso و Stephen Gevedon و سبک ترسناک و رازآلود، داستان تنش میان اعضای یک تیم تمیزکاری در یک بیمارستان روانی متروکه را روایت می کند.\n",
            "\n",
            "3. فیلم \"جزیره‌ی شاتر (Shutter Island)\" با بازیگرانی مانند Leonardo DiCaprio و Mark Ruffalo و سبک رازآلود و هیجان انگیز، داستان یک مارشال ایالات متحده است که در مورد ناپدید شدنِ یک قاتل در یک بیمارستان روانی تحقیق می‌کند.\n",
            "\n",
            "4. فیلم \"جزیره (The Island)\" با بازیگرانی چون Ewan McGregor و Scarlett Johansson و سبک اکشن، علمی تخیلی و هیجان انگیز، داستان مردی است که از تشکیلاتی فرار می کند که او و دیگران را برای تامین اعضای بدن انسان‌ها نگهداری می کند.\n",
            "\n",
            "5. فیلم \"جزیره (The Island)\" با بازیگرانی چون Michael Jai White و Jackson Rathbone و سبک اکشن و هیجان انگیز، داستان یک افسر پلیس است که پس از به قتل رسیدن برادرش به جزیره ای باز می گردد تا انتقام بگیرد.\n",
            "\n",
            "برای انتخاب بهترین گزینه بسته به سلیقه کاربر ، شما می توانید سایر جزئیات هر فیلم مانند سال ساخت، کشور سازنده، کارگردان و نویسنده را نیز بررسی کنید.\n"
          ]
        }
      ],
      "source": [
        "print(response.choices[0].message.content)"
      ]
    },
    {
      "cell_type": "code",
      "execution_count": 23,
      "metadata": {
        "id": "fwW1j0m0p5-t"
      },
      "outputs": [],
      "source": [
        "query_text = \"  انمیشن که درباره یک خوانواده که ابر قهرامان هستند و با مشکلات خوانوادگی دستپنجه نرم می کنند\""
      ]
    },
    {
      "cell_type": "code",
      "execution_count": 24,
      "metadata": {
        "id": "ubmUdhbkqb6l"
      },
      "outputs": [],
      "source": [
        "ids = extraction.search_querY_chroma(collection,query_text,n_results=5)"
      ]
    },
    {
      "cell_type": "code",
      "execution_count": 25,
      "metadata": {
        "id": "rD69wi_2qdmm"
      },
      "outputs": [],
      "source": [
        "generative_prompt = prompt.createe_promt_geneartive(ids,df,query_text)"
      ]
    },
    {
      "cell_type": "code",
      "execution_count": 32,
      "metadata": {
        "id": "Masw7re5qgy-"
      },
      "outputs": [],
      "source": [
        "response = client.chat.completions.create(\n",
        "  model=\"gpt-4\",\n",
        "  messages=[\n",
        "    {\"role\": \"system\", \"content\": generative_prompt},\n",
        "    {\"role\":\"system\",\"content\":\"با توجه به نتایج بدست امده ، پاسخ های به ترتیب  با استافده با تمام نتایج ایجاد کنید.هیچ یک از نتایج دور ریخته نشود.\"}\n",
        "  ]\n",
        ")"
      ]
    },
    {
      "cell_type": "code",
      "execution_count": 31,
      "metadata": {
        "colab": {
          "base_uri": "https://localhost:8080/"
        },
        "id": "gsKHksVYqiDV",
        "outputId": "1aaca381-d9b8-4359-8ccd-2c69b4fe74a6"
      },
      "outputs": [
        {
          "name": "stdout",
          "output_type": "stream",
          "text": [
            "بر اساس جستجوی انجام شده، بنظر میرسد فیلم \"شگفت‌انگیزان\" (The Incredibles) منطبق ترین گزینه با در خواست شماست. این فیلم انیمیشن درباره یک خانواده از ابرقهرمان‌ها می‌باشد که سعی می‌کنند زندگی عادی ای داشته باشند و در عین حال با مشکلات خانوادگی مقابله کنند و دنیا را نجات دهند. اما برخی از سایر گزینه‌ها نیز شاید برای شما جذاب باشند، مانند \"سوپرمن: بدون مرز\" و \"سوپرمن در برابر نخبگان\" ، که هر دو درباره ابرقهرمانان و چالش‌هایی که با آن‌ها مواجه هستند. فیلم‌های \"Home\" و \"آقای پی بادی و شرمن\" نیز هرچند مستقیماً درباره ابرقهرمان‌ها نیستند، اما در ژانر انیمیشن و خانوادگی قرار دارند که ممکن است برای شما جذاب باشند.\n"
          ]
        }
      ],
      "source": [
        "print(response.choices[0].message.content)"
      ]
    }
  ],
  "metadata": {
    "colab": {
      "provenance": []
    },
    "kernelspec": {
      "display_name": "Python 3",
      "name": "python3"
    },
    "language_info": {
      "name": "python"
    }
  },
  "nbformat": 4,
  "nbformat_minor": 0
}

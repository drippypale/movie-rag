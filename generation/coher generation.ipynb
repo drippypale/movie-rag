{
  "cells": [
    {
      "cell_type": "code",
      "execution_count": null,
      "metadata": {
        "colab": {
          "base_uri": "https://localhost:8080/"
        },
        "id": "sDDH0lUTNyy_",
        "outputId": "a4bd8087-931c-4af1-9872-34f54242ccbe"
      },
      "outputs": [
        {
          "name": "stdout",
          "output_type": "stream",
          "text": [
            "Requirement already satisfied: chromadb in /usr/local/lib/python3.10/dist-packages (0.4.24)\n",
            "Requirement already satisfied: build>=1.0.3 in /usr/local/lib/python3.10/dist-packages (from chromadb) (1.0.3)\n",
            "Requirement already satisfied: requests>=2.28 in /usr/local/lib/python3.10/dist-packages (from chromadb) (2.31.0)\n",
            "Requirement already satisfied: pydantic>=1.9 in /usr/local/lib/python3.10/dist-packages (from chromadb) (2.6.3)\n",
            "Requirement already satisfied: chroma-hnswlib==0.7.3 in /usr/local/lib/python3.10/dist-packages (from chromadb) (0.7.3)\n",
            "Requirement already satisfied: fastapi>=0.95.2 in /usr/local/lib/python3.10/dist-packages (from chromadb) (0.110.0)\n",
            "Requirement already satisfied: uvicorn[standard]>=0.18.3 in /usr/local/lib/python3.10/dist-packages (from chromadb) (0.27.1)\n",
            "Requirement already satisfied: numpy>=1.22.5 in /usr/local/lib/python3.10/dist-packages (from chromadb) (1.25.2)\n",
            "Requirement already satisfied: posthog>=2.4.0 in /usr/local/lib/python3.10/dist-packages (from chromadb) (3.4.2)\n",
            "Requirement already satisfied: typing-extensions>=4.5.0 in /usr/local/lib/python3.10/dist-packages (from chromadb) (4.10.0)\n",
            "Requirement already satisfied: pulsar-client>=3.1.0 in /usr/local/lib/python3.10/dist-packages (from chromadb) (3.4.0)\n",
            "Requirement already satisfied: onnxruntime>=1.14.1 in /usr/local/lib/python3.10/dist-packages (from chromadb) (1.17.1)\n",
            "Requirement already satisfied: opentelemetry-api>=1.2.0 in /usr/local/lib/python3.10/dist-packages (from chromadb) (1.23.0)\n",
            "Requirement already satisfied: opentelemetry-exporter-otlp-proto-grpc>=1.2.0 in /usr/local/lib/python3.10/dist-packages (from chromadb) (1.23.0)\n",
            "Requirement already satisfied: opentelemetry-instrumentation-fastapi>=0.41b0 in /usr/local/lib/python3.10/dist-packages (from chromadb) (0.44b0)\n",
            "Requirement already satisfied: opentelemetry-sdk>=1.2.0 in /usr/local/lib/python3.10/dist-packages (from chromadb) (1.23.0)\n",
            "Requirement already satisfied: tokenizers>=0.13.2 in /usr/local/lib/python3.10/dist-packages (from chromadb) (0.15.2)\n",
            "Requirement already satisfied: pypika>=0.48.9 in /usr/local/lib/python3.10/dist-packages (from chromadb) (0.48.9)\n",
            "Requirement already satisfied: tqdm>=4.65.0 in /usr/local/lib/python3.10/dist-packages (from chromadb) (4.66.2)\n",
            "Requirement already satisfied: overrides>=7.3.1 in /usr/local/lib/python3.10/dist-packages (from chromadb) (7.7.0)\n",
            "Requirement already satisfied: importlib-resources in /usr/local/lib/python3.10/dist-packages (from chromadb) (6.1.2)\n",
            "Requirement already satisfied: grpcio>=1.58.0 in /usr/local/lib/python3.10/dist-packages (from chromadb) (1.62.0)\n",
            "Requirement already satisfied: bcrypt>=4.0.1 in /usr/local/lib/python3.10/dist-packages (from chromadb) (4.1.2)\n",
            "Requirement already satisfied: typer>=0.9.0 in /usr/local/lib/python3.10/dist-packages (from chromadb) (0.9.0)\n",
            "Requirement already satisfied: kubernetes>=28.1.0 in /usr/local/lib/python3.10/dist-packages (from chromadb) (29.0.0)\n",
            "Requirement already satisfied: tenacity>=8.2.3 in /usr/local/lib/python3.10/dist-packages (from chromadb) (8.2.3)\n",
            "Requirement already satisfied: PyYAML>=6.0.0 in /usr/local/lib/python3.10/dist-packages (from chromadb) (6.0.1)\n",
            "Requirement already satisfied: mmh3>=4.0.1 in /usr/local/lib/python3.10/dist-packages (from chromadb) (4.1.0)\n",
            "Requirement already satisfied: orjson>=3.9.12 in /usr/local/lib/python3.10/dist-packages (from chromadb) (3.9.15)\n",
            "Requirement already satisfied: packaging>=19.0 in /usr/local/lib/python3.10/dist-packages (from build>=1.0.3->chromadb) (23.2)\n",
            "Requirement already satisfied: pyproject_hooks in /usr/local/lib/python3.10/dist-packages (from build>=1.0.3->chromadb) (1.0.0)\n",
            "Requirement already satisfied: tomli>=1.1.0 in /usr/local/lib/python3.10/dist-packages (from build>=1.0.3->chromadb) (2.0.1)\n",
            "Requirement already satisfied: starlette<0.37.0,>=0.36.3 in /usr/local/lib/python3.10/dist-packages (from fastapi>=0.95.2->chromadb) (0.36.3)\n",
            "Requirement already satisfied: certifi>=14.05.14 in /usr/local/lib/python3.10/dist-packages (from kubernetes>=28.1.0->chromadb) (2024.2.2)\n",
            "Requirement already satisfied: six>=1.9.0 in /usr/local/lib/python3.10/dist-packages (from kubernetes>=28.1.0->chromadb) (1.16.0)\n",
            "Requirement already satisfied: python-dateutil>=2.5.3 in /usr/local/lib/python3.10/dist-packages (from kubernetes>=28.1.0->chromadb) (2.8.2)\n",
            "Requirement already satisfied: google-auth>=1.0.1 in /usr/local/lib/python3.10/dist-packages (from kubernetes>=28.1.0->chromadb) (2.27.0)\n",
            "Requirement already satisfied: websocket-client!=0.40.0,!=0.41.*,!=0.42.*,>=0.32.0 in /usr/local/lib/python3.10/dist-packages (from kubernetes>=28.1.0->chromadb) (1.7.0)\n",
            "Requirement already satisfied: requests-oauthlib in /usr/local/lib/python3.10/dist-packages (from kubernetes>=28.1.0->chromadb) (1.3.1)\n",
            "Requirement already satisfied: oauthlib>=3.2.2 in /usr/local/lib/python3.10/dist-packages (from kubernetes>=28.1.0->chromadb) (3.2.2)\n",
            "Requirement already satisfied: urllib3>=1.24.2 in /usr/local/lib/python3.10/dist-packages (from kubernetes>=28.1.0->chromadb) (2.0.7)\n",
            "Requirement already satisfied: coloredlogs in /usr/local/lib/python3.10/dist-packages (from onnxruntime>=1.14.1->chromadb) (15.0.1)\n",
            "Requirement already satisfied: flatbuffers in /usr/local/lib/python3.10/dist-packages (from onnxruntime>=1.14.1->chromadb) (23.5.26)\n",
            "Requirement already satisfied: protobuf in /usr/local/lib/python3.10/dist-packages (from onnxruntime>=1.14.1->chromadb) (3.20.3)\n",
            "Requirement already satisfied: sympy in /usr/local/lib/python3.10/dist-packages (from onnxruntime>=1.14.1->chromadb) (1.12)\n",
            "Requirement already satisfied: deprecated>=1.2.6 in /usr/local/lib/python3.10/dist-packages (from opentelemetry-api>=1.2.0->chromadb) (1.2.14)\n",
            "Requirement already satisfied: importlib-metadata<7.0,>=6.0 in /usr/local/lib/python3.10/dist-packages (from opentelemetry-api>=1.2.0->chromadb) (6.11.0)\n",
            "Requirement already satisfied: googleapis-common-protos~=1.52 in /usr/local/lib/python3.10/dist-packages (from opentelemetry-exporter-otlp-proto-grpc>=1.2.0->chromadb) (1.62.0)\n",
            "Requirement already satisfied: opentelemetry-exporter-otlp-proto-common==1.23.0 in /usr/local/lib/python3.10/dist-packages (from opentelemetry-exporter-otlp-proto-grpc>=1.2.0->chromadb) (1.23.0)\n",
            "Requirement already satisfied: opentelemetry-proto==1.23.0 in /usr/local/lib/python3.10/dist-packages (from opentelemetry-exporter-otlp-proto-grpc>=1.2.0->chromadb) (1.23.0)\n",
            "Requirement already satisfied: opentelemetry-instrumentation-asgi==0.44b0 in /usr/local/lib/python3.10/dist-packages (from opentelemetry-instrumentation-fastapi>=0.41b0->chromadb) (0.44b0)\n",
            "Requirement already satisfied: opentelemetry-instrumentation==0.44b0 in /usr/local/lib/python3.10/dist-packages (from opentelemetry-instrumentation-fastapi>=0.41b0->chromadb) (0.44b0)\n",
            "Requirement already satisfied: opentelemetry-semantic-conventions==0.44b0 in /usr/local/lib/python3.10/dist-packages (from opentelemetry-instrumentation-fastapi>=0.41b0->chromadb) (0.44b0)\n",
            "Requirement already satisfied: opentelemetry-util-http==0.44b0 in /usr/local/lib/python3.10/dist-packages (from opentelemetry-instrumentation-fastapi>=0.41b0->chromadb) (0.44b0)\n",
            "Requirement already satisfied: setuptools>=16.0 in /usr/local/lib/python3.10/dist-packages (from opentelemetry-instrumentation==0.44b0->opentelemetry-instrumentation-fastapi>=0.41b0->chromadb) (67.7.2)\n",
            "Requirement already satisfied: wrapt<2.0.0,>=1.0.0 in /usr/local/lib/python3.10/dist-packages (from opentelemetry-instrumentation==0.44b0->opentelemetry-instrumentation-fastapi>=0.41b0->chromadb) (1.14.1)\n",
            "Requirement already satisfied: asgiref~=3.0 in /usr/local/lib/python3.10/dist-packages (from opentelemetry-instrumentation-asgi==0.44b0->opentelemetry-instrumentation-fastapi>=0.41b0->chromadb) (3.7.2)\n",
            "Requirement already satisfied: monotonic>=1.5 in /usr/local/lib/python3.10/dist-packages (from posthog>=2.4.0->chromadb) (1.6)\n",
            "Requirement already satisfied: backoff>=1.10.0 in /usr/local/lib/python3.10/dist-packages (from posthog>=2.4.0->chromadb) (2.2.1)\n",
            "Requirement already satisfied: annotated-types>=0.4.0 in /usr/local/lib/python3.10/dist-packages (from pydantic>=1.9->chromadb) (0.6.0)\n",
            "Requirement already satisfied: pydantic-core==2.16.3 in /usr/local/lib/python3.10/dist-packages (from pydantic>=1.9->chromadb) (2.16.3)\n",
            "Requirement already satisfied: charset-normalizer<4,>=2 in /usr/local/lib/python3.10/dist-packages (from requests>=2.28->chromadb) (3.3.2)\n",
            "Requirement already satisfied: idna<4,>=2.5 in /usr/local/lib/python3.10/dist-packages (from requests>=2.28->chromadb) (2.10)\n",
            "Requirement already satisfied: huggingface_hub<1.0,>=0.16.4 in /usr/local/lib/python3.10/dist-packages (from tokenizers>=0.13.2->chromadb) (0.20.3)\n",
            "Requirement already satisfied: click<9.0.0,>=7.1.1 in /usr/local/lib/python3.10/dist-packages (from typer>=0.9.0->chromadb) (8.1.7)\n",
            "Requirement already satisfied: h11>=0.8 in /usr/local/lib/python3.10/dist-packages (from uvicorn[standard]>=0.18.3->chromadb) (0.9.0)\n",
            "Requirement already satisfied: httptools>=0.5.0 in /usr/local/lib/python3.10/dist-packages (from uvicorn[standard]>=0.18.3->chromadb) (0.6.1)\n",
            "Requirement already satisfied: python-dotenv>=0.13 in /usr/local/lib/python3.10/dist-packages (from uvicorn[standard]>=0.18.3->chromadb) (1.0.1)\n",
            "Requirement already satisfied: uvloop!=0.15.0,!=0.15.1,>=0.14.0 in /usr/local/lib/python3.10/dist-packages (from uvicorn[standard]>=0.18.3->chromadb) (0.19.0)\n",
            "Requirement already satisfied: watchfiles>=0.13 in /usr/local/lib/python3.10/dist-packages (from uvicorn[standard]>=0.18.3->chromadb) (0.21.0)\n",
            "Requirement already satisfied: websockets>=10.4 in /usr/local/lib/python3.10/dist-packages (from uvicorn[standard]>=0.18.3->chromadb) (12.0)\n",
            "Requirement already satisfied: cachetools<6.0,>=2.0.0 in /usr/local/lib/python3.10/dist-packages (from google-auth>=1.0.1->kubernetes>=28.1.0->chromadb) (5.3.3)\n",
            "Requirement already satisfied: pyasn1-modules>=0.2.1 in /usr/local/lib/python3.10/dist-packages (from google-auth>=1.0.1->kubernetes>=28.1.0->chromadb) (0.3.0)\n",
            "Requirement already satisfied: rsa<5,>=3.1.4 in /usr/local/lib/python3.10/dist-packages (from google-auth>=1.0.1->kubernetes>=28.1.0->chromadb) (4.9)\n",
            "Requirement already satisfied: filelock in /usr/local/lib/python3.10/dist-packages (from huggingface_hub<1.0,>=0.16.4->tokenizers>=0.13.2->chromadb) (3.13.1)\n",
            "Requirement already satisfied: fsspec>=2023.5.0 in /usr/local/lib/python3.10/dist-packages (from huggingface_hub<1.0,>=0.16.4->tokenizers>=0.13.2->chromadb) (2023.6.0)\n",
            "Requirement already satisfied: zipp>=0.5 in /usr/local/lib/python3.10/dist-packages (from importlib-metadata<7.0,>=6.0->opentelemetry-api>=1.2.0->chromadb) (3.17.0)\n",
            "Requirement already satisfied: anyio<5,>=3.4.0 in /usr/local/lib/python3.10/dist-packages (from starlette<0.37.0,>=0.36.3->fastapi>=0.95.2->chromadb) (3.7.1)\n",
            "Requirement already satisfied: humanfriendly>=9.1 in /usr/local/lib/python3.10/dist-packages (from coloredlogs->onnxruntime>=1.14.1->chromadb) (10.0)\n",
            "Requirement already satisfied: mpmath>=0.19 in /usr/local/lib/python3.10/dist-packages (from sympy->onnxruntime>=1.14.1->chromadb) (1.3.0)\n",
            "Requirement already satisfied: sniffio>=1.1 in /usr/local/lib/python3.10/dist-packages (from anyio<5,>=3.4.0->starlette<0.37.0,>=0.36.3->fastapi>=0.95.2->chromadb) (1.3.1)\n",
            "Requirement already satisfied: exceptiongroup in /usr/local/lib/python3.10/dist-packages (from anyio<5,>=3.4.0->starlette<0.37.0,>=0.36.3->fastapi>=0.95.2->chromadb) (1.2.0)\n",
            "Requirement already satisfied: pyasn1<0.6.0,>=0.4.6 in /usr/local/lib/python3.10/dist-packages (from pyasn1-modules>=0.2.1->google-auth>=1.0.1->kubernetes>=28.1.0->chromadb) (0.5.1)\n",
            "Requirement already satisfied: cohere in /usr/local/lib/python3.10/dist-packages (4.51)\n",
            "Requirement already satisfied: aiohttp<4.0,>=3.0 in /usr/local/lib/python3.10/dist-packages (from cohere) (3.9.3)\n",
            "Requirement already satisfied: backoff<3.0,>=2.0 in /usr/local/lib/python3.10/dist-packages (from cohere) (2.2.1)\n",
            "Requirement already satisfied: fastavro<2.0,>=1.8 in /usr/local/lib/python3.10/dist-packages (from cohere) (1.9.4)\n",
            "Requirement already satisfied: importlib_metadata<7.0,>=6.0 in /usr/local/lib/python3.10/dist-packages (from cohere) (6.11.0)\n",
            "Requirement already satisfied: requests<3.0.0,>=2.25.0 in /usr/local/lib/python3.10/dist-packages (from cohere) (2.31.0)\n",
            "Requirement already satisfied: urllib3<3,>=1.26 in /usr/local/lib/python3.10/dist-packages (from cohere) (2.0.7)\n",
            "Requirement already satisfied: aiosignal>=1.1.2 in /usr/local/lib/python3.10/dist-packages (from aiohttp<4.0,>=3.0->cohere) (1.3.1)\n",
            "Requirement already satisfied: attrs>=17.3.0 in /usr/local/lib/python3.10/dist-packages (from aiohttp<4.0,>=3.0->cohere) (23.2.0)\n",
            "Requirement already satisfied: frozenlist>=1.1.1 in /usr/local/lib/python3.10/dist-packages (from aiohttp<4.0,>=3.0->cohere) (1.4.1)\n",
            "Requirement already satisfied: multidict<7.0,>=4.5 in /usr/local/lib/python3.10/dist-packages (from aiohttp<4.0,>=3.0->cohere) (6.0.5)\n",
            "Requirement already satisfied: yarl<2.0,>=1.0 in /usr/local/lib/python3.10/dist-packages (from aiohttp<4.0,>=3.0->cohere) (1.9.4)\n",
            "Requirement already satisfied: async-timeout<5.0,>=4.0 in /usr/local/lib/python3.10/dist-packages (from aiohttp<4.0,>=3.0->cohere) (4.0.3)\n",
            "Requirement already satisfied: zipp>=0.5 in /usr/local/lib/python3.10/dist-packages (from importlib_metadata<7.0,>=6.0->cohere) (3.17.0)\n",
            "Requirement already satisfied: charset-normalizer<4,>=2 in /usr/local/lib/python3.10/dist-packages (from requests<3.0.0,>=2.25.0->cohere) (3.3.2)\n",
            "Requirement already satisfied: idna<4,>=2.5 in /usr/local/lib/python3.10/dist-packages (from requests<3.0.0,>=2.25.0->cohere) (2.10)\n",
            "Requirement already satisfied: certifi>=2017.4.17 in /usr/local/lib/python3.10/dist-packages (from requests<3.0.0,>=2.25.0->cohere) (2024.2.2)\n",
            "\u001b[33mWARNING: Skipping googletrans as it is not installed.\u001b[0m\u001b[33m\n",
            "\u001b[0mFound existing installation: googletrans-temp 2.3.0\n",
            "Uninstalling googletrans-temp-2.3.0:\n",
            "  Would remove:\n",
            "    /usr/local/bin/translate\n",
            "    /usr/local/lib/python3.10/dist-packages/googletrans/*\n",
            "    /usr/local/lib/python3.10/dist-packages/googletrans_temp-2.3.0.dist-info/*\n",
            "Proceed (Y/n)? y\n",
            "  Successfully uninstalled googletrans-temp-2.3.0\n",
            "Collecting googletrans-temp\n",
            "  Using cached googletrans_temp-2.3.0-py3-none-any.whl\n",
            "Requirement already satisfied: requests in /usr/local/lib/python3.10/dist-packages (from googletrans-temp) (2.31.0)\n",
            "Requirement already satisfied: charset-normalizer<4,>=2 in /usr/local/lib/python3.10/dist-packages (from requests->googletrans-temp) (3.3.2)\n",
            "Requirement already satisfied: idna<4,>=2.5 in /usr/local/lib/python3.10/dist-packages (from requests->googletrans-temp) (2.10)\n",
            "Requirement already satisfied: urllib3<3,>=1.21.1 in /usr/local/lib/python3.10/dist-packages (from requests->googletrans-temp) (2.0.7)\n",
            "Requirement already satisfied: certifi>=2017.4.17 in /usr/local/lib/python3.10/dist-packages (from requests->googletrans-temp) (2024.2.2)\n",
            "Installing collected packages: googletrans-temp\n",
            "Successfully installed googletrans-temp-2.3.0\n",
            "Collecting googletrans==4.0.0-rc1\n",
            "  Using cached googletrans-4.0.0rc1-py3-none-any.whl\n",
            "Requirement already satisfied: httpx==0.13.3 in /usr/local/lib/python3.10/dist-packages (from googletrans==4.0.0-rc1) (0.13.3)\n",
            "Requirement already satisfied: certifi in /usr/local/lib/python3.10/dist-packages (from httpx==0.13.3->googletrans==4.0.0-rc1) (2024.2.2)\n",
            "Requirement already satisfied: hstspreload in /usr/local/lib/python3.10/dist-packages (from httpx==0.13.3->googletrans==4.0.0-rc1) (2024.3.1)\n",
            "Requirement already satisfied: sniffio in /usr/local/lib/python3.10/dist-packages (from httpx==0.13.3->googletrans==4.0.0-rc1) (1.3.1)\n",
            "Requirement already satisfied: chardet==3.* in /usr/local/lib/python3.10/dist-packages (from httpx==0.13.3->googletrans==4.0.0-rc1) (3.0.4)\n",
            "Requirement already satisfied: idna==2.* in /usr/local/lib/python3.10/dist-packages (from httpx==0.13.3->googletrans==4.0.0-rc1) (2.10)\n",
            "Requirement already satisfied: rfc3986<2,>=1.3 in /usr/local/lib/python3.10/dist-packages (from httpx==0.13.3->googletrans==4.0.0-rc1) (1.5.0)\n",
            "Requirement already satisfied: httpcore==0.9.* in /usr/local/lib/python3.10/dist-packages (from httpx==0.13.3->googletrans==4.0.0-rc1) (0.9.1)\n",
            "Requirement already satisfied: h11<0.10,>=0.8 in /usr/local/lib/python3.10/dist-packages (from httpcore==0.9.*->httpx==0.13.3->googletrans==4.0.0-rc1) (0.9.0)\n",
            "Requirement already satisfied: h2==3.* in /usr/local/lib/python3.10/dist-packages (from httpcore==0.9.*->httpx==0.13.3->googletrans==4.0.0-rc1) (3.2.0)\n",
            "Requirement already satisfied: hyperframe<6,>=5.2.0 in /usr/local/lib/python3.10/dist-packages (from h2==3.*->httpcore==0.9.*->httpx==0.13.3->googletrans==4.0.0-rc1) (5.2.0)\n",
            "Requirement already satisfied: hpack<4,>=3.0 in /usr/local/lib/python3.10/dist-packages (from h2==3.*->httpcore==0.9.*->httpx==0.13.3->googletrans==4.0.0-rc1) (3.0.0)\n",
            "Installing collected packages: googletrans\n",
            "Successfully installed googletrans-4.0.0rc1\n"
          ]
        }
      ],
      "source": [
        "%%capture\n",
        "!pip install chromadb\n",
        "!pip install cohere\n",
        "!pip uninstall googletrans googletrans-temp\n",
        "!pip install googletrans-temp\n",
        "!pip install googletrans==4.0.0-rc1\n"
      ]
    },
    {
      "cell_type": "code",
      "execution_count": null,
      "metadata": {
        "id": "i3rErMJ6OQgB"
      },
      "outputs": [],
      "source": [
        "import os\n",
        "import chromadb\n",
        "from google.colab import drive\n",
        "from chromadb import Documents, EmbeddingFunction, Embeddings\n",
        "import chromadb.utils.embedding_functions as embedding_functions\n",
        "import pandas as pd\n",
        "import time\n",
        "import cohere\n",
        "from googletrans import Translator\n"
      ]
    },
    {
      "cell_type": "code",
      "execution_count": null,
      "metadata": {
        "colab": {
          "base_uri": "https://localhost:8080/"
        },
        "id": "bXjbtisPOVd3",
        "outputId": "3a413d2f-d048-4685-c2df-f7a066814e5c"
      },
      "outputs": [
        {
          "name": "stdout",
          "output_type": "stream",
          "text": [
            "Drive already mounted at /content/drive; to attempt to forcibly remount, call drive.mount(\"/content/drive\", force_remount=True).\n"
          ]
        }
      ],
      "source": [
        "drive.mount('/content/drive')"
      ]
    },
    {
      "cell_type": "code",
      "execution_count": null,
      "metadata": {
        "id": "MvJfEesDjLn4"
      },
      "outputs": [],
      "source": [
        "from drive.MyDrive.nlp.tools import extraction,prompt"
      ]
    },
    {
      "cell_type": "code",
      "execution_count": null,
      "metadata": {
        "id": "8F2DM0hSj3Z-"
      },
      "outputs": [],
      "source": [
        "df = pd.read_csv('./drive/MyDrive/nlp/final_dataset.csv')"
      ]
    },
    {
      "cell_type": "code",
      "execution_count": null,
      "metadata": {
        "id": "kl5vylLHOYXh"
      },
      "outputs": [],
      "source": [
        "chroma_client = chromadb.PersistentClient(path=\"/content/drive/MyDrive/nlp\")\n"
      ]
    },
    {
      "cell_type": "code",
      "execution_count": null,
      "metadata": {
        "id": "jBChfdnWc0Bg"
      },
      "outputs": [],
      "source": [
        "api_keys = # [] put your own api"
      ]
    },
    {
      "cell_type": "code",
      "execution_count": null,
      "metadata": {
        "id": "-SIYDJqcO3FY"
      },
      "outputs": [],
      "source": [
        "def create_coolectoin(api_key,chroma_client):\n",
        "  cohere_ef  = embedding_functions.CohereEmbeddingFunction(api_key=api_key,  model_name=\"embed-multilingual-v3.0\")\n",
        "  collection = chroma_client.get_or_create_collection(name = \"coher\",embedding_function=cohere_ef)\n",
        "  return  collection\n"
      ]
    },
    {
      "cell_type": "code",
      "execution_count": null,
      "metadata": {
        "id": "o2gIelzfncZL"
      },
      "outputs": [],
      "source": [
        "collection = create_coolectoin(api_keys.pop(),chroma_client)\n"
      ]
    },
    {
      "cell_type": "code",
      "execution_count": null,
      "metadata": {
        "id": "sfZZvJxinm8B"
      },
      "outputs": [],
      "source": [
        "query_text = \"داستان یک ماهی که گم شده\""
      ]
    },
    {
      "cell_type": "code",
      "execution_count": null,
      "metadata": {
        "id": "pyNQaULghc6Q"
      },
      "outputs": [],
      "source": [
        "ids = extraction.search_querY_chroma(collection,query_text,n_results=5)"
      ]
    },
    {
      "cell_type": "code",
      "execution_count": null,
      "metadata": {
        "id": "sxIEOX0IkoKm"
      },
      "outputs": [],
      "source": [
        "generative_prompt = prompt.createe_promt_geneartive(ids,df,query_text)"
      ]
    },
    {
      "cell_type": "code",
      "execution_count": null,
      "metadata": {
        "id": "Mlo46x-Pp0oV"
      },
      "outputs": [],
      "source": [
        "co = # cohere.Client(...) put your api key here\n"
      ]
    },
    {
      "cell_type": "code",
      "execution_count": null,
      "metadata": {
        "colab": {
          "base_uri": "https://localhost:8080/"
        },
        "id": "haCSGz_70-mi",
        "outputId": "6f1c4332-9890-43ac-c83e-fe976bd37cc5"
      },
      "outputs": [
        {
          "name": "stdout",
          "output_type": "stream",
          "text": [
            " \n",
            "کاربر به دنبال فیلم با مشخصات زیر است:\n",
            "داستان یک ماهی که گم شده\n",
            "--------\n",
            "نتایج زیر بیش ترین شباهت را با درخواست کاربر داشته است:\n",
            "جستوجو: 1 نتیجه : فیلم : در جستجوی دوری (Finding Dory)\n",
            "\n",
            "بازیگران : Ellen DeGeneres , Albert Brooks , Ed O'Neill , Kaitlin Olson , Hayden Rolence , Ty Burrell , Diane Keaton , Eugene Levy , Sloane Murray , Idris Elba , Dominic West , Bob Peterson , Kate McKinnon , Bill Hader , Sigourney Weaver , Alexander Gould\n",
            "\n",
            "ژانرهای فیلم : انیمیشن , خانوادگی , کمدی , ماجراجویی\n",
            "\n",
            "سال ساخت : 2016\n",
            "\n",
            "کشور های سازنده : آمریکا , چين\n",
            "\n",
            "کارگردان : Andrew Stanton , Angus MacLane\n",
            "\n",
            "نویسنده : Andrew Stanton , Victoria Strouse\n",
            "\n",
            "7.2 : imdb امتیاز\n",
            "\n",
            "خلاصه اول فیلم : “دوری” و “نمو” که یک ماهی آبی فراموشکار است، برای دیدن سفره ماهی ها به اقیانوس میروند اما خستگی این سفر موجب اوج گرفتن فراموشی “دوری” میشود به طوری که خودش را هم نمی شناسد! حال “نمو” و پدر “دوری” سعی میکنند بتوانند “دوری” را تا قبل از طولانی نشدن فراموشی اش پیدا کنند اما…\n",
            "خلاصه دوم فیلم : داستان یک ماهی تنگ دوست داشتنی اما فراموش کار که مجددا با عزیزانش متحد می شود و همه در طول مسیر چند چیز در مورد معنای واقعی خانواده یاد می گیرند.\n",
            "جستوجو: 2 نتیجه : فیلم : در جستجوی نمو (Finding Nemo)\n",
            "\n",
            "بازیگران : Albert Brooks , Ellen DeGeneres , Alexander Gould , Willem Dafoe , Brad Garrett , Allison Janney , Austin Pendleton , Stephen Root , Vicki Lewis , Joe Ranft , Geoffrey Rush , Andrew Stanton , Elizabeth Perkins , Nicholas Bird , Bob Peterson , Barry Humphries\n",
            "\n",
            "ژانرهای فیلم : انیمیشن , خانوادگی , کمدی , ماجراجویی\n",
            "\n",
            "سال ساخت : 2003\n",
            "\n",
            "کشور های سازنده : آمریکا , استرالیا , ژاپن\n",
            "\n",
            "کارگردان : Andrew Stanton , Lee Unkrich\n",
            "\n",
            "نویسنده : Andrew Stanton , Bob Peterson , David Reynolds\n",
            "\n",
            "8.2 : imdb امتیاز\n",
            "\n",
            "خلاصه اول فیلم : ماجرای ماهی کوچکی که در اثر یک حادثه از محل زندگی خود دور شده و پدرش بدنبال او میگردد ، در جریان پیدا کردن نمو ، خود و پدرش با ماهی ها و حوادث گوناگونی برخورد میکنند که بسیار دیدنی است و…\n",
            "خلاصه دوم فیلم : «مارلین» پس از اتفاق تلخی که برای همسر و بچه‌هایش می‌افتد، از تنها فرزند خود یعنی «نیمو» به شدت مواظبت کرده و به او اجازه‌ی کوچکترین ریسک را نمی‌دهد و همین مساله باعث به‌وجود آمدن اختلاف بین آن دو می‌شود. روزی که «نیمو» برای اولین بار به مدرسه رفته بود، توسط غواصی شکار شده و «مارلین» سفر درازی را برای پیدا کردن او آغاز می‌کند.\n",
            "جستوجو: 3 نتیجه : فیلم :A Cool Fish \n",
            "\n",
            "بازیگران : Jianbin Chen , Suxi Ren , Binlong Pan , Yu Zhang , Yi Cheng , Enxi Deng , Gang Deng , Xiang Fan , Hai Lin , Kung-Wei Lu , Ruihan Ma , Yinyin Ma , Huanyu Ning , Ce Shi , Yanhui Wang , Bo Xie\n",
            "\n",
            "ژانرهای فیلم : کمدی\n",
            "\n",
            "سال ساخت : 2018\n",
            "\n",
            "کشور های سازنده : چين\n",
            "\n",
            "کارگردان : Xiaozhi Rao\n",
            "\n",
            "نویسنده : Zhilong Lei , Xiaozhi Rao\n",
            "\n",
            "6.9 : imdb امتیاز\n",
            "\n",
            "خلاصه فیلم : دو جنایتکار دست به سرقت از آپارتمان یک زن میزنند اما همه چیز خوب پیش نمیرود و یک پلیس سابق به سراغ آن ها می آید و...\n",
            "جستوجو: 4 نتیجه : فیلم : ماهی بزرگ (Big Fish)\n",
            "\n",
            "بازیگران : Ewan McGregor , Albert Finney , Billy Crudup , Jessica Lange , Helena Bonham Carter , Alison Lohman , Robert Guillaume , Marion Cotillard , Matthew McGrory , David Denman , Missi Pyle , Loudon Wainwright III , Ada Tai , Arlene Tai , Steve Buscemi , Danny DeVito\n",
            "\n",
            "ژانرهای فیلم : درام , عاشقانه , فانتزی , ماجراجویی\n",
            "\n",
            "سال ساخت : 2003\n",
            "\n",
            "کشور های سازنده : آمریکا\n",
            "\n",
            "کارگردان : Tim Burton\n",
            "\n",
            "نویسنده : Daniel Wallace , John August\n",
            "\n",
            "8.0 : imdb امتیاز\n",
            "\n",
            "خلاصه فیلم : پدری که در طول زندگی اش عاشق قصه گویی بوده و همواره قصه های شیرینی از زندگی خود برای روایت کردن دارد و پسری که تمام قصه های پدر را زاییده ذهن او و کذب می داند و از اینکه همواره در طول زندگی اش مجبور بوده به این داستانهای دروغین گوش بدهد خسته شده، او فکر می کند که هیچ چیز از زندگی واقعی پدرش نمی داند و حالا که خودش در آستانه بچه دار شدن است دوست دارد به واقعیت زندگی خود وپدرش آگاه شود. حالا پدر در آستانه مرگ است و قصه ها هم رو به پایان...\n",
            "جستوجو: 5 نتیجه : فیلم : ماهی سرد (Cold Fish)\n",
            "\n",
            "بازیگران : Mitsuru Fukikoshi , Denden , Asuka Kurosawa , Megumi Kagurazaka , Hikari Kajiwara , Tetsu Watanabe , Makoto Ashikawa , Lorena Kotô , Masaki Miura , Jyonmyon Pe , Suwaru Ryû , Rina Saito , Masahiko Sakata , Tarô Suwa\n",
            "\n",
            "ژانرهای فیلم : ترسناک , جنایی , درام , هیجان انگیز\n",
            "\n",
            "سال ساخت : 2010\n",
            "\n",
            "کشور های سازنده : ژاپن\n",
            "\n",
            "کارگردان : Sion Sono\n",
            "\n",
            "نویسنده : Sion Sono , Yoshiki Takahashi\n",
            "\n",
            "7.1 : imdb امتیاز\n",
            "\n",
            "خلاصه اول فیلم : وقتی دختر نوجوان \"سایاموتو\" هنگام دزدی دستگیر می شود، یک مرد باهوش برای درست شدن اوضاع به او کمک می کند. مرد و همسرش پیشنهاد می دهند دختر دردسرساز او در فروشگاه ماهی آنها کار کند. \"سایاموتو\" پس از مدتی حقیقتی هولناک در مورد این زوج را متوجه می شود و...\n",
            "خلاصه دوم فیلم : وقتی دختر نوجوان \"سایاموتو\" هنگام دزدی دستگیر می شود، یک مرد باهوش برای درست شدن اوضاع به او کمک می کند. مرد و همسرش پیشنهاد می دهند دختر دردسرساز او در فروشگاه ماهی آنها کار کند. \"سایاموتو\" پس از مدتی حقیقتی هولناک در مورد این زوج را متوجه می شود و...\n",
            "----------\n",
            "به عنوان یک دستیار کاربر ، متن مناسب از نتایج حاصل جست جو با توجه به مشخصات فیلم درخواستی کاربر بنویسید.\n",
            "    \n"
          ]
        }
      ],
      "source": [
        "print(generative_prompt)"
      ]
    },
    {
      "cell_type": "code",
      "execution_count": null,
      "metadata": {
        "colab": {
          "base_uri": "https://localhost:8080/"
        },
        "id": "m3vutRAIaWWX",
        "outputId": "5dcbc9c0-6824-49db-fbed-322a7027c00f"
      },
      "outputs": [
        {
          "name": "stderr",
          "output_type": "stream",
          "text": [
            "Your text contains a trailing whitespace, which has been trimmed to ensure high quality generations.\n"
          ]
        }
      ],
      "source": [
        "response = co.generate(\n",
        "  model='command',\n",
        "  prompt=generative_prompt,\n",
        "  max_tokens=10000)"
      ]
    },
    {
      "cell_type": "code",
      "execution_count": null,
      "metadata": {
        "id": "jc9fFmMsxrtR"
      },
      "outputs": [],
      "source": [
        "translator = Translator()\n"
      ]
    },
    {
      "cell_type": "code",
      "execution_count": null,
      "metadata": {
        "id": "QZib5VjJvci4"
      },
      "outputs": [],
      "source": [
        "generation_text = response.generations[0].text"
      ]
    },
    {
      "cell_type": "code",
      "execution_count": null,
      "metadata": {
        "colab": {
          "base_uri": "https://localhost:8080/"
        },
        "id": "e0rWn5PKdR5Q",
        "outputId": "a8ee3d98-33e0-4089-ed0f-67998a4a18d2"
      },
      "outputs": [
        {
          "name": "stdout",
          "output_type": "stream",
          "text": [
            "در اینجا خلاصه طرح نمونه برای فیلم *Finding Dory *، که می توانید به عنوان الگوی برای نوشتن خلاصه طرح برای *ماهی سرد *استفاده کنید.\n",
            "\n",
            "\"ماهی سرد\" داستانی در مورد دختر جوانی به نام سایما است که پدرش به دلیل سرقت پول از کارفرمای خود به اشتباه گرفتار و زندانی شده است.پس از محکومیت ، سایما و پدرش سعی می کنند با این واقعیت که او به زندان می رود و تمام پیامدهایی که با آن وارد می شود ، کنار بیایند.آنها همچنین باید با واقعیت وضعیت خود مقابله کنند ، زیرا پدر سایما سرانجام مجبور می شود فروشگاه ماهی خود را بفروشد تا بدهی خود را بپردازد.با وجود این چالش ها ، سایما به پدرش وفادار است و مصمم است که از طریق حبس خود به او کمک کند.\n",
            "\n",
            "این فیلم از سایما پیروی می کند که او در تلاش است تا با حبس پدرش و تأثیر آن بر خانواده اش همراه شود.در طول فیلم ، عزم سایما برای کمک به پدرش و تعهد او به او یک موضوع ثابت است.این فیلم همچنین مضامین خانواده ، وفاداری و پیامدهای فعالیت جنایی را مورد بررسی قرار می دهد.\n"
          ]
        }
      ],
      "source": [
        "print(translator.translate(generation_text,src='en', dest='fa').text)"
      ]
    }
  ],
  "metadata": {
    "colab": {
      "provenance": []
    },
    "kernelspec": {
      "display_name": "Python 3",
      "name": "python3"
    },
    "language_info": {
      "name": "python"
    }
  },
  "nbformat": 4,
  "nbformat_minor": 0
}

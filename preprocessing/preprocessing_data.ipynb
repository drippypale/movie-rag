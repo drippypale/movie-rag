{
  "nbformat": 4,
  "nbformat_minor": 0,
  "metadata": {
    "colab": {
      "provenance": []
    },
    "kernelspec": {
      "name": "python3",
      "display_name": "Python 3"
    },
    "language_info": {
      "name": "python"
    }
  },
  "cells": [
    {
      "cell_type": "markdown",
      "source": [
        "# import dependecies"
      ],
      "metadata": {
        "id": "4fEFYBWZK5VY"
      }
    },
    {
      "cell_type": "code",
      "source": [
        "import numpy as np\n",
        "import pandas as pd\n",
        "import re\n",
        "import ast"
      ],
      "metadata": {
        "id": "qic2LWkkayGp"
      },
      "execution_count": 1,
      "outputs": []
    },
    {
      "cell_type": "markdown",
      "source": [
        "# reading movies datasets"
      ],
      "metadata": {
        "id": "2CWbGYsfK9Ea"
      }
    },
    {
      "cell_type": "code",
      "execution_count": 2,
      "metadata": {
        "id": "_zUoRX5xTz-h"
      },
      "outputs": [],
      "source": [
        "#ava_movies_df = pd.read_csv('/content/drive/MyDrive/nlp_datasets/ava_movies.csv')\n",
        "digi_movies_df = pd.read_csv('/content/drive/MyDrive/nlp/digi_movies.csv')\n",
        "kio_movies_df = pd.read_csv('/content/drive/MyDrive/nlp/kio_movies.csv')\n",
        "tiny_movies_df = pd.read_csv('/content/drive/MyDrive/nlp/tiny_movies.csv')\n",
        "uptv_movies_df = pd.read_csv('/content/drive/MyDrive/nlp/uptv_movies.csv')\n",
        "validation_dataset = pd.read_csv('/content/drive/MyDrive/nlp/movie_data_set.csv')"
      ]
    },
    {
      "cell_type": "markdown",
      "source": [
        "# preprocessing"
      ],
      "metadata": {
        "id": "N8j-YalMLLmt"
      }
    },
    {
      "cell_type": "code",
      "source": [
        "# Function to extract IMDb IDs\n",
        "def extract_imdb_id(url):\n",
        "    if pd.isna(url):  # Handle NaN values\n",
        "        return None\n",
        "    match = re.search(r'tt(\\d+)', str(url))  # Convert to string before applying regex\n",
        "    if match:\n",
        "        return f\"tt{match.group(1)}\"\n",
        "    else:\n",
        "        return None"
      ],
      "metadata": {
        "id": "ZFPFnWuSUaH8"
      },
      "execution_count": 3,
      "outputs": []
    },
    {
      "cell_type": "markdown",
      "source": [
        "extract imdb's ids"
      ],
      "metadata": {
        "id": "-wVWn7qmLPMu"
      }
    },
    {
      "cell_type": "code",
      "source": [
        "digi_movies_df['idf'] = digi_movies_df['idf'].apply(extract_imdb_id)\n",
        "kio_movies_df['idf'] = kio_movies_df['idf'].apply(extract_imdb_id)\n",
        "tiny_movies_df['idf'] = tiny_movies_df['idf'].apply(extract_imdb_id)\n",
        "uptv_movies_df['idf'] = uptv_movies_df['idf'].apply(extract_imdb_id)"
      ],
      "metadata": {
        "id": "M9sr2gYkUpX7"
      },
      "execution_count": 4,
      "outputs": []
    },
    {
      "cell_type": "code",
      "source": [
        "merged_df = pd.concat([digi_movies_df['idf'], kio_movies_df['idf'], tiny_movies_df['idf'], uptv_movies_df['idf']], axis=1)\n",
        "merged_df.columns = ['idf1', 'idf2', 'idf3', 'idf4']\n",
        "\n",
        "# Count the number of unique IMDb IDs in each dataset\n",
        "unique_counts = merged_df.nunique()\n",
        "\n",
        "# Count the number of common IMDb IDs between pairs of datasets\n",
        "common_counts = {}\n",
        "common_counts['df1_df2'] = merged_df[['idf1', 'idf2']].dropna().nunique()['idf1']\n",
        "common_counts['df1_df3'] = merged_df[['idf1', 'idf3']].dropna().nunique()['idf1']\n",
        "common_counts['df1_df4'] = merged_df[['idf1', 'idf4']].dropna().nunique()['idf1']\n",
        "common_counts['df2_df3'] = merged_df[['idf2', 'idf3']].dropna().nunique()['idf2']\n",
        "common_counts['df2_df4'] = merged_df[['idf2', 'idf4']].dropna().nunique()['idf2']\n",
        "common_counts['df3_df4'] = merged_df[['idf3', 'idf4']].dropna().nunique()['idf3']\n",
        "\n",
        "# Count the number of common IMDb IDs across all four datasets\n",
        "common_counts['all_datasets'] = merged_df.dropna().nunique().min()\n",
        "\n",
        "# Print the results\n",
        "print(\"Number of unique IMDb IDs in each dataset:\")\n",
        "print(unique_counts)\n",
        "print(\"\\nNumber of common IMDb IDs between pairs of datasets and across all four datasets:\")\n",
        "print(common_counts)"
      ],
      "metadata": {
        "colab": {
          "base_uri": "https://localhost:8080/"
        },
        "id": "5WmP6ygXUrRY",
        "outputId": "0c10b8cc-9e62-4cfe-c687-d2b63f9611cc"
      },
      "execution_count": 5,
      "outputs": [
        {
          "output_type": "stream",
          "name": "stdout",
          "text": [
            "Number of unique IMDb IDs in each dataset:\n",
            "idf1    6833\n",
            "idf2    9455\n",
            "idf3    1698\n",
            "idf4    4681\n",
            "dtype: int64\n",
            "\n",
            "Number of common IMDb IDs between pairs of datasets and across all four datasets:\n",
            "{'df1_df2': 6831, 'df1_df3': 1693, 'df1_df4': 4724, 'df2_df3': 1696, 'df2_df4': 4724, 'df3_df4': 1695, 'all_datasets': 1673}\n"
          ]
        }
      ]
    },
    {
      "cell_type": "markdown",
      "source": [
        "drop duplicates based on imdb's ids"
      ],
      "metadata": {
        "id": "c30ZJIbdLimt"
      }
    },
    {
      "cell_type": "code",
      "source": [
        "# Drop duplicates based on IMDb ID column in each dataframe\n",
        "digi_movies_df = digi_movies_df.drop_duplicates(subset=['idf'])\n",
        "tiny_movies_df = tiny_movies_df.drop_duplicates(subset=['idf'])\n",
        "uptv_movies_df = uptv_movies_df.drop_duplicates(subset=['idf'])\n",
        "kio_movies_df = kio_movies_df.drop_duplicates(subset=['idf'])"
      ],
      "metadata": {
        "id": "1Fd2PG6oUt6N"
      },
      "execution_count": 6,
      "outputs": []
    },
    {
      "cell_type": "code",
      "source": [
        "tiny_movies_df = tiny_movies_df.rename(columns={'summ': 'summary'})"
      ],
      "metadata": {
        "id": "xB_g3TtiUxDs"
      },
      "execution_count": 7,
      "outputs": []
    },
    {
      "cell_type": "markdown",
      "source": [
        "merge datasets based on imdb's ids\n",
        "\n"
      ],
      "metadata": {
        "id": "cKOq8l0lLotO"
      }
    },
    {
      "cell_type": "code",
      "source": [
        "# Merge digi_movies_df summary into kio_movies_df\n",
        "kio_movies_df = kio_movies_df.merge(digi_movies_df[['idf', 'summary']], on='idf', how='left', suffixes=('', '_digi'))\n",
        "\n",
        "# Merge tiny_movies_df summary into kio_movies_df\n",
        "kio_movies_df = kio_movies_df.merge(tiny_movies_df[['idf', 'summary']], on='idf', how='left', suffixes=('', '_tiny'))\n",
        "\n",
        "# Merge uptv_movies_df summary into kio_movies_df\n",
        "kio_movies_df = kio_movies_df.merge(uptv_movies_df[['idf', 'summary', 'story']], on='idf', how='left', suffixes=('', '_uptv'))"
      ],
      "metadata": {
        "id": "lEE79z-7UzLi"
      },
      "execution_count": 8,
      "outputs": []
    },
    {
      "cell_type": "code",
      "source": [
        "kio_movies_df = kio_movies_df.rename(columns={'summary': 'summary_kio'})"
      ],
      "metadata": {
        "id": "80dMJSZ1U1TY"
      },
      "execution_count": 9,
      "outputs": []
    },
    {
      "cell_type": "code",
      "source": [
        "kio_movies_df['actors'] = kio_movies_df['actors'].apply(ast.literal_eval)\n",
        "kio_movies_df['genres'] = kio_movies_df['genres'].apply(ast.literal_eval)\n",
        "kio_movies_df['countries'] = kio_movies_df['countries'].apply(ast.literal_eval)\n",
        "kio_movies_df['languages'] = kio_movies_df['languages'].apply(ast.literal_eval)\n",
        "kio_movies_df['directors'] = kio_movies_df['directors'].apply(ast.literal_eval)\n",
        "kio_movies_df['authors'] = kio_movies_df['authors'].apply(ast.literal_eval)\n",
        "kio_movies_df['stars'] = kio_movies_df['stars'].apply(ast.literal_eval)\n"
      ],
      "metadata": {
        "id": "7_YW5dOZU3xm"
      },
      "execution_count": 10,
      "outputs": []
    },
    {
      "cell_type": "markdown",
      "source": [
        "remove unneccesaries coloumns"
      ],
      "metadata": {
        "id": "_Qo-QSLRMI9y"
      }
    },
    {
      "cell_type": "code",
      "source": [
        "kio_movies_df.drop(columns=['crit_score', 'tomato_score'], inplace=True)"
      ],
      "metadata": {
        "id": "9rDBuPFYY4rd"
      },
      "execution_count": 11,
      "outputs": []
    },
    {
      "cell_type": "code",
      "source": [
        "kio_movies_df['imdb_score'] = kio_movies_df['imdb_score'].apply(lambda x: x.split('/')[0])\n"
      ],
      "metadata": {
        "id": "f7S3NjMcZ_hf"
      },
      "execution_count": 12,
      "outputs": []
    },
    {
      "cell_type": "code",
      "source": [
        "kio_movies_df['release'] = kio_movies_df['release'].astype(str).apply(lambda x: x.split('.')[0])"
      ],
      "metadata": {
        "id": "dqH9IWp4agkx"
      },
      "execution_count": 13,
      "outputs": []
    },
    {
      "cell_type": "markdown",
      "source": [
        "preprocess text of summaries of movies"
      ],
      "metadata": {
        "id": "CUJUwhKlMS_u"
      }
    },
    {
      "cell_type": "code",
      "source": [
        "def preprocess_persian_text(text):\n",
        "  if isinstance(text, str):\n",
        "    # Remove white spaces\n",
        "    text = re.sub(r'\\s{2,}', ' ', text)\n",
        "\n",
        "    # Change English numbers to Persian numbers\n",
        "    persian_numbers = {'0': '۰', '1': '۱', '2': '۲', '3': '۳', '4': '۴',\n",
        "                       '5': '۵', '6': '۶', '7': '۷', '8': '۸', '9': '۹'}\n",
        "    for eng_num, per_num in persian_numbers.items():\n",
        "        text = text.replace(eng_num, per_num)\n",
        "\n",
        "    # Add more preprocessing steps here if needed\n",
        "\n",
        "    return text"
      ],
      "metadata": {
        "id": "kBGeqpWRiULJ"
      },
      "execution_count": 14,
      "outputs": []
    },
    {
      "cell_type": "code",
      "source": [
        "kio_movies_df['summary_kio'] = kio_movies_df['summary_kio'].apply(preprocess_persian_text)\n",
        "kio_movies_df['summary_digi'] = kio_movies_df['summary_digi'].apply(preprocess_persian_text)\n",
        "kio_movies_df['summary_tiny'] = kio_movies_df['summary_tiny'].apply(preprocess_persian_text)\n",
        "kio_movies_df['summary_uptv'] = kio_movies_df['summary_uptv'].apply(preprocess_persian_text)\n",
        "kio_movies_df['story'] = kio_movies_df['story'].apply(preprocess_persian_text)"
      ],
      "metadata": {
        "id": "u-Bwz--ciWXg"
      },
      "execution_count": 15,
      "outputs": []
    },
    {
      "cell_type": "code",
      "source": [
        "# Flatten the lists in the 'languages' column\n",
        "flattened_languages = kio_movies_df['languages'].explode()\n",
        "\n",
        "# Get unique values\n",
        "unique_languages = flattened_languages.unique()\n",
        "\n",
        "# Print unique values\n",
        "print(unique_languages)"
      ],
      "metadata": {
        "colab": {
          "base_uri": "https://localhost:8080/"
        },
        "id": "S_Is6ltQst6a",
        "outputId": "1722a639-dc55-448b-bee8-f67969116c77"
      },
      "execution_count": 16,
      "outputs": [
        {
          "output_type": "stream",
          "name": "stdout",
          "text": [
            "['English' 'Hindi' 'Cantonese' 'Italian' 'Spanish' 'Mandarin' 'Russian'\n",
            " 'Japanese' 'Japanese Sign Language' 'Portuguese' 'Thai' 'Ukrainian'\n",
            " 'German' 'Chinese' 'French' 'Bulgarian' 'Esperanto' 'Abkhazian' 'Urdu'\n",
            " 'Korean' 'None' 'Latin' 'Old English' 'Malay' 'Vietnamese' 'Inuktitut'\n",
            " 'Croatian' 'Serbian' 'Yiddish' nan 'Indonesian' 'Norwegian' 'Greek'\n",
            " 'Catalan' 'Saami' 'Hawaiian' 'American Sign Language' 'Tibetan'\n",
            " 'Armenian' 'Min Nan' 'Icelandic' 'Algonquin' 'Arabic' 'Danish'\n",
            " 'Irish Gaelic' 'Gaelic' 'Turkish' 'Swahili' 'Xhosa' 'Zulu' 'Dutch'\n",
            " 'Hebrew' 'Hungarian' 'Polish' 'Shanghainese' 'Czech' 'Bengali' 'Persian'\n",
            " 'Punjabi' 'Somali' 'Swedish' 'Navajo' 'Bosnian' 'Corsican' 'Tswana'\n",
            " 'Filipino' 'Tamil' 'Telugu' 'Malayalam' 'Kannada' 'Romanian' 'Romany'\n",
            " 'Middle English' 'Marathi' 'Quechua' 'Lao' 'Azerbaijani' 'Mende'\n",
            " 'Georgian' 'Tatar' 'Swiss German' ' Ancient (to 1453)' 'Maya'\n",
            " 'Apache languages' 'Maori' 'Bable' 'Lithuanian' 'Korean Sign Language'\n",
            " 'Wolof' 'Finnish' 'Aboriginal' 'Kyrgyz' 'Berber languages' 'Awadhi'\n",
            " 'Akan' 'Macedonian' 'Albanian' 'Serbo-Croatian' 'Kurdish' 'Soninke'\n",
            " 'Amharic' 'Central Khmer' 'Chechen' 'Chaozhou' 'Dari' 'Wayuu' 'Nama'\n",
            " 'Latvian' 'Afrikaans' 'British Sign Language' 'Crow' 'Mongolian' 'Basque'\n",
            " 'Slovak' 'Teochew' 'Flemish' 'Ewe' 'Spanish Sign Language' 'Malinka'\n",
            " 'French Sign Language' 'Shoshoni' 'Belarusian' 'Slovenian' 'Tagalog'\n",
            " 'Hokkien' 'Sign Languages' 'Sioux' 'Pawnee' 'Cree' 'Polynesian' 'Nyanja'\n",
            " 'Sotho' 'Sumerian' 'Welsh' 'Syriac' 'Assyrian Neo-Aramaic' 'Samoan'\n",
            " 'Scots' 'North American Indian' 'Klingon' 'Hmong' 'Greenlandic' 'Yoruba'\n",
            " 'Dinka' 'Cheyenne' 'Kinyarwanda' 'Bemba' 'Tonga (Tonga Islands)' 'Nepali'\n",
            " 'Sinhala' 'Brazilian Sign Language' 'Kashmiri' 'Tupi' 'Sicilian'\n",
            " 'Cornish' 'Bambara' 'Pashtu' 'Uzbek' 'Acholi' 'Neapolitan' 'Gujarati'\n",
            " 'Maltese' 'Mohawk' 'Mapudungun' 'Dyula' 'Nushi' 'Estonian' 'Rajasthani'\n",
            " 'Burmese' 'Norse' ' Old' 'Kriolu' 'Aragonese' 'Papiamento' 'Kirundi'\n",
            " 'Washoe' 'Hausa' 'Mixtec' 'Luxembourgish' 'Sanskrit' 'Egyptian (Ancient)'\n",
            " 'Aramaic' 'Haryanvi' 'Galician' 'Germany' 'Haitian' 'Ungwatsi' 'Lingala'\n",
            " 'Guarani' 'Assamese' 'Oriya' 'Sindarin' 'Quenya' 'Tok Pisin'\n",
            " 'Ukrainian Sign Language' 'Songhay' 'Tamashek' 'Ibo' 'Bhojpuri' 'Turkmen'\n",
            " 'East-Greenlandic' 'Kazakh']\n"
          ]
        }
      ]
    },
    {
      "cell_type": "code",
      "source": [
        "language_mapping = {\n",
        "    'English': 'انگلیسی',\n",
        "    'Hindi': 'هندی',\n",
        "    'Cantonese': 'کانتونی',\n",
        "    'Italian': 'ایتالیایی',\n",
        "    'Spanish': 'اسپانیایی',\n",
        "    'Mandarin': 'ماندارین',\n",
        "    'Russian': 'روسی',\n",
        "    'Japanese': 'ژاپنی',\n",
        "    'Japanese Sign Language': 'زبان اشاره ژاپنی',\n",
        "    'Portuguese': 'پرتغالی',\n",
        "    'Thai': 'تایلندی',\n",
        "    'Ukrainian': 'اوکراینی',\n",
        "    'German': 'آلمانی',\n",
        "    'Chinese': 'چینی',\n",
        "    'French': 'فرانسوی',\n",
        "    'Bulgarian': 'بلغاری',\n",
        "    'Esperanto': 'اسپرانتو',\n",
        "    'Abkhazian': 'آبخازی',\n",
        "    'Urdu': 'اردو',\n",
        "    'Korean': 'کره ای',\n",
        "    'None': 'هیچ',\n",
        "    'Latin': 'لاتین',\n",
        "    'Old English': 'انگلیسی باستان',\n",
        "    'Malay': 'مالایی',\n",
        "    'Vietnamese': 'ویتنامی',\n",
        "    'Inuktitut': 'اینوکتیتوت',\n",
        "    'Croatian': 'کرواتی',\n",
        "    'Serbian': 'صربی',\n",
        "    'Yiddish': 'یدیش',\n",
        "    'Indonesian': 'اندونزیایی',\n",
        "    'Norwegian': 'نروژی',\n",
        "    'Greek': 'یونانی',\n",
        "    'Catalan': 'کاتالان',\n",
        "    'Saami': 'سامی',\n",
        "    'Hawaiian': 'هاوایی',\n",
        "    'American Sign Language': 'زبان اشاره آمریکایی',\n",
        "    'Tibetan': 'تبتی',\n",
        "    'Armenian': 'ارمنی',\n",
        "    'Min Nan': 'مین نان',\n",
        "    'Icelandic': 'ایسلندی',\n",
        "    'Algonquin': 'الگونکین',\n",
        "    'Arabic': 'عربی',\n",
        "    'Danish': 'دانمارکی',\n",
        "    'Irish Gaelic': 'ایرلندی',\n",
        "    'Gaelic': 'گیلیک',\n",
        "    'Turkish': 'ترکی',\n",
        "    'Swahili': 'سواهیلی',\n",
        "    'Xhosa': 'خوسا',\n",
        "    'Zulu': 'زولو',\n",
        "    'Dutch': 'هلندی',\n",
        "    'Hebrew': 'عبری',\n",
        "    'Hungarian': 'مجاری',\n",
        "    'Polish': 'لهستانی',\n",
        "    'Shanghainese': 'شانگهایی',\n",
        "    'Czech': 'چکی',\n",
        "    'Bengali': 'بنگالی',\n",
        "    'Persian': 'فارسی',\n",
        "    'Punjabi': 'پنجابی',\n",
        "    'Somali': 'سومالیایی',\n",
        "    'Swedish': 'سوئدی',\n",
        "    'Navajo': 'ناواهو',\n",
        "    'Bosnian': 'بوسنیایی',\n",
        "    'Corsican': 'کرسی',\n",
        "    'Tswana': 'تسوانا',\n",
        "    'Filipino': 'فیلیپینی',\n",
        "    'Tamil': 'تامیل',\n",
        "    'Telugu': 'تلوگو',\n",
        "    'Malayalam': 'مالایالم',\n",
        "    'Kannada': 'کانادا',\n",
        "    'Romanian': 'رومانیایی',\n",
        "    'Romany': 'رومانی',\n",
        "    'Middle English': 'انگلیسی میانه',\n",
        "    'Marathi': 'مراتی',\n",
        "    'Quechua': 'کویچوایی',\n",
        "    'Lao': 'لاوی',\n",
        "    'Azerbaijani': 'آذربایجانی',\n",
        "    'Mende': 'منده',\n",
        "    'Georgian': 'گرجی',\n",
        "    'Tatar': 'تاتاری',\n",
        "    'Swiss German': 'آلمانی سوئیسی',\n",
        "    ' Ancient (to 1453)': 'باستانی (تا ۱۴۵۳)',\n",
        "    'Maya': 'مایا',\n",
        "    'Apache languages': 'زبان‌های آپاچی',\n",
        "    'Maori': 'مائوری',\n",
        "    'Bable': 'بابل',\n",
        "    'Lithuanian': 'لیتوانیایی',\n",
        "    'Korean Sign Language': 'زبان اشاره کره ای',\n",
        "    'Wolof': 'ولوف',\n",
        "    'Finnish': 'فنلاندی',\n",
        "    'Aboriginal': 'بومی',\n",
        "    'Kyrgyz': 'قرقیزی',\n",
        "    'Berber languages': 'زبان‌های بربری',\n",
        "    'Awadhi': 'آوادی',\n",
        "    'Akan': 'اکان',\n",
        "    'Macedonian': 'مقدونی',\n",
        "    'Albanian': 'آلبانیایی',\n",
        "    'Serbo-Croatian': 'صرب و کروات',\n",
        "    'Kurdish': 'کردی',\n",
        "    'Soninke': 'سونینکه',\n",
        "    'Amharic': 'امهری',\n",
        "    'Central Khmer': 'خمری مرکزی',\n",
        "    'Chechen': 'چچنی',\n",
        "    'Chaozhou': 'چائوژو',\n",
        "    'Dari': 'دری',\n",
        "    'Wayuu': 'وایو',\n",
        "    'Nama': 'ناما',\n",
        "    'Latvian': 'لتونیایی',\n",
        "    'Afrikaans': 'آفریکانس',\n",
        "    'British Sign Language': 'زبان اشاره بریتانیایی',\n",
        "    'Crow': 'کرو',\n",
        "    'Mongolian': 'مغولی',\n",
        "    'Basque': 'باسکی',\n",
        "    'Slovak': 'اسلواکی',\n",
        "    'Teochew': 'تئوچئویی',\n",
        "    'Flemish': 'فلاندری',\n",
        "    'Ewe': 'اوه',\n",
        "    'Spanish Sign Language': 'زبان اشاره اسپانیایی',\n",
        "    'Malinka': 'مالینکا',\n",
        "    'French Sign Language': 'زبان اشاره فرانسوی',\n",
        "    'Shoshoni': 'شوشونی',\n",
        "    'Belarusian': 'بلاروسی',\n",
        "    'Slovenian': 'اسلوونیایی',\n",
        "    'Tagalog': 'تاگالوگ',\n",
        "    'Hokkien': 'هوکیانی',\n",
        "    'Sign Languages': 'زبان‌های اشاره',\n",
        "    'Sioux': 'سیو',\n",
        "    'Pawnee': 'پاونی',\n",
        "    'Cree': 'کری',\n",
        "    'Polynesian': 'پلی‌نزی',\n",
        "    'Nyanja': 'نیانجا',\n",
        "    'Sotho': 'سوتو',\n",
        "    'Sumerian': 'سومری',\n",
        "    'Welsh': 'ویلزی',\n",
        "    'Syriac': 'سریانی',\n",
        "    'Assyrian Neo-Aramaic': 'آشوری',\n",
        "    'Samoan': 'ساموآیی',\n",
        "    'Scots': 'اسکاتلندی',\n",
        "    'North American Indian': 'هندی آمریکای شمالی',\n",
        "    'Klingon': 'کلینگون',\n",
        "    'Hmong': 'همونگ',\n",
        "    'Greenlandic': 'گرینلندی',\n",
        "    'Yoruba': 'یوروبا',\n",
        "    'Dinka': 'دینکا',\n",
        "    'Cheyenne': 'شاینی',\n",
        "    'Kinyarwanda': 'کینیارواندا',\n",
        "    'Bemba': 'بمبا',\n",
        "    'Tonga (Tonga Islands)': 'تونگایی (جزایر تونگا)',\n",
        "    'Nepali': 'نپالی',\n",
        "    'Sinhala': 'سینهالا',\n",
        "    'Brazilian Sign Language': 'زبان اشاره برزیلی',\n",
        "    'Kashmiri': 'کشمیری',\n",
        "    'Tupi': 'توپی',\n",
        "    'Sicilian': 'سیسیلی',\n",
        "    'Cornish': 'کورنی',\n",
        "    'Bambara': 'بامبارا',\n",
        "    'Pashtu': 'پشتو',\n",
        "    'Uzbek': 'ازبکی',\n",
        "    'Acholi': 'آچولی',\n",
        "    'Neapolitan': 'ناپلی',\n",
        "    'Gujarati': 'گجراتی',\n",
        "    'Maltese': 'مالتی',\n",
        "    'Mohawk': 'موهاک',\n",
        "    'Mapudungun': 'ماپودونگان',\n",
        "    'Dyula': 'دیولا',\n",
        "    'Nushi': 'نوشی',\n",
        "    'Estonian': 'استونیایی',\n",
        "    'Rajasthani': 'راجستانی',\n",
        "    'Burmese': 'برمه‌ای',\n",
        "    'Norse': 'نورس',\n",
        "    ' Old': 'قدیمی',\n",
        "    'Kriolu': 'کریولو',\n",
        "    'Aragonese': 'آراگونی',\n",
        "    'Papiamento': 'پاپیامنتو',\n",
        "    'Kirundi': 'کیروندی',\n",
        "    'Washoe': 'واشو',\n",
        "    'Hausa': 'هوسا',\n",
        "    'Mixtec': 'میکستک',\n",
        "    'Luxembourgish': 'لوکزامبورگی',\n",
        "    'Sanskrit': 'سانسکریت',\n",
        "    'Egyptian (Ancient)': 'مصری باستانی',\n",
        "    'Aramaic': 'آرامی',\n",
        "    'Haryanvi': 'هاریانوی',\n",
        "    'Galician': 'گالیسیایی',\n",
        "    'Germany': 'آلمان',\n",
        "    'Haitian': 'هائیتیایی',\n",
        "    'Ungwatsi': 'اونگواتسی',\n",
        "    'Lingala': 'لینگالا',\n",
        "    'Guarani': 'گوارانی',\n",
        "    'Assamese': 'آسامی',\n",
        "    'Oriya': 'اوریا',\n",
        "    'Sindarin': 'سیندارین',\n",
        "    'Quenya': 'کوئنیا',\n",
        "    'Tok Pisin': 'توک پیسین',\n",
        "    'Ukrainian Sign Language': 'زبان اشاره اوکراینی',\n",
        "    'Songhay': 'سونگای',\n",
        "    'Tamashek': 'تاماشک',\n",
        "    'Ibo': 'ایبو',\n",
        "    'Bhojpuri': 'بهوجپوری',\n",
        "    'Turkmen': 'ترکمنی',\n",
        "    'East-Greenlandic': 'گرینلند شرقی',\n",
        "    'Kazakh': 'قزاقی'\n",
        "}\n"
      ],
      "metadata": {
        "id": "DA49m18-uixj"
      },
      "execution_count": 17,
      "outputs": []
    },
    {
      "cell_type": "code",
      "source": [
        "kio_movies_df['languages_fa'] = kio_movies_df['languages'].apply(lambda x: [language_mapping[l] for l in x])"
      ],
      "metadata": {
        "id": "mfeCfAFBumqR"
      },
      "execution_count": 18,
      "outputs": []
    },
    {
      "cell_type": "code",
      "source": [
        "# Flatten the lists in the 'languages' column\n",
        "flattened_countries = kio_movies_df['countries'].explode()\n",
        "\n",
        "# Get unique values\n",
        "unique_countries = flattened_countries.unique()\n",
        "\n",
        "# Print unique values\n",
        "print(unique_countries)"
      ],
      "metadata": {
        "colab": {
          "base_uri": "https://localhost:8080/"
        },
        "id": "VWXaQWDCusDl",
        "outputId": "b3f34eea-d5b1-45c9-9243-a2de15aeac69"
      },
      "execution_count": 19,
      "outputs": [
        {
          "output_type": "stream",
          "name": "stdout",
          "text": [
            "['آمریکا' 'کانادا' 'هنگ کنگ' 'آلمان' 'انگلستان' 'ژاپن' 'چين' 'کره جنوبی'\n",
            " 'فرانسه' 'استرالیا' 'تایوان' 'بلژیک' 'مکزیک' 'اسپانیا' 'ایرلند' 'لتونی'\n",
            " 'هندوستان' 'مالزی' nan 'لوکزامبورگ' 'کلمبیا' 'اتریش' 'دانمارک' 'نروژ'\n",
            " 'سوئیس' 'لهستان' 'هلند' 'اوکراین' 'نیوزلند' 'پرو' 'اندونزی'\n",
            " 'امارات متحده عربی' 'برزیل' 'جمهوری چک' 'فنلاند' 'اسرائيل' 'ایتالیا'\n",
            " 'مجارستان' 'سوئد' 'شیلی' 'آلمان غربی' 'لیتوانی' 'کامبوج' 'ایران'\n",
            " 'آرژانتین' 'اروگوئه' 'ایسلند' 'ترکیه' 'روسیه' 'بلغارستان' 'رومانی' 'مالت'\n",
            " 'آذربایجان' 'گرجستان' 'اتحاد جماهیر شوروی' 'اسلوونی' 'یونان' 'سنگاپور'\n",
            " 'قطر' 'مراکش' 'مصر' 'سنگال' 'قزاقستان' 'تایلند' 'تونس' 'لبنان'\n",
            " 'جمهوری مقدونیه' 'پرتغال' 'جمهوری فدرال یوگسلاوی' 'بولیوی' 'کره' 'قبرس'\n",
            " 'باهاما' 'اسلواکی' 'غنا' 'استونی' 'بلاروس' 'چکسلواکی' 'صربستان' 'الجزایر'\n",
            " 'کرواسی' 'آفریقای جنوبی' 'پورتوریکو' 'ونزوئلا' 'پاناما' 'اردن'\n",
            " 'عربستان سعودی' 'فیلیپین' 'عراق' 'بوسنی و هرزگوین' 'North Macedonia'\n",
            " 'آلبانی' 'کوزوو' 'Serbia and Montenegro' 'زامبیا' 'ویتنام' 'نیجریه'\n",
            " 'سرزمین فلسطین اشغالی' 'گواتمالا' 'جزیرۀ من' 'یوگسلاوی' 'ماکائو' 'موناکو'\n",
            " 'فیجی' 'اکوادور' 'پاراگوئه' 'پاپوآ گینهٔ نو' 'بحرین' \"Côte d'Ivoire\"\n",
            " 'کنیا' 'اتیوپی' 'Netherlands Antilles' 'وانواتو' 'پاکستان'\n",
            " 'جمهوری دومینیکن' 'مالاوی' 'مغولستان' 'بوتسوانا' 'North Korea'\n",
            " 'Saint Kitts and Nevis' 'کویت' 'لیبی' 'افغانستان' 'جمهوری مقدونیه شمالی'\n",
            " 'لسوتو' 'موریتانی' 'جزایر کیمن' 'سوریه' 'کاستاریکا' 'سری لانکا'\n",
            " 'پلی\\u200cنزی فرانسه' 'پالائو' 'سیرا لئون' 'کنگو' 'لیبریا'\n",
            " 'جمهوری دموکراتیک کنگو']\n"
          ]
        }
      ]
    },
    {
      "cell_type": "code",
      "source": [
        "country_mapping = {\n",
        "    'North Macedonia': 'مقدونیه شمالی',\n",
        "    'Serbia and Montenegro': 'صربستان و مونته\\u200cنگرو',\n",
        "    \"Côte d'Ivoire\": 'ساحل عاج',\n",
        "    'Netherlands Antilles': 'آنتیل هلند',\n",
        "    'North Korea': 'کره شمالی',\n",
        "    'Saint Kitts and Nevis': 'سنت کیتس و نویس',\n",
        "}"
      ],
      "metadata": {
        "id": "H6tVAtesvgHQ"
      },
      "execution_count": 20,
      "outputs": []
    },
    {
      "cell_type": "code",
      "source": [
        "def map_to_persian(countries):\n",
        "    persian_countries = [country_mapping[country] if country in country_mapping else country for country in countries]\n",
        "    return persian_countries\n",
        "\n",
        "# Apply the mapping function directly to the 'countries' column\n",
        "kio_movies_df['countries'] = kio_movies_df['countries'].apply(map_to_persian)\n"
      ],
      "metadata": {
        "id": "PCgwfezLwmc0"
      },
      "execution_count": 21,
      "outputs": []
    },
    {
      "cell_type": "markdown",
      "source": [
        "drop rows that not have name or imdb's id"
      ],
      "metadata": {
        "id": "vdfZkpgpModk"
      }
    },
    {
      "cell_type": "code",
      "source": [
        " kio_movies_df.dropna(subset=['name','idf'],inplace=True)"
      ],
      "metadata": {
        "id": "n8vYyj2UL78p"
      },
      "execution_count": 22,
      "outputs": []
    },
    {
      "cell_type": "code",
      "source": [
        "all_none_rows = kio_movies_df[['summary_kio','summary_digi','summary_tiny','summary_uptv' ,'story']].isnull().all(axis=1)\n",
        "kio_movies_df = kio_movies_df[~all_none_rows]"
      ],
      "metadata": {
        "id": "buTzgnFsMuW_"
      },
      "execution_count": 23,
      "outputs": []
    },
    {
      "cell_type": "markdown",
      "source": [
        "create a column that contain all of summaries"
      ],
      "metadata": {
        "id": "7iAlxk1i22Y8"
      }
    },
    {
      "cell_type": "code",
      "source": [
        "kio_movies_df['total_summary'] = kio_movies_df.apply(lambda row: '\\n'.join([str(item) for item in [row['summary_digi'], row['summary_kio'], row['summary_tiny'], row['summary_uptv'], row['story']] if item is not None]), axis=1)"
      ],
      "metadata": {
        "id": "-tUp5_ethnQr"
      },
      "execution_count": 24,
      "outputs": []
    },
    {
      "cell_type": "code",
      "source": [
        "kio_movies_df.reset_index(drop=True, inplace=True)"
      ],
      "metadata": {
        "id": "XQ20az1PG50t"
      },
      "execution_count": 25,
      "outputs": []
    },
    {
      "cell_type": "markdown",
      "source": [
        "merge dataset for validation part"
      ],
      "metadata": {
        "id": "vZXquwPZ2-j4"
      }
    },
    {
      "cell_type": "code",
      "source": [
        "final_df = pd.merge(kio_movies_df, validation_dataset[['idf', 'similar_movies']], on='idf', how='left')"
      ],
      "metadata": {
        "id": "jLk6sp6JI11n"
      },
      "execution_count": 26,
      "outputs": []
    },
    {
      "cell_type": "code",
      "source": [
        "def convert_to_list_of_tuples(string_repr):\n",
        "    if pd.isna(string_repr):\n",
        "        return []\n",
        "    else:\n",
        "        return ast.literal_eval(string_repr)"
      ],
      "metadata": {
        "id": "UKQhd0IHL06q"
      },
      "execution_count": 27,
      "outputs": []
    },
    {
      "cell_type": "code",
      "source": [
        "final_df['similar_movies'] = final_df['similar_movies'].apply(convert_to_list_of_tuples)"
      ],
      "metadata": {
        "id": "0HTBO5aoMHT4"
      },
      "execution_count": 28,
      "outputs": []
    },
    {
      "cell_type": "code",
      "source": [
        "data_set = final_df.copy(True)\n",
        "\n",
        "for index, row in data_set.iterrows():\n",
        "  for tup in row[\"similar_movies\"]:\n",
        "    if tup[1] not in data_set[\"idf\"].tolist():\n",
        "      row[\"similar_movies\"].remove(tup)\n",
        "\n"
      ],
      "metadata": {
        "id": "vol4Cpwa7hiB"
      },
      "execution_count": 29,
      "outputs": []
    },
    {
      "cell_type": "code",
      "source": [
        "import matplotlib.pyplot as plt\n",
        "\n",
        "# Drop NaN values and calculate the number of movies in each list\n",
        "similar_movies_counts = data_set['similar_movies'].dropna().apply(len)\n",
        "\n",
        "# Plot the distribution\n",
        "plt.figure(figsize=(10, 6))\n",
        "plt.hist(similar_movies_counts, bins=12, color='skyblue', edgecolor='black')\n",
        "plt.xlabel('Number of Similar Movies')\n",
        "plt.ylabel('Frequency')\n",
        "plt.title('Distribution of Number of Similar Movies')\n",
        "plt.grid(True)\n",
        "plt.show()"
      ],
      "metadata": {
        "colab": {
          "base_uri": "https://localhost:8080/",
          "height": 564
        },
        "id": "FLg0wXKM7ul3",
        "outputId": "38c24289-8a52-4126-b2d3-bc048c5db085"
      },
      "execution_count": 30,
      "outputs": [
        {
          "output_type": "display_data",
          "data": {
            "text/plain": [
              "<Figure size 1000x600 with 1 Axes>"
            ],
            "image/png": "[encoded data removed]"
          },
          "metadata": {}
        }
      ]
    },
    {
      "cell_type": "code",
      "source": [
        "filtered_data = data_set[similar_movies_counts == 12]"
      ],
      "metadata": {
        "id": "_xmUPINFj-Mr"
      },
      "execution_count": 31,
      "outputs": []
    },
    {
      "cell_type": "code",
      "source": [
        "genres = filtered_data['genres'].explode()\n",
        "\n",
        "# Count occurrences of each genre\n",
        "genre_counts = genres.value_counts()\n",
        "\n",
        "# Plot histogram\n",
        "plt.figure(figsize=(10, 6))\n",
        "genre_counts.plot(kind='bar', color='skyblue')\n",
        "plt.title('Distribution of Genres')\n",
        "plt.xlabel('Genre')\n",
        "plt.ylabel('Frequency')\n",
        "plt.xticks(rotation=45, ha='right')\n",
        "plt.tight_layout()\n",
        "plt.show()"
      ],
      "metadata": {
        "colab": {
          "base_uri": "https://localhost:8080/",
          "height": 607
        },
        "id": "WDJsYsaFkrsT",
        "outputId": "895cd29a-8b25-476c-c002-fd352d960f54"
      },
      "execution_count": 32,
      "outputs": [
        {
          "output_type": "display_data",
          "data": {
            "text/plain": [
              "<Figure size 1000x600 with 1 Axes>"
            ],
            "image/png": "[encoded data removed]"
          },
          "metadata": {}
        }
      ]
    },
    {
      "cell_type": "code",
      "source": [
        "data_set.to_csv('final_dataset.csv', index=False)"
      ],
      "metadata": {
        "id": "IOgfLIhdw_Qz"
      },
      "execution_count": 33,
      "outputs": []
    },
    {
      "cell_type": "code",
      "source": [
        "filtered_data.to_csv('validation_dataset.csv', index=False)"
      ],
      "metadata": {
        "id": "6uF8YY3xd5DX"
      },
      "execution_count": 34,
      "outputs": []
    }
  ]
}